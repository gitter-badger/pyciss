{
 "cells": [
  {
   "cell_type": "code",
   "execution_count": null,
   "metadata": {
    "collapsed": false
   },
   "outputs": [],
   "source": [
    "import matplotlib\n",
    "matplotlib.use('Agg')\n",
    "import matplotlib.pyplot as plt\n",
    "import gdal"
   ]
  },
  {
   "cell_type": "code",
   "execution_count": null,
   "metadata": {
    "collapsed": false
   },
   "outputs": [],
   "source": [
    "cd ~/data/ciss/PDSdata_miodrak_list/"
   ]
  },
  {
   "cell_type": "code",
   "execution_count": null,
   "metadata": {
    "collapsed": false
   },
   "outputs": [],
   "source": [
    "fnames = !ls *_CALIB.LBL"
   ]
  },
  {
   "cell_type": "code",
   "execution_count": null,
   "metadata": {
    "collapsed": false
   },
   "outputs": [],
   "source": [
    "len(fnames)"
   ]
  },
  {
   "cell_type": "code",
   "execution_count": null,
   "metadata": {
    "collapsed": true
   },
   "outputs": [],
   "source": [
    "import os.path as path"
   ]
  },
  {
   "cell_type": "code",
   "execution_count": null,
   "metadata": {
    "collapsed": false
   },
   "outputs": [],
   "source": [
    "less {fnames[0]}"
   ]
  },
  {
   "cell_type": "code",
   "execution_count": null,
   "metadata": {
    "collapsed": true
   },
   "outputs": [],
   "source": [
    "def get_data(fname):\n",
    "    ds = gdal.Open(fname)\n",
    "    return ds.ReadAsArray()"
   ]
  },
  {
   "cell_type": "code",
   "execution_count": null,
   "metadata": {
    "collapsed": false
   },
   "outputs": [],
   "source": [
    "delta = 512\n",
    "def process_fname(fname):\n",
    "    print(fname)\n",
    "    data = get_data(fname)\n",
    "    subframe = data[255:255+delta,255:255+delta]\n",
    "    fig, axes = plt.subplots(2,2, figsize=(12,5))\n",
    "    fig.suptitle(fname)\n",
    "    ul, ur, ll, lr = axes.flatten()\n",
    "    im = ul.imshow(data, cmap='gray')\n",
    "    plt.colorbar(im, ax=ul)\n",
    "    im = ur.imshow(data, cmap='Paired')\n",
    "    plt.colorbar(im, ax=ur)\n",
    "    ll.imshow(subframe, cmap='gray')\n",
    "    lr.imshow(subframe, cmap='Paired')\n",
    "    newfname = path.splitext(fname)[0]\n",
    "    fig.savefig(newfname+'.png', dpi=150)\n",
    "    plt.close(fig)"
   ]
  },
  {
   "cell_type": "code",
   "execution_count": null,
   "metadata": {
    "collapsed": false
   },
   "outputs": [],
   "source": [
    "from numpy import percentile"
   ]
  },
  {
   "cell_type": "code",
   "execution_count": null,
   "metadata": {
    "collapsed": true
   },
   "outputs": [],
   "source": [
    "def process_fname(fname):\n",
    "    print(fname)\n",
    "    mydpi = 109\n",
    "    fig = plt.figure(figsize=(1024/mydpi, 1024/mydpi), dpi=mydpi, frameon=False)\n",
    "    newfname = path.splitext(fname)[0]\n",
    "    data = get_data(fname)\n",
    "    bottom, top = percentile(data, (2,99))\n",
    "    plt.imshow(data, cmap='gray', interpolation='None', vmax=top)\n",
    "    plt.axis('off')\n",
    "    plt.title(fname)\n",
    "    plt.savefig(newfname+'.png', dpi=mydpi*2)\n",
    "    plt.close(fig)"
   ]
  },
  {
   "cell_type": "code",
   "execution_count": null,
   "metadata": {
    "collapsed": false
   },
   "outputs": [],
   "source": [
    "for fname in fnames:\n",
    "    process_fname(fname)"
   ]
  },
  {
   "cell_type": "code",
   "execution_count": null,
   "metadata": {
    "collapsed": false
   },
   "outputs": [],
   "source": [
    "%pylab qt\n",
    "rcParams['image.cmap'] = 'gray'"
   ]
  },
  {
   "cell_type": "code",
   "execution_count": null,
   "metadata": {
    "collapsed": true
   },
   "outputs": [],
   "source": [
    "interpolators = ['none', 'nearest', 'bilinear', 'bicubic',\n",
    "    'spline16', 'spline36', 'hanning', 'hamming', 'hermite', 'kaiser',\n",
    "    'quadric', 'catrom', 'gaussian', 'bessel', 'mitchell', 'sinc',\n",
    "    'lanczos']"
   ]
  },
  {
   "cell_type": "code",
   "execution_count": null,
   "metadata": {
    "collapsed": true
   },
   "outputs": [],
   "source": [
    "interpolators = interpolators[1:]\n",
    "interpolators[0] = 'none'"
   ]
  },
  {
   "cell_type": "code",
   "execution_count": null,
   "metadata": {
    "collapsed": false
   },
   "outputs": [],
   "source": [
    "for i,interp in enumerate(interpolators):\n",
    "    print(i,interp)"
   ]
  },
  {
   "cell_type": "code",
   "execution_count": null,
   "metadata": {
    "collapsed": false
   },
   "outputs": [],
   "source": [
    "data = get_data(fnames[0])\n",
    "bottom, top = percentile(data, (2,99))\n",
    "imshow(data, interpolation=interpolators[2],\n",
    "#        vmin=bottom, \n",
    "       vmax=top)"
   ]
  },
  {
   "cell_type": "code",
   "execution_count": null,
   "metadata": {
    "collapsed": true
   },
   "outputs": [],
   "source": [
    "mydpi=104\n",
    "fig, axes = subplots(4,4, figsize=(13,13))\n",
    "axes = axes.ravel()\n",
    "subframe = data[0:350, 740:1000]\n",
    "for ax,interp in zip(axes, interpolators):\n",
    "    ax.imshow(subframe, interpolation=interp)\n",
    "    ax.set_title(interp)"
   ]
  },
  {
   "cell_type": "code",
   "execution_count": null,
   "metadata": {
    "collapsed": false
   },
   "outputs": [],
   "source": [
    "figimage(data)"
   ]
  },
  {
   "cell_type": "code",
   "execution_count": null,
   "metadata": {
    "collapsed": true
   },
   "outputs": [],
   "source": []
  }
 ],
 "metadata": {
  "kernelspec": {
   "display_name": "Python 3",
   "language": "python",
   "name": "python3"
  },
  "language_info": {
   "codemirror_mode": {
    "name": "ipython",
    "version": 3
   },
   "file_extension": ".py",
   "mimetype": "text/x-python",
   "name": "python",
   "nbconvert_exporter": "python",
   "pygments_lexer": "ipython3",
   "version": "3.4.2"
  }
 },
 "nbformat": 4,
 "nbformat_minor": 0
}
