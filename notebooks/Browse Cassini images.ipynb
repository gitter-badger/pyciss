{
 "cells": [
  {
   "cell_type": "code",
   "execution_count": 43,
   "metadata": {
    "collapsed": false
   },
   "outputs": [
    {
     "name": "stderr",
     "output_type": "stream",
     "text": [
      "/Users/klay6683/miniconda3/lib/python3.4/site-packages/matplotlib/__init__.py:1312: UserWarning:  This call to matplotlib.use() has no effect\n",
      "because the backend has already been chosen;\n",
      "matplotlib.use() must be called *before* pylab, matplotlib.pyplot,\n",
      "or matplotlib.backends is imported for the first time.\n",
      "\n",
      "  warnings.warn(_use_error_msg)\n"
     ]
    }
   ],
   "source": [
    "import matplotlib\n",
    "matplotlib.use('Agg')\n",
    "import matplotlib.pyplot as plt\n",
    "import gdal"
   ]
  },
  {
   "cell_type": "code",
   "execution_count": 2,
   "metadata": {
    "collapsed": false
   },
   "outputs": [
    {
     "name": "stdout",
     "output_type": "stream",
     "text": [
      "/Users/klay6683/data/ciss/PDSdata_miodrak_list\n"
     ]
    }
   ],
   "source": [
    "cd ~/data/ciss/PDSdata_miodrak_list/"
   ]
  },
  {
   "cell_type": "code",
   "execution_count": 3,
   "metadata": {
    "collapsed": false
   },
   "outputs": [],
   "source": [
    "fnames = !ls *_CALIB.LBL"
   ]
  },
  {
   "cell_type": "code",
   "execution_count": 4,
   "metadata": {
    "collapsed": false
   },
   "outputs": [
    {
     "data": {
      "text/plain": [
       "23"
      ]
     },
     "execution_count": 4,
     "metadata": {},
     "output_type": "execute_result"
    }
   ],
   "source": [
    "len(fnames)"
   ]
  },
  {
   "cell_type": "code",
   "execution_count": 5,
   "metadata": {
    "collapsed": true
   },
   "outputs": [],
   "source": [
    "import os.path as path"
   ]
  },
  {
   "cell_type": "code",
   "execution_count": 13,
   "metadata": {
    "collapsed": false
   },
   "outputs": [],
   "source": [
    "less {fnames[0]}"
   ]
  },
  {
   "cell_type": "code",
   "execution_count": 6,
   "metadata": {
    "collapsed": true
   },
   "outputs": [],
   "source": [
    "def get_data(fname):\n",
    "    ds = gdal.Open(fname)\n",
    "    return ds.ReadAsArray()"
   ]
  },
  {
   "cell_type": "code",
   "execution_count": 7,
   "metadata": {
    "collapsed": false
   },
   "outputs": [],
   "source": [
    "delta = 512\n",
    "def process_fname(fname):\n",
    "    print(fname)\n",
    "    data = get_data(fname)\n",
    "    subframe = data[255:255+delta,255:255+delta]\n",
    "    fig, axes = plt.subplots(2,2, figsize=(12,5))\n",
    "    fig.suptitle(fname)\n",
    "    ul, ur, ll, lr = axes.flatten()\n",
    "    im = ul.imshow(data, cmap='gray')\n",
    "    plt.colorbar(im, ax=ul)\n",
    "    im = ur.imshow(data, cmap='Paired')\n",
    "    plt.colorbar(im, ax=ur)\n",
    "    ll.imshow(subframe, cmap='gray')\n",
    "    lr.imshow(subframe, cmap='Paired')\n",
    "    newfname = path.splitext(fname)[0]\n",
    "    fig.savefig(newfname+'.png', dpi=150)\n",
    "    plt.close(fig)"
   ]
  },
  {
   "cell_type": "code",
   "execution_count": 11,
   "metadata": {
    "collapsed": false
   },
   "outputs": [],
   "source": [
    "from numpy import percentile"
   ]
  },
  {
   "cell_type": "code",
   "execution_count": 28,
   "metadata": {
    "collapsed": true
   },
   "outputs": [],
   "source": [
    "def process_fname(fname):\n",
    "    print(fname)\n",
    "    mydpi = 109\n",
    "    fig = plt.figure(figsize=(1024/mydpi, 1024/mydpi), dpi=mydpi, frameon=False)\n",
    "    newfname = path.splitext(fname)[0]\n",
    "    data = get_data(fname)\n",
    "    bottom, top = percentile(data, (2,99))\n",
    "    plt.imshow(data, cmap='gray', interpolation='None', vmax=top)\n",
    "    plt.axis('off')\n",
    "    plt.title(fname)\n",
    "    plt.savefig(newfname+'.png', dpi=mydpi*2)\n",
    "    plt.close(fig)"
   ]
  },
  {
   "cell_type": "code",
   "execution_count": 27,
   "metadata": {
    "collapsed": false
   },
   "outputs": [
    {
     "name": "stdout",
     "output_type": "stream",
     "text": [
      "N1467351539_2_CALIB.LBL\n",
      "N1467351601_2_CALIB.LBL\n",
      "N1503229507_1_CALIB.LBL\n",
      "N1503229567_1_CALIB.LBL\n",
      "N1503229627_1_CALIB.LBL\n",
      "N1503229687_1_CALIB.LBL\n",
      "N1503229747_1_CALIB.LBL\n",
      "N1503229807_1_CALIB.LBL\n",
      "N1503229867_1_CALIB.LBL\n",
      "N1503229927_1_CALIB.LBL\n",
      "N1503229987_1_CALIB.LBL\n",
      "N1503230047_1_CALIB.LBL\n",
      "N1503230107_1_CALIB.LBL\n",
      "N1503230167_1_CALIB.LBL\n",
      "N1503230227_1_CALIB.LBL\n",
      "N1503230287_1_CALIB.LBL\n",
      "N1503230347_1_CALIB.LBL\n",
      "N1503230407_1_CALIB.LBL\n",
      "N1503230467_1_CALIB.LBL\n",
      "N1503231007_3_CALIB.LBL\n",
      "N1540679399_1_CALIB.LBL\n",
      "N1540679585_1_CALIB.LBL\n",
      "N1540679771_1_CALIB.LBL\n"
     ]
    }
   ],
   "source": [
    "for fname in fnames:\n",
    "    process_fname(fname)"
   ]
  },
  {
   "cell_type": "code",
   "execution_count": 29,
   "metadata": {
    "collapsed": false
   },
   "outputs": [
    {
     "name": "stdout",
     "output_type": "stream",
     "text": [
      "Populating the interactive namespace from numpy and matplotlib\n"
     ]
    },
    {
     "name": "stderr",
     "output_type": "stream",
     "text": [
      "WARNING: pylab import has clobbered these variables: ['interp']\n",
      "`%matplotlib` prevents importing * from pylab and numpy\n"
     ]
    }
   ],
   "source": [
    "%pylab qt\n",
    "rcParams['image.cmap'] = 'gray'"
   ]
  },
  {
   "cell_type": "code",
   "execution_count": 30,
   "metadata": {
    "collapsed": true
   },
   "outputs": [],
   "source": [
    "interpolators = ['none', 'nearest', 'bilinear', 'bicubic',\n",
    "    'spline16', 'spline36', 'hanning', 'hamming', 'hermite', 'kaiser',\n",
    "    'quadric', 'catrom', 'gaussian', 'bessel', 'mitchell', 'sinc',\n",
    "    'lanczos']"
   ]
  },
  {
   "cell_type": "code",
   "execution_count": 31,
   "metadata": {
    "collapsed": true
   },
   "outputs": [],
   "source": [
    "interpolators = interpolators[1:]\n",
    "interpolators[0] = 'none'"
   ]
  },
  {
   "cell_type": "code",
   "execution_count": 32,
   "metadata": {
    "collapsed": false
   },
   "outputs": [
    {
     "name": "stdout",
     "output_type": "stream",
     "text": [
      "0 none\n",
      "1 bilinear\n",
      "2 bicubic\n",
      "3 spline16\n",
      "4 spline36\n",
      "5 hanning\n",
      "6 hamming\n",
      "7 hermite\n",
      "8 kaiser\n",
      "9 quadric\n",
      "10 catrom\n",
      "11 gaussian\n",
      "12 bessel\n",
      "13 mitchell\n",
      "14 sinc\n",
      "15 lanczos\n"
     ]
    }
   ],
   "source": [
    "for i,interp in enumerate(interpolators):\n",
    "    print(i,interp)"
   ]
  },
  {
   "cell_type": "code",
   "execution_count": 46,
   "metadata": {
    "collapsed": false
   },
   "outputs": [
    {
     "data": {
      "text/plain": [
       "<matplotlib.image.AxesImage at 0x10c853d68>"
      ]
     },
     "execution_count": 46,
     "metadata": {},
     "output_type": "execute_result"
    }
   ],
   "source": [
    "data = get_data(fnames[0])\n",
    "bottom, top = percentile(data, (2,99))\n",
    "imshow(data, interpolation=interpolators[2],\n",
    "#        vmin=bottom, \n",
    "       vmax=top)"
   ]
  },
  {
   "cell_type": "code",
   "execution_count": 38,
   "metadata": {
    "collapsed": true
   },
   "outputs": [],
   "source": [
    "mydpi=104\n",
    "fig, axes = subplots(4,4, figsize=(13,13))\n",
    "axes = axes.ravel()\n",
    "subframe = data[0:350, 740:1000]\n",
    "for ax,interp in zip(axes, interpolators):\n",
    "    ax.imshow(subframe, interpolation=interp)\n",
    "    ax.set_title(interp)"
   ]
  },
  {
   "cell_type": "code",
   "execution_count": 48,
   "metadata": {
    "collapsed": false
   },
   "outputs": [
    {
     "data": {
      "text/plain": [
       "<matplotlib.image.FigureImage at 0x10c859a90>"
      ]
     },
     "execution_count": 48,
     "metadata": {},
     "output_type": "execute_result"
    }
   ],
   "source": [
    "figimage(data)"
   ]
  },
  {
   "cell_type": "code",
   "execution_count": null,
   "metadata": {
    "collapsed": true
   },
   "outputs": [],
   "source": []
  }
 ],
 "metadata": {
  "kernelspec": {
   "display_name": "Python 3",
   "language": "python",
   "name": "python3"
  },
  "language_info": {
   "codemirror_mode": {
    "name": "ipython",
    "version": 3
   },
   "file_extension": ".py",
   "mimetype": "text/x-python",
   "name": "python",
   "nbconvert_exporter": "python",
   "pygments_lexer": "ipython3",
   "version": "3.4.2"
  }
 },
 "nbformat": 4,
 "nbformat_minor": 0
}
