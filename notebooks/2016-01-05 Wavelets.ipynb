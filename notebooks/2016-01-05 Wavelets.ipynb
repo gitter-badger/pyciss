{
 "cells": [
  {
   "cell_type": "code",
   "execution_count": null,
   "metadata": {
    "collapsed": true
   },
   "outputs": [],
   "source": [
    "%matplotlib nbagg\n",
    "import wavelets\n",
    "from wavelets import WaveletAnalysis"
   ]
  },
  {
   "cell_type": "code",
   "execution_count": null,
   "metadata": {
    "collapsed": false
   },
   "outputs": [],
   "source": [
    "def genSine(f0, fs, dur):\n",
    "    t = np.arange(dur)\n",
    "    sinusoid = 0.5*np.sin(2*np.pi*t*(f0/fs))\n",
    "    return sinusoid\n",
    "\n",
    "def genNoise(dur):\n",
    "    noise = np.random.normal(0,1,dur)\n",
    "    noise = normalise(noise)\n",
    "    return noise"
   ]
  },
  {
   "cell_type": "code",
   "execution_count": null,
   "metadata": {
    "collapsed": false
   },
   "outputs": [],
   "source": [
    "f0 = 2\n",
    "fs = 160\n",
    "dur = 2*fs\n",
    "\n",
    "x1 = genSine(f0, fs, dur)\n",
    "x2 = genSine(6, fs, dur)\n",
    "\n",
    "x = x1+x2"
   ]
  },
  {
   "cell_type": "code",
   "execution_count": null,
   "metadata": {
    "collapsed": true
   },
   "outputs": [],
   "source": [
    "import seaborn as sns\n",
    "sns.set_style('white')\n",
    "sns.set_context('notebook')"
   ]
  },
  {
   "cell_type": "code",
   "execution_count": null,
   "metadata": {
    "collapsed": false
   },
   "outputs": [],
   "source": [
    "sr = 50 # sample_rate in samples per second\n",
    "dur = 5 # duration in seconds\n",
    "n_samples = dur * sr\n",
    "x1 = genSine(1, sr, n_samples)\n",
    "x2 = genSine(2, sr, n_samples)\n",
    "x3 = genSine(3, sr, n_samples)\n",
    "x = np.hstack([x1, x2, x1])\n",
    "# x=x1+x2\n",
    "dt = 1/sr\n",
    "wa = WaveletAnalysis(x, dt=dt)\n",
    "power = wa.wavelet_power\n",
    "scales = wa.scales\n",
    "t = wa.time\n",
    "fig, ax = plt.subplots(nrows=2)\n",
    "T, S = np.meshgrid(t, scales)\n",
    "ax[0].contourf(T, S, power, 100, cmap='viridis')\n",
    "ax[0].set_ylim(0,4)\n",
    "ax[1].plot(t,x, label='x')\n",
    "# ax[1].legend(loc=1)\n",
    "for axis in ax:\n",
    "    axis.set_xlabel(\"Time [s]\")\n",
    "fig.suptitle('1+2 Hz, 1+3 Hz')\n",
    "# ax[0].set_yscale('log')"
   ]
  },
  {
   "cell_type": "code",
   "execution_count": null,
   "metadata": {
    "collapsed": false
   },
   "outputs": [],
   "source": [
    "wa.scales"
   ]
  },
  {
   "cell_type": "code",
   "execution_count": null,
   "metadata": {
    "collapsed": true
   },
   "outputs": [],
   "source": []
  }
 ],
 "metadata": {
  "kernelspec": {
   "display_name": "Python 3",
   "language": "python",
   "name": "python3"
  },
  "language_info": {
   "codemirror_mode": {
    "name": "ipython",
    "version": 3
   },
   "file_extension": ".py",
   "mimetype": "text/x-python",
   "name": "python",
   "nbconvert_exporter": "python",
   "pygments_lexer": "ipython3",
   "version": "3.5.1"
  }
 },
 "nbformat": 4,
 "nbformat_minor": 1
}
