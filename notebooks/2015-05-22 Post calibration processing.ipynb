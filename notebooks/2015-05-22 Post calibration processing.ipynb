{
 "cells": [
  {
   "cell_type": "markdown",
   "metadata": {},
   "source": [
    "# Plot creation"
   ]
  },
  {
   "cell_type": "code",
   "execution_count": 1,
   "metadata": {
    "collapsed": true
   },
   "outputs": [],
   "source": [
    "import glob"
   ]
  },
  {
   "cell_type": "code",
   "execution_count": 13,
   "metadata": {
    "collapsed": false
   },
   "outputs": [],
   "source": [
    "res = glob.glob('/cassini_ringsdata/opus/N*/*.map.dst.cal.cub')"
   ]
  },
  {
   "cell_type": "code",
   "execution_count": 14,
   "metadata": {
    "collapsed": false
   },
   "outputs": [
    {
     "data": {
      "text/plain": [
       "0    /cassini_ringsdata/opus/N1585782249/N158578224...\n",
       "1    /cassini_ringsdata/opus/N1591063671/N159106367...\n",
       "2    /cassini_ringsdata/opus/N1654259210/N165425921...\n",
       "3    /cassini_ringsdata/opus/N1541717040/N154171704...\n",
       "4    /cassini_ringsdata/opus/N1541714976/N154171497...\n",
       "dtype: object"
      ]
     },
     "execution_count": 14,
     "metadata": {},
     "output_type": "execute_result"
    }
   ],
   "source": [
    "fnames = pd.Series(res)\n",
    "fnames.head()"
   ]
  },
  {
   "cell_type": "code",
   "execution_count": 15,
   "metadata": {
    "collapsed": false
   },
   "outputs": [],
   "source": [
    "fnames = pd.DataFrame(fnames)"
   ]
  },
  {
   "cell_type": "code",
   "execution_count": 16,
   "metadata": {
    "collapsed": true
   },
   "outputs": [],
   "source": [
    "fnames.columns = ['filtered']"
   ]
  },
  {
   "cell_type": "code",
   "execution_count": 17,
   "metadata": {
    "collapsed": false
   },
   "outputs": [
    {
     "data": {
      "text/html": [
       "<div style=\"max-height:1000px;max-width:1500px;overflow:auto;\">\n",
       "<table border=\"1\" class=\"dataframe\">\n",
       "  <thead>\n",
       "    <tr style=\"text-align: right;\">\n",
       "      <th></th>\n",
       "      <th>filtered</th>\n",
       "    </tr>\n",
       "  </thead>\n",
       "  <tbody>\n",
       "    <tr>\n",
       "      <th>0</th>\n",
       "      <td>/cassini_ringsdata/opus/N1585782249/N158578224...</td>\n",
       "    </tr>\n",
       "    <tr>\n",
       "      <th>1</th>\n",
       "      <td>/cassini_ringsdata/opus/N1591063671/N159106367...</td>\n",
       "    </tr>\n",
       "    <tr>\n",
       "      <th>2</th>\n",
       "      <td>/cassini_ringsdata/opus/N1654259210/N165425921...</td>\n",
       "    </tr>\n",
       "    <tr>\n",
       "      <th>3</th>\n",
       "      <td>/cassini_ringsdata/opus/N1541717040/N154171704...</td>\n",
       "    </tr>\n",
       "    <tr>\n",
       "      <th>4</th>\n",
       "      <td>/cassini_ringsdata/opus/N1541714976/N154171497...</td>\n",
       "    </tr>\n",
       "  </tbody>\n",
       "</table>\n",
       "</div>"
      ],
      "text/plain": [
       "                                            filtered\n",
       "0  /cassini_ringsdata/opus/N1585782249/N158578224...\n",
       "1  /cassini_ringsdata/opus/N1591063671/N159106367...\n",
       "2  /cassini_ringsdata/opus/N1654259210/N165425921...\n",
       "3  /cassini_ringsdata/opus/N1541717040/N154171704...\n",
       "4  /cassini_ringsdata/opus/N1541714976/N154171497..."
      ]
     },
     "execution_count": 17,
     "metadata": {},
     "output_type": "execute_result"
    }
   ],
   "source": [
    "fnames.head()"
   ]
  },
  {
   "cell_type": "code",
   "execution_count": 18,
   "metadata": {
    "collapsed": true
   },
   "outputs": [],
   "source": [
    "import os\n",
    "fnames['obs_id'] = fnames.filtered.map(lambda x: os.path.dirname(x).split('/')[-1])"
   ]
  },
  {
   "cell_type": "code",
   "execution_count": 19,
   "metadata": {
    "collapsed": false
   },
   "outputs": [
    {
     "data": {
      "text/html": [
       "<div style=\"max-height:1000px;max-width:1500px;overflow:auto;\">\n",
       "<table border=\"1\" class=\"dataframe\">\n",
       "  <thead>\n",
       "    <tr style=\"text-align: right;\">\n",
       "      <th></th>\n",
       "      <th>filtered</th>\n",
       "      <th>obs_id</th>\n",
       "    </tr>\n",
       "  </thead>\n",
       "  <tbody>\n",
       "    <tr>\n",
       "      <th>0</th>\n",
       "      <td>/cassini_ringsdata/opus/N1585782249/N158578224...</td>\n",
       "      <td>N1585782249</td>\n",
       "    </tr>\n",
       "    <tr>\n",
       "      <th>1</th>\n",
       "      <td>/cassini_ringsdata/opus/N1591063671/N159106367...</td>\n",
       "      <td>N1591063671</td>\n",
       "    </tr>\n",
       "    <tr>\n",
       "      <th>2</th>\n",
       "      <td>/cassini_ringsdata/opus/N1654259210/N165425921...</td>\n",
       "      <td>N1654259210</td>\n",
       "    </tr>\n",
       "    <tr>\n",
       "      <th>3</th>\n",
       "      <td>/cassini_ringsdata/opus/N1541717040/N154171704...</td>\n",
       "      <td>N1541717040</td>\n",
       "    </tr>\n",
       "    <tr>\n",
       "      <th>4</th>\n",
       "      <td>/cassini_ringsdata/opus/N1541714976/N154171497...</td>\n",
       "      <td>N1541714976</td>\n",
       "    </tr>\n",
       "  </tbody>\n",
       "</table>\n",
       "</div>"
      ],
      "text/plain": [
       "                                            filtered       obs_id\n",
       "0  /cassini_ringsdata/opus/N1585782249/N158578224...  N1585782249\n",
       "1  /cassini_ringsdata/opus/N1591063671/N159106367...  N1591063671\n",
       "2  /cassini_ringsdata/opus/N1654259210/N165425921...  N1654259210\n",
       "3  /cassini_ringsdata/opus/N1541717040/N154171704...  N1541717040\n",
       "4  /cassini_ringsdata/opus/N1541714976/N154171497...  N1541714976"
      ]
     },
     "execution_count": 19,
     "metadata": {},
     "output_type": "execute_result"
    }
   ],
   "source": [
    "fnames.head()"
   ]
  },
  {
   "cell_type": "code",
   "execution_count": 20,
   "metadata": {
    "collapsed": true
   },
   "outputs": [],
   "source": [
    "fnames.set_index('obs_id', inplace=True)"
   ]
  },
  {
   "cell_type": "code",
   "execution_count": 21,
   "metadata": {
    "collapsed": false
   },
   "outputs": [
    {
     "data": {
      "text/html": [
       "<div style=\"max-height:1000px;max-width:1500px;overflow:auto;\">\n",
       "<table border=\"1\" class=\"dataframe\">\n",
       "  <thead>\n",
       "    <tr style=\"text-align: right;\">\n",
       "      <th></th>\n",
       "      <th>filtered</th>\n",
       "    </tr>\n",
       "    <tr>\n",
       "      <th>obs_id</th>\n",
       "      <th></th>\n",
       "    </tr>\n",
       "  </thead>\n",
       "  <tbody>\n",
       "    <tr>\n",
       "      <th>N1585782249</th>\n",
       "      <td>/cassini_ringsdata/opus/N1585782249/N158578224...</td>\n",
       "    </tr>\n",
       "    <tr>\n",
       "      <th>N1591063671</th>\n",
       "      <td>/cassini_ringsdata/opus/N1591063671/N159106367...</td>\n",
       "    </tr>\n",
       "    <tr>\n",
       "      <th>N1654259210</th>\n",
       "      <td>/cassini_ringsdata/opus/N1654259210/N165425921...</td>\n",
       "    </tr>\n",
       "    <tr>\n",
       "      <th>N1541717040</th>\n",
       "      <td>/cassini_ringsdata/opus/N1541717040/N154171704...</td>\n",
       "    </tr>\n",
       "    <tr>\n",
       "      <th>N1541714976</th>\n",
       "      <td>/cassini_ringsdata/opus/N1541714976/N154171497...</td>\n",
       "    </tr>\n",
       "  </tbody>\n",
       "</table>\n",
       "</div>"
      ],
      "text/plain": [
       "                                                      filtered\n",
       "obs_id                                                        \n",
       "N1585782249  /cassini_ringsdata/opus/N1585782249/N158578224...\n",
       "N1591063671  /cassini_ringsdata/opus/N1591063671/N159106367...\n",
       "N1654259210  /cassini_ringsdata/opus/N1654259210/N165425921...\n",
       "N1541717040  /cassini_ringsdata/opus/N1541717040/N154171704...\n",
       "N1541714976  /cassini_ringsdata/opus/N1541714976/N154171497..."
      ]
     },
     "execution_count": 21,
     "metadata": {},
     "output_type": "execute_result"
    }
   ],
   "source": [
    "fnames.head()"
   ]
  },
  {
   "cell_type": "code",
   "execution_count": 24,
   "metadata": {
    "collapsed": false
   },
   "outputs": [],
   "source": [
    "def get_unfiltered_from_filtered(filtered):\n",
    "    dirname = os.path.dirname(filtered)\n",
    "    unfiltered = glob.glob(os.path.join(dirname, '*.map.cal.cub'))\n",
    "    if unfiltered:\n",
    "        return unfiltered[0]\n",
    "    else:\n",
    "        return None\n",
    "fnames['unfiltered']=fnames.filtered.map(get_unfiltered_from_filtered)"
   ]
  },
  {
   "cell_type": "code",
   "execution_count": 26,
   "metadata": {
    "collapsed": false
   },
   "outputs": [
    {
     "data": {
      "text/html": [
       "<div style=\"max-height:1000px;max-width:1500px;overflow:auto;\">\n",
       "<table border=\"1\" class=\"dataframe\">\n",
       "  <thead>\n",
       "    <tr style=\"text-align: right;\">\n",
       "      <th></th>\n",
       "      <th>filtered</th>\n",
       "      <th>unfiltered</th>\n",
       "    </tr>\n",
       "  </thead>\n",
       "  <tbody>\n",
       "    <tr>\n",
       "      <th>count</th>\n",
       "      <td>481</td>\n",
       "      <td>406</td>\n",
       "    </tr>\n",
       "    <tr>\n",
       "      <th>unique</th>\n",
       "      <td>481</td>\n",
       "      <td>406</td>\n",
       "    </tr>\n",
       "    <tr>\n",
       "      <th>top</th>\n",
       "      <td>/cassini_ringsdata/opus/N1541717407/N154171740...</td>\n",
       "      <td>/cassini_ringsdata/opus/N1640504692/N164050469...</td>\n",
       "    </tr>\n",
       "    <tr>\n",
       "      <th>freq</th>\n",
       "      <td>1</td>\n",
       "      <td>1</td>\n",
       "    </tr>\n",
       "  </tbody>\n",
       "</table>\n",
       "</div>"
      ],
      "text/plain": [
       "                                                 filtered  \\\n",
       "count                                                 481   \n",
       "unique                                                481   \n",
       "top     /cassini_ringsdata/opus/N1541717407/N154171740...   \n",
       "freq                                                    1   \n",
       "\n",
       "                                               unfiltered  \n",
       "count                                                 406  \n",
       "unique                                                406  \n",
       "top     /cassini_ringsdata/opus/N1640504692/N164050469...  \n",
       "freq                                                    1  "
      ]
     },
     "execution_count": 26,
     "metadata": {},
     "output_type": "execute_result"
    }
   ],
   "source": [
    "fnames.describe()"
   ]
  },
  {
   "cell_type": "code",
   "execution_count": 27,
   "metadata": {
    "collapsed": true
   },
   "outputs": [],
   "source": [
    "SOI = fnames[fnames.filtered.str.contains('N146734')]"
   ]
  },
  {
   "cell_type": "code",
   "execution_count": 28,
   "metadata": {
    "collapsed": false
   },
   "outputs": [
    {
     "data": {
      "text/html": [
       "<div style=\"max-height:1000px;max-width:1500px;overflow:auto;\">\n",
       "<table border=\"1\" class=\"dataframe\">\n",
       "  <thead>\n",
       "    <tr style=\"text-align: right;\">\n",
       "      <th></th>\n",
       "      <th>filtered</th>\n",
       "      <th>unfiltered</th>\n",
       "    </tr>\n",
       "    <tr>\n",
       "      <th>obs_id</th>\n",
       "      <th></th>\n",
       "      <th></th>\n",
       "    </tr>\n",
       "  </thead>\n",
       "  <tbody>\n",
       "    <tr>\n",
       "      <th>N1467347445</th>\n",
       "      <td>/cassini_ringsdata/opus/N1467347445/N146734744...</td>\n",
       "      <td>/cassini_ringsdata/opus/N1467347445/N146734744...</td>\n",
       "    </tr>\n",
       "    <tr>\n",
       "      <th>N1467347249</th>\n",
       "      <td>/cassini_ringsdata/opus/N1467347249/N146734724...</td>\n",
       "      <td>/cassini_ringsdata/opus/N1467347249/N146734724...</td>\n",
       "    </tr>\n",
       "    <tr>\n",
       "      <th>N1467345857</th>\n",
       "      <td>/cassini_ringsdata/opus/N1467345857/N146734585...</td>\n",
       "      <td>/cassini_ringsdata/opus/N1467345857/N146734585...</td>\n",
       "    </tr>\n",
       "    <tr>\n",
       "      <th>N1467345621</th>\n",
       "      <td>/cassini_ringsdata/opus/N1467345621/N146734562...</td>\n",
       "      <td>/cassini_ringsdata/opus/N1467345621/N146734562...</td>\n",
       "    </tr>\n",
       "    <tr>\n",
       "      <th>N1467345680</th>\n",
       "      <td>/cassini_ringsdata/opus/N1467345680/N146734568...</td>\n",
       "      <td>/cassini_ringsdata/opus/N1467345680/N146734568...</td>\n",
       "    </tr>\n",
       "    <tr>\n",
       "      <th>N1467345916</th>\n",
       "      <td>/cassini_ringsdata/opus/N1467345916/N146734591...</td>\n",
       "      <td>/cassini_ringsdata/opus/N1467345916/N146734591...</td>\n",
       "    </tr>\n",
       "    <tr>\n",
       "      <th>N1467346329</th>\n",
       "      <td>/cassini_ringsdata/opus/N1467346329/N146734632...</td>\n",
       "      <td>/cassini_ringsdata/opus/N1467346329/N146734632...</td>\n",
       "    </tr>\n",
       "    <tr>\n",
       "      <th>N1467345503</th>\n",
       "      <td>/cassini_ringsdata/opus/N1467345503/N146734550...</td>\n",
       "      <td>/cassini_ringsdata/opus/N1467345503/N146734550...</td>\n",
       "    </tr>\n",
       "    <tr>\n",
       "      <th>N1467346388</th>\n",
       "      <td>/cassini_ringsdata/opus/N1467346388/N146734638...</td>\n",
       "      <td>/cassini_ringsdata/opus/N1467346388/N146734638...</td>\n",
       "    </tr>\n",
       "    <tr>\n",
       "      <th>N1467347504</th>\n",
       "      <td>/cassini_ringsdata/opus/N1467347504/N146734750...</td>\n",
       "      <td>/cassini_ringsdata/opus/N1467347504/N146734750...</td>\n",
       "    </tr>\n",
       "    <tr>\n",
       "      <th>N1467346211</th>\n",
       "      <td>/cassini_ringsdata/opus/N1467346211/N146734621...</td>\n",
       "      <td>/cassini_ringsdata/opus/N1467346211/N146734621...</td>\n",
       "    </tr>\n",
       "    <tr>\n",
       "      <th>N1467345975</th>\n",
       "      <td>/cassini_ringsdata/opus/N1467345975/N146734597...</td>\n",
       "      <td>/cassini_ringsdata/opus/N1467345975/N146734597...</td>\n",
       "    </tr>\n",
       "    <tr>\n",
       "      <th>N1467346034</th>\n",
       "      <td>/cassini_ringsdata/opus/N1467346034/N146734603...</td>\n",
       "      <td>/cassini_ringsdata/opus/N1467346034/N146734603...</td>\n",
       "    </tr>\n",
       "    <tr>\n",
       "      <th>N1467345562</th>\n",
       "      <td>/cassini_ringsdata/opus/N1467345562/N146734556...</td>\n",
       "      <td>/cassini_ringsdata/opus/N1467345562/N146734556...</td>\n",
       "    </tr>\n",
       "    <tr>\n",
       "      <th>N1467346565</th>\n",
       "      <td>/cassini_ringsdata/opus/N1467346565/N146734656...</td>\n",
       "      <td>/cassini_ringsdata/opus/N1467346565/N146734656...</td>\n",
       "    </tr>\n",
       "    <tr>\n",
       "      <th>N1467345444</th>\n",
       "      <td>/cassini_ringsdata/opus/N1467345444/N146734544...</td>\n",
       "      <td>/cassini_ringsdata/opus/N1467345444/N146734544...</td>\n",
       "    </tr>\n",
       "    <tr>\n",
       "      <th>N1467346152</th>\n",
       "      <td>/cassini_ringsdata/opus/N1467346152/N146734615...</td>\n",
       "      <td>/cassini_ringsdata/opus/N1467346152/N146734615...</td>\n",
       "    </tr>\n",
       "    <tr>\n",
       "      <th>N1467346624</th>\n",
       "      <td>/cassini_ringsdata/opus/N1467346624/N146734662...</td>\n",
       "      <td>/cassini_ringsdata/opus/N1467346624/N146734662...</td>\n",
       "    </tr>\n",
       "    <tr>\n",
       "      <th>N1467346506</th>\n",
       "      <td>/cassini_ringsdata/opus/N1467346506/N146734650...</td>\n",
       "      <td>/cassini_ringsdata/opus/N1467346506/N146734650...</td>\n",
       "    </tr>\n",
       "    <tr>\n",
       "      <th>N1467346270</th>\n",
       "      <td>/cassini_ringsdata/opus/N1467346270/N146734627...</td>\n",
       "      <td>/cassini_ringsdata/opus/N1467346270/N146734627...</td>\n",
       "    </tr>\n",
       "    <tr>\n",
       "      <th>N1467347210</th>\n",
       "      <td>/cassini_ringsdata/opus/N1467347210/N146734721...</td>\n",
       "      <td>/cassini_ringsdata/opus/N1467347210/N146734721...</td>\n",
       "    </tr>\n",
       "    <tr>\n",
       "      <th>N1467345798</th>\n",
       "      <td>/cassini_ringsdata/opus/N1467345798/N146734579...</td>\n",
       "      <td>/cassini_ringsdata/opus/N1467345798/N146734579...</td>\n",
       "    </tr>\n",
       "    <tr>\n",
       "      <th>N1467345739</th>\n",
       "      <td>/cassini_ringsdata/opus/N1467345739/N146734573...</td>\n",
       "      <td>/cassini_ringsdata/opus/N1467345739/N146734573...</td>\n",
       "    </tr>\n",
       "    <tr>\n",
       "      <th>N1467346093</th>\n",
       "      <td>/cassini_ringsdata/opus/N1467346093/N146734609...</td>\n",
       "      <td>/cassini_ringsdata/opus/N1467346093/N146734609...</td>\n",
       "    </tr>\n",
       "    <tr>\n",
       "      <th>N1467346447</th>\n",
       "      <td>/cassini_ringsdata/opus/N1467346447/N146734644...</td>\n",
       "      <td>/cassini_ringsdata/opus/N1467346447/N146734644...</td>\n",
       "    </tr>\n",
       "  </tbody>\n",
       "</table>\n",
       "</div>"
      ],
      "text/plain": [
       "                                                      filtered  \\\n",
       "obs_id                                                           \n",
       "N1467347445  /cassini_ringsdata/opus/N1467347445/N146734744...   \n",
       "N1467347249  /cassini_ringsdata/opus/N1467347249/N146734724...   \n",
       "N1467345857  /cassini_ringsdata/opus/N1467345857/N146734585...   \n",
       "N1467345621  /cassini_ringsdata/opus/N1467345621/N146734562...   \n",
       "N1467345680  /cassini_ringsdata/opus/N1467345680/N146734568...   \n",
       "N1467345916  /cassini_ringsdata/opus/N1467345916/N146734591...   \n",
       "N1467346329  /cassini_ringsdata/opus/N1467346329/N146734632...   \n",
       "N1467345503  /cassini_ringsdata/opus/N1467345503/N146734550...   \n",
       "N1467346388  /cassini_ringsdata/opus/N1467346388/N146734638...   \n",
       "N1467347504  /cassini_ringsdata/opus/N1467347504/N146734750...   \n",
       "N1467346211  /cassini_ringsdata/opus/N1467346211/N146734621...   \n",
       "N1467345975  /cassini_ringsdata/opus/N1467345975/N146734597...   \n",
       "N1467346034  /cassini_ringsdata/opus/N1467346034/N146734603...   \n",
       "N1467345562  /cassini_ringsdata/opus/N1467345562/N146734556...   \n",
       "N1467346565  /cassini_ringsdata/opus/N1467346565/N146734656...   \n",
       "N1467345444  /cassini_ringsdata/opus/N1467345444/N146734544...   \n",
       "N1467346152  /cassini_ringsdata/opus/N1467346152/N146734615...   \n",
       "N1467346624  /cassini_ringsdata/opus/N1467346624/N146734662...   \n",
       "N1467346506  /cassini_ringsdata/opus/N1467346506/N146734650...   \n",
       "N1467346270  /cassini_ringsdata/opus/N1467346270/N146734627...   \n",
       "N1467347210  /cassini_ringsdata/opus/N1467347210/N146734721...   \n",
       "N1467345798  /cassini_ringsdata/opus/N1467345798/N146734579...   \n",
       "N1467345739  /cassini_ringsdata/opus/N1467345739/N146734573...   \n",
       "N1467346093  /cassini_ringsdata/opus/N1467346093/N146734609...   \n",
       "N1467346447  /cassini_ringsdata/opus/N1467346447/N146734644...   \n",
       "\n",
       "                                                    unfiltered  \n",
       "obs_id                                                          \n",
       "N1467347445  /cassini_ringsdata/opus/N1467347445/N146734744...  \n",
       "N1467347249  /cassini_ringsdata/opus/N1467347249/N146734724...  \n",
       "N1467345857  /cassini_ringsdata/opus/N1467345857/N146734585...  \n",
       "N1467345621  /cassini_ringsdata/opus/N1467345621/N146734562...  \n",
       "N1467345680  /cassini_ringsdata/opus/N1467345680/N146734568...  \n",
       "N1467345916  /cassini_ringsdata/opus/N1467345916/N146734591...  \n",
       "N1467346329  /cassini_ringsdata/opus/N1467346329/N146734632...  \n",
       "N1467345503  /cassini_ringsdata/opus/N1467345503/N146734550...  \n",
       "N1467346388  /cassini_ringsdata/opus/N1467346388/N146734638...  \n",
       "N1467347504  /cassini_ringsdata/opus/N1467347504/N146734750...  \n",
       "N1467346211  /cassini_ringsdata/opus/N1467346211/N146734621...  \n",
       "N1467345975  /cassini_ringsdata/opus/N1467345975/N146734597...  \n",
       "N1467346034  /cassini_ringsdata/opus/N1467346034/N146734603...  \n",
       "N1467345562  /cassini_ringsdata/opus/N1467345562/N146734556...  \n",
       "N1467346565  /cassini_ringsdata/opus/N1467346565/N146734656...  \n",
       "N1467345444  /cassini_ringsdata/opus/N1467345444/N146734544...  \n",
       "N1467346152  /cassini_ringsdata/opus/N1467346152/N146734615...  \n",
       "N1467346624  /cassini_ringsdata/opus/N1467346624/N146734662...  \n",
       "N1467346506  /cassini_ringsdata/opus/N1467346506/N146734650...  \n",
       "N1467346270  /cassini_ringsdata/opus/N1467346270/N146734627...  \n",
       "N1467347210  /cassini_ringsdata/opus/N1467347210/N146734721...  \n",
       "N1467345798  /cassini_ringsdata/opus/N1467345798/N146734579...  \n",
       "N1467345739  /cassini_ringsdata/opus/N1467345739/N146734573...  \n",
       "N1467346093  /cassini_ringsdata/opus/N1467346093/N146734609...  \n",
       "N1467346447  /cassini_ringsdata/opus/N1467346447/N146734644...  "
      ]
     },
     "execution_count": 28,
     "metadata": {},
     "output_type": "execute_result"
    }
   ],
   "source": [
    "SOI"
   ]
  },
  {
   "cell_type": "code",
   "execution_count": 123,
   "metadata": {
    "collapsed": true
   },
   "outputs": [],
   "source": [
    "def convert_to_png(fname):\n",
    "    import gdal\n",
    "    from pyciss import io\n",
    "    ds = gdal.Open(fname)\n",
    "    if ds.RasterXSize > 5200:\n",
    "        return fname, False\n",
    "    cube = io.RingCube.open(fname)\n",
    "    cube.imshow(save=True, extra_title='Filtered')\n",
    "    return fname, True"
   ]
  },
  {
   "cell_type": "code",
   "execution_count": 118,
   "metadata": {
    "collapsed": false
   },
   "outputs": [],
   "source": [
    "from IPython.parallel import Client\n",
    "c = Client()"
   ]
  },
  {
   "cell_type": "code",
   "execution_count": 119,
   "metadata": {
    "collapsed": true
   },
   "outputs": [],
   "source": [
    "lbview = c.load_balanced_view()"
   ]
  },
  {
   "cell_type": "code",
   "execution_count": 124,
   "metadata": {
    "collapsed": true
   },
   "outputs": [],
   "source": [
    "results = lbview.map_async(convert_to_png, SOI.filtered)"
   ]
  },
  {
   "cell_type": "code",
   "execution_count": 125,
   "metadata": {
    "collapsed": false
   },
   "outputs": [],
   "source": [
    "from iuvs.multitools import *"
   ]
  },
  {
   "cell_type": "code",
   "execution_count": 126,
   "metadata": {
    "collapsed": false
   },
   "outputs": [
    {
     "name": "stdout",
     "output_type": "stream",
     "text": [
      "Done.\n"
     ]
    }
   ],
   "source": [
    "from time import sleep\n",
    "prog = IntProgress(min=0, max=len(SOI))\n",
    "display(prog)\n",
    "while not results.ready():\n",
    "    sleep(1)\n",
    "    prog.value = results.progress\n",
    "print(\"Done.\")"
   ]
  },
  {
   "cell_type": "code",
   "execution_count": 106,
   "metadata": {
    "collapsed": false
   },
   "outputs": [
    {
     "data": {
      "text/plain": [
       "[('/cassini_ringsdata/opus/N1467347445/N1467347445_2.map.dst.cal.cub', True),\n",
       " ('/cassini_ringsdata/opus/N1467347249/N1467347249_2.map.dst.cal.cub', True),\n",
       " ('/cassini_ringsdata/opus/N1467345857/N1467345857_2.map.dst.cal.cub', True),\n",
       " ('/cassini_ringsdata/opus/N1467345621/N1467345621_2.map.dst.cal.cub', True),\n",
       " ('/cassini_ringsdata/opus/N1467345680/N1467345680_2.map.dst.cal.cub', True),\n",
       " ('/cassini_ringsdata/opus/N1467345916/N1467345916_2.map.dst.cal.cub', True),\n",
       " ('/cassini_ringsdata/opus/N1467346329/N1467346329_2.map.dst.cal.cub', True),\n",
       " ('/cassini_ringsdata/opus/N1467345503/N1467345503_2.map.dst.cal.cub', True),\n",
       " ('/cassini_ringsdata/opus/N1467346388/N1467346388_2.map.dst.cal.cub', True),\n",
       " ('/cassini_ringsdata/opus/N1467347504/N1467347504_2.map.dst.cal.cub', True),\n",
       " ('/cassini_ringsdata/opus/N1467346211/N1467346211_2.map.dst.cal.cub', True),\n",
       " ('/cassini_ringsdata/opus/N1467345975/N1467345975_2.map.dst.cal.cub', True),\n",
       " ('/cassini_ringsdata/opus/N1467346034/N1467346034_2.map.dst.cal.cub', True),\n",
       " ('/cassini_ringsdata/opus/N1467345562/N1467345562_3.map.dst.cal.cub', True),\n",
       " ('/cassini_ringsdata/opus/N1467346565/N1467346565_2.map.dst.cal.cub', True),\n",
       " ('/cassini_ringsdata/opus/N1467345444/N1467345444_2.map.dst.cal.cub', True),\n",
       " ('/cassini_ringsdata/opus/N1467346152/N1467346152_2.map.dst.cal.cub', True),\n",
       " ('/cassini_ringsdata/opus/N1467346624/N1467346624_2.map.dst.cal.cub', True),\n",
       " ('/cassini_ringsdata/opus/N1467346506/N1467346506_2.map.dst.cal.cub', True),\n",
       " ('/cassini_ringsdata/opus/N1467346270/N1467346270_2.map.dst.cal.cub', True),\n",
       " ('/cassini_ringsdata/opus/N1467347210/N1467347210_2.map.dst.cal.cub', True),\n",
       " ('/cassini_ringsdata/opus/N1467345798/N1467345798_2.map.dst.cal.cub', True),\n",
       " ('/cassini_ringsdata/opus/N1467345739/N1467345739_2.map.dst.cal.cub', True),\n",
       " ('/cassini_ringsdata/opus/N1467346093/N1467346093_2.map.dst.cal.cub', True),\n",
       " ('/cassini_ringsdata/opus/N1467346447/N1467346447_2.map.dst.cal.cub', True)]"
      ]
     },
     "execution_count": 106,
     "metadata": {},
     "output_type": "execute_result"
    }
   ],
   "source": [
    "results.result"
   ]
  },
  {
   "cell_type": "code",
   "execution_count": 157,
   "metadata": {
    "collapsed": false
   },
   "outputs": [
    {
     "name": "stdout",
     "output_type": "stream",
     "text": [
      "/cassini_ringsdata/opus/N1467347445/*.png /cassini_ringsdata/opus/N1467347445/*.map.dst.cal.cub /cassini_ringsdata/SOI/\n",
      "/cassini_ringsdata/opus/N1467347249/*.png /cassini_ringsdata/opus/N1467347249/*.map.dst.cal.cub /cassini_ringsdata/SOI/\n",
      "/cassini_ringsdata/opus/N1467345857/*.png /cassini_ringsdata/opus/N1467345857/*.map.dst.cal.cub /cassini_ringsdata/SOI/\n",
      "/cassini_ringsdata/opus/N1467345621/*.png /cassini_ringsdata/opus/N1467345621/*.map.dst.cal.cub /cassini_ringsdata/SOI/\n",
      "/cassini_ringsdata/opus/N1467345680/*.png /cassini_ringsdata/opus/N1467345680/*.map.dst.cal.cub /cassini_ringsdata/SOI/\n",
      "/cassini_ringsdata/opus/N1467345916/*.png /cassini_ringsdata/opus/N1467345916/*.map.dst.cal.cub /cassini_ringsdata/SOI/\n",
      "/cassini_ringsdata/opus/N1467346329/*.png /cassini_ringsdata/opus/N1467346329/*.map.dst.cal.cub /cassini_ringsdata/SOI/\n",
      "/cassini_ringsdata/opus/N1467345503/*.png /cassini_ringsdata/opus/N1467345503/*.map.dst.cal.cub /cassini_ringsdata/SOI/\n",
      "/cassini_ringsdata/opus/N1467346388/*.png /cassini_ringsdata/opus/N1467346388/*.map.dst.cal.cub /cassini_ringsdata/SOI/\n",
      "/cassini_ringsdata/opus/N1467347504/*.png /cassini_ringsdata/opus/N1467347504/*.map.dst.cal.cub /cassini_ringsdata/SOI/\n",
      "/cassini_ringsdata/opus/N1467346211/*.png /cassini_ringsdata/opus/N1467346211/*.map.dst.cal.cub /cassini_ringsdata/SOI/\n",
      "/cassini_ringsdata/opus/N1467345975/*.png /cassini_ringsdata/opus/N1467345975/*.map.dst.cal.cub /cassini_ringsdata/SOI/\n",
      "/cassini_ringsdata/opus/N1467346034/*.png /cassini_ringsdata/opus/N1467346034/*.map.dst.cal.cub /cassini_ringsdata/SOI/\n",
      "/cassini_ringsdata/opus/N1467345562/*.png /cassini_ringsdata/opus/N1467345562/*.map.dst.cal.cub /cassini_ringsdata/SOI/\n",
      "/cassini_ringsdata/opus/N1467346565/*.png /cassini_ringsdata/opus/N1467346565/*.map.dst.cal.cub /cassini_ringsdata/SOI/\n",
      "/cassini_ringsdata/opus/N1467345444/*.png /cassini_ringsdata/opus/N1467345444/*.map.dst.cal.cub /cassini_ringsdata/SOI/\n",
      "/cassini_ringsdata/opus/N1467346152/*.png /cassini_ringsdata/opus/N1467346152/*.map.dst.cal.cub /cassini_ringsdata/SOI/\n",
      "/cassini_ringsdata/opus/N1467346624/*.png /cassini_ringsdata/opus/N1467346624/*.map.dst.cal.cub /cassini_ringsdata/SOI/\n",
      "/cassini_ringsdata/opus/N1467346506/*.png /cassini_ringsdata/opus/N1467346506/*.map.dst.cal.cub /cassini_ringsdata/SOI/\n",
      "/cassini_ringsdata/opus/N1467346270/*.png /cassini_ringsdata/opus/N1467346270/*.map.dst.cal.cub /cassini_ringsdata/SOI/\n",
      "/cassini_ringsdata/opus/N1467347210/*.png /cassini_ringsdata/opus/N1467347210/*.map.dst.cal.cub /cassini_ringsdata/SOI/\n",
      "/cassini_ringsdata/opus/N1467345798/*.png /cassini_ringsdata/opus/N1467345798/*.map.dst.cal.cub /cassini_ringsdata/SOI/\n",
      "/cassini_ringsdata/opus/N1467345739/*.png /cassini_ringsdata/opus/N1467345739/*.map.dst.cal.cub /cassini_ringsdata/SOI/\n",
      "/cassini_ringsdata/opus/N1467346093/*.png /cassini_ringsdata/opus/N1467346093/*.map.dst.cal.cub /cassini_ringsdata/SOI/\n",
      "/cassini_ringsdata/opus/N1467346447/*.png /cassini_ringsdata/opus/N1467346447/*.map.dst.cal.cub /cassini_ringsdata/SOI/\n"
     ]
    }
   ],
   "source": [
    "for fname in SOI.filtered:\n",
    "    dirname = os.path.dirname(fname)\n",
    "    sourcename = dirname+'/*.png'\n",
    "    source2name = dirname+'/*.map.dst.cal.cub'\n",
    "    targetname = '/cassini_ringsdata/SOI/'\n",
    "    print(sourcename, source2name, targetname)\n",
    "    !cp {sourcename} {source2name} {targetname}"
   ]
  },
  {
   "cell_type": "markdown",
   "metadata": {
    "collapsed": true
   },
   "source": [
    "# Comparison"
   ]
  },
  {
   "cell_type": "code",
   "execution_count": 9,
   "metadata": {
    "collapsed": false
   },
   "outputs": [
    {
     "name": "stdout",
     "output_type": "stream",
     "text": [
      "N1467347445_2.map.dst.cal.cub\n",
      "N1467347249_2.map.dst.cal.cub\n",
      "N1467345857_2.map.dst.cal.cub\n",
      "N1467345621_2.map.dst.cal.cub\n",
      "N1467345680_2.map.dst.cal.cub\n",
      "N1467345916_2.map.dst.cal.cub\n",
      "N1467346329_2.map.dst.cal.cub\n",
      "N1467345503_2.map.dst.cal.cub\n",
      "N1467346388_2.map.dst.cal.cub\n",
      "N1467347504_2.map.dst.cal.cub\n",
      "N1467346211_2.map.dst.cal.cub\n",
      "N1467345975_2.map.dst.cal.cub\n",
      "N1467346034_2.map.dst.cal.cub\n",
      "N1467345562_3.map.dst.cal.cub\n",
      "N1467346565_2.map.dst.cal.cub\n",
      "N1467345444_2.map.dst.cal.cub\n",
      "N1467346152_2.map.dst.cal.cub\n",
      "N1467346624_2.map.dst.cal.cub\n",
      "N1467346506_2.map.dst.cal.cub\n",
      "N1467346270_2.map.dst.cal.cub\n",
      "N1467347210_2.map.dst.cal.cub\n",
      "N1467345798_2.map.dst.cal.cub\n",
      "N1467345739_2.map.dst.cal.cub\n",
      "N1467346093_2.map.dst.cal.cub\n",
      "N1467346447_2.map.dst.cal.cub\n"
     ]
    },
    {
     "name": "stderr",
     "output_type": "stream",
     "text": [
      "/usr/local/python/miniconda/lib/python3.4/site-packages/matplotlib/pyplot.py:424: RuntimeWarning: More than 20 figures have been opened. Figures created through the pyplot interface (`matplotlib.pyplot.figure`) are retained until explicitly closed and may consume too much memory. (To control this warning, see the rcParam `figure.max_open_warning`).\n",
      "  max_open_warning, RuntimeWarning)\n"
     ]
    }
   ],
   "source": [
    "plt.ioff()\n",
    "import os\n",
    "for fname in SOI:\n",
    "    print(os.path.basename(fname))\n",
    "    fig, axes = plt.subplots(ncols=2, figsize=io.calc_4_3(10))\n",
    "    oldcube = io.RingCube.open(fname.split('.')[0]+'.map.cal.cub')\n",
    "    oldcube.imshow(ax=axes[0])\n",
    "    newcube = io.RingCube.open(fname)\n",
    "    newcube.imshow(ax=axes[1])\n",
    "    savename = os.path.basename(fname).split('.')[0]+'_compare.png'\n",
    "    fig.savefig('/cassini_ringsdata/SOI/'+savename, dpi=150)"
   ]
  },
  {
   "cell_type": "markdown",
   "metadata": {
    "collapsed": true
   },
   "source": [
    "# Create tifs"
   ]
  },
  {
   "cell_type": "code",
   "execution_count": 154,
   "metadata": {
    "collapsed": false,
    "scrolled": false
   },
   "outputs": [],
   "source": [
    "from pysis.isis import isis2std\n",
    "for fname in SOI.filtered:\n",
    "    dirname = os.path.dirname(fname)\n",
    "    cube = glob.glob(os.path.join(dirname, '*.map.dst.cal.cub'))[0]\n",
    "    print(cube)\n",
    "    isis2std(from_=cube, to=cube[:-3]+'png', format='png',\n",
    "             minpercent=2, maxpercent=98,)\n",
    "#     bittype='8bit')"
   ]
  },
  {
   "cell_type": "code",
   "execution_count": null,
   "metadata": {
    "collapsed": true
   },
   "outputs": [],
   "source": []
  }
 ],
 "metadata": {
  "kernelspec": {
   "display_name": "Python 3",
   "language": "python",
   "name": "python3"
  },
  "language_info": {
   "codemirror_mode": {
    "name": "ipython",
    "version": 3
   },
   "file_extension": ".py",
   "mimetype": "text/x-python",
   "name": "python",
   "nbconvert_exporter": "python",
   "pygments_lexer": "ipython3",
   "version": "3.4.3"
  }
 },
 "nbformat": 4,
 "nbformat_minor": 0
}
