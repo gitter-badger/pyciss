{
 "cells": [
  {
   "cell_type": "markdown",
   "metadata": {},
   "source": [
    "# Plot creation"
   ]
  },
  {
   "cell_type": "code",
   "execution_count": null,
   "metadata": {
    "collapsed": true
   },
   "outputs": [],
   "source": [
    "from pathlib import Path"
   ]
  },
  {
   "cell_type": "code",
   "execution_count": null,
   "metadata": {
    "collapsed": true
   },
   "outputs": [],
   "source": [
    "root = Path('/Users/klay6683/Dropbox/data/ciss/SOI')"
   ]
  },
  {
   "cell_type": "code",
   "execution_count": null,
   "metadata": {
    "collapsed": false
   },
   "outputs": [],
   "source": [
    "list(root.glob('*.cub'))"
   ]
  },
  {
   "cell_type": "code",
   "execution_count": null,
   "metadata": {
    "collapsed": false
   },
   "outputs": [],
   "source": [
    "res = glob.glob('/cassini_ringsdata/opus/N*/*.map.dst.cal.cub')"
   ]
  },
  {
   "cell_type": "code",
   "execution_count": null,
   "metadata": {
    "collapsed": false
   },
   "outputs": [],
   "source": [
    "fnames = pd.Series(res)\n",
    "fnames.head()"
   ]
  },
  {
   "cell_type": "code",
   "execution_count": null,
   "metadata": {
    "collapsed": false
   },
   "outputs": [],
   "source": [
    "fnames.size"
   ]
  },
  {
   "cell_type": "code",
   "execution_count": null,
   "metadata": {
    "collapsed": false
   },
   "outputs": [],
   "source": [
    "fnames = pd.DataFrame(fnames)"
   ]
  },
  {
   "cell_type": "code",
   "execution_count": null,
   "metadata": {
    "collapsed": true
   },
   "outputs": [],
   "source": [
    "fnames.columns = ['filtered']"
   ]
  },
  {
   "cell_type": "code",
   "execution_count": null,
   "metadata": {
    "collapsed": false
   },
   "outputs": [],
   "source": [
    "fnames.head()"
   ]
  },
  {
   "cell_type": "code",
   "execution_count": null,
   "metadata": {
    "collapsed": true
   },
   "outputs": [],
   "source": [
    "import os\n",
    "fnames['obs_id'] = fnames.filtered.map(lambda x: os.path.dirname(x).split('/')[-1])"
   ]
  },
  {
   "cell_type": "code",
   "execution_count": null,
   "metadata": {
    "collapsed": false
   },
   "outputs": [],
   "source": [
    "fnames.head()"
   ]
  },
  {
   "cell_type": "code",
   "execution_count": null,
   "metadata": {
    "collapsed": true
   },
   "outputs": [],
   "source": [
    "fnames.set_index('obs_id', inplace=True)"
   ]
  },
  {
   "cell_type": "code",
   "execution_count": null,
   "metadata": {
    "collapsed": false
   },
   "outputs": [],
   "source": [
    "fnames.head()"
   ]
  },
  {
   "cell_type": "code",
   "execution_count": null,
   "metadata": {
    "collapsed": false
   },
   "outputs": [],
   "source": [
    "def get_unfiltered_from_filtered(filtered):\n",
    "    dirname = os.path.dirname(filtered)\n",
    "    unfiltered = glob.glob(os.path.join(dirname, '*.map.cal.cub'))\n",
    "    if unfiltered:\n",
    "        return unfiltered[0]\n",
    "    else:\n",
    "        return None\n",
    "fnames['unfiltered']=fnames.filtered.map(get_unfiltered_from_filtered)"
   ]
  },
  {
   "cell_type": "code",
   "execution_count": null,
   "metadata": {
    "collapsed": false
   },
   "outputs": [],
   "source": [
    "fnames.describe()"
   ]
  },
  {
   "cell_type": "code",
   "execution_count": null,
   "metadata": {
    "collapsed": true
   },
   "outputs": [],
   "source": [
    "SOI = fnames[fnames.filtered.str.contains('N146734')]"
   ]
  },
  {
   "cell_type": "code",
   "execution_count": null,
   "metadata": {
    "collapsed": false
   },
   "outputs": [],
   "source": [
    "SOI"
   ]
  },
  {
   "cell_type": "code",
   "execution_count": null,
   "metadata": {
    "collapsed": true
   },
   "outputs": [],
   "source": [
    "def convert_to_png(fname):\n",
    "    import gdal\n",
    "    from pyciss import io\n",
    "    ds = gdal.Open(fname)\n",
    "    if ds.RasterXSize > 5200:\n",
    "        return fname, False\n",
    "    cube = io.RingCube.open(fname)\n",
    "    cube.imshow(save=True, extra_title='Filtered')\n",
    "    return fname, True"
   ]
  },
  {
   "cell_type": "code",
   "execution_count": null,
   "metadata": {
    "collapsed": false
   },
   "outputs": [],
   "source": [
    "from IPython.parallel import Client\n",
    "c = Client()"
   ]
  },
  {
   "cell_type": "code",
   "execution_count": null,
   "metadata": {
    "collapsed": true
   },
   "outputs": [],
   "source": [
    "lbview = c.load_balanced_view()"
   ]
  },
  {
   "cell_type": "code",
   "execution_count": null,
   "metadata": {
    "collapsed": true
   },
   "outputs": [],
   "source": [
    "results = lbview.map_async(convert_to_png, SOI.filtered)"
   ]
  },
  {
   "cell_type": "code",
   "execution_count": null,
   "metadata": {
    "collapsed": false
   },
   "outputs": [],
   "source": [
    "from iuvs.multitools import *"
   ]
  },
  {
   "cell_type": "code",
   "execution_count": null,
   "metadata": {
    "collapsed": false
   },
   "outputs": [],
   "source": [
    "from time import sleep\n",
    "prog = IntProgress(min=0, max=len(SOI))\n",
    "display(prog)\n",
    "while not results.ready():\n",
    "    sleep(1)\n",
    "    prog.value = results.progress\n",
    "print(\"Done.\")"
   ]
  },
  {
   "cell_type": "code",
   "execution_count": null,
   "metadata": {
    "collapsed": false
   },
   "outputs": [],
   "source": [
    "results.result"
   ]
  },
  {
   "cell_type": "code",
   "execution_count": null,
   "metadata": {
    "collapsed": false
   },
   "outputs": [],
   "source": [
    "for fname in SOI.filtered:\n",
    "    dirname = os.path.dirname(fname)\n",
    "    sourcename = dirname+'/*.png'\n",
    "    source2name = dirname+'/*.map.dst.cal.cub'\n",
    "    targetname = '/cassini_ringsdata/SOI/'\n",
    "    print(sourcename, source2name, targetname)\n",
    "    !cp {sourcename} {source2name} {targetname}"
   ]
  },
  {
   "cell_type": "markdown",
   "metadata": {
    "collapsed": true
   },
   "source": [
    "# Comparison"
   ]
  },
  {
   "cell_type": "code",
   "execution_count": null,
   "metadata": {
    "collapsed": false
   },
   "outputs": [],
   "source": [
    "plt.ioff()\n",
    "import os\n",
    "for fname in SOI:\n",
    "    print(os.path.basename(fname))\n",
    "    fig, axes = plt.subplots(ncols=2, figsize=io.calc_4_3(10))\n",
    "    oldcube = io.RingCube.open(fname.split('.')[0]+'.map.cal.cub')\n",
    "    oldcube.imshow(ax=axes[0])\n",
    "    newcube = io.RingCube.open(fname)\n",
    "    newcube.imshow(ax=axes[1])\n",
    "    savename = os.path.basename(fname).split('.')[0]+'_compare.png'\n",
    "    fig.savefig('/cassini_ringsdata/SOI/'+savename, dpi=150)"
   ]
  },
  {
   "cell_type": "markdown",
   "metadata": {
    "collapsed": true
   },
   "source": [
    "# Create tifs"
   ]
  },
  {
   "cell_type": "code",
   "execution_count": null,
   "metadata": {
    "collapsed": false,
    "scrolled": false
   },
   "outputs": [],
   "source": [
    "from pysis.isis import isis2std\n",
    "for fname in SOI.filtered:\n",
    "    dirname = os.path.dirname(fname)\n",
    "    cube = glob.glob(os.path.join(dirname, '*.map.dst.cal.cub'))[0]\n",
    "    print(cube)\n",
    "    isis2std(from_=cube, to=cube[:-3]+'png', format='png',\n",
    "             minpercent=2, maxpercent=98,)\n",
    "#     bittype='8bit')"
   ]
  },
  {
   "cell_type": "code",
   "execution_count": null,
   "metadata": {
    "collapsed": true
   },
   "outputs": [],
   "source": []
  }
 ],
 "metadata": {
  "kernelspec": {
   "display_name": "Python 3",
   "language": "python",
   "name": "python3"
  },
  "language_info": {
   "codemirror_mode": {
    "name": "ipython",
    "version": 3
   },
   "file_extension": ".py",
   "mimetype": "text/x-python",
   "name": "python",
   "nbconvert_exporter": "python",
   "pygments_lexer": "ipython3",
   "version": "3.5.1"
  }
 },
 "nbformat": 4,
 "nbformat_minor": 1
}
