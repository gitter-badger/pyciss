{
 "cells": [
  {
   "cell_type": "code",
   "execution_count": 1,
   "metadata": {
    "collapsed": false
   },
   "outputs": [
    {
     "name": "stdout",
     "output_type": "stream",
     "text": [
      "/Volumes/Data/ciss/pdsrings-data-b-2016-01-07T17-33-51\n"
     ]
    }
   ],
   "source": [
    "cd /Volumes/Data/ciss/pdsrings-data-b-2016-01-07T17-33-51/"
   ]
  },
  {
   "cell_type": "code",
   "execution_count": 2,
   "metadata": {
    "collapsed": false
   },
   "outputs": [
    {
     "name": "stdout",
     "output_type": "stream",
     "text": [
      "N1595337524_1.IMG        N1595338330_1_full.jpg   N1595338974_1_CALIB.LBL\r\n",
      "N1595337524_1.LBL        N1595338813_1.IMG        N1595338974_1_full.jpg\r\n",
      "N1595337524_1_CALIB.IMG  N1595338813_1.LBL        PREFIX3.FMT\r\n",
      "N1595337524_1_CALIB.LBL  N1595338813_1_CALIB.IMG  TLMTAB.FMT\r\n",
      "N1595337524_1_full.jpg   N1595338813_1_CALIB.LBL  checksum.txt\r\n",
      "N1595338330_1.IMG        N1595338813_1_full.jpg   data.csv\r\n",
      "N1595338330_1.LBL        N1595338974_1.IMG        manifest.txt\r\n",
      "N1595338330_1_CALIB.IMG  N1595338974_1.LBL\r\n",
      "N1595338330_1_CALIB.LBL  N1595338974_1_CALIB.IMG\r\n"
     ]
    }
   ],
   "source": [
    "ls"
   ]
  },
  {
   "cell_type": "code",
   "execution_count": null,
   "metadata": {
    "collapsed": true
   },
   "outputs": [],
   "source": [
    "from pysis.isis imp"
   ]
  }
 ],
 "metadata": {
  "kernelspec": {
   "display_name": "Python 3",
   "language": "python",
   "name": "python3"
  },
  "language_info": {
   "codemirror_mode": {
    "name": "ipython",
    "version": 3
   },
   "file_extension": ".py",
   "mimetype": "text/x-python",
   "name": "python",
   "nbconvert_exporter": "python",
   "pygments_lexer": "ipython3",
   "version": "3.5.1"
  }
 },
 "nbformat": 4,
 "nbformat_minor": 0
}
