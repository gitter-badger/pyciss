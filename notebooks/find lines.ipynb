{
 "cells": [
  {
   "cell_type": "code",
   "execution_count": null,
   "metadata": {
    "collapsed": false
   },
   "outputs": [],
   "source": [
    "cd ~/data/ciss/img_from_miodraks_set/"
   ]
  },
  {
   "cell_type": "code",
   "execution_count": null,
   "metadata": {
    "collapsed": false
   },
   "outputs": [],
   "source": [
    "ls *.png"
   ]
  },
  {
   "cell_type": "code",
   "execution_count": null,
   "metadata": {
    "collapsed": true
   },
   "outputs": [],
   "source": [
    "from skimage.io import imread"
   ]
  },
  {
   "cell_type": "code",
   "execution_count": null,
   "metadata": {
    "collapsed": false
   },
   "outputs": [],
   "source": [
    "img = imread('./view_export.png')"
   ]
  },
  {
   "cell_type": "code",
   "execution_count": null,
   "metadata": {
    "collapsed": false
   },
   "outputs": [],
   "source": [
    "img = img[...,0]"
   ]
  },
  {
   "cell_type": "code",
   "execution_count": null,
   "metadata": {
    "collapsed": true
   },
   "outputs": [],
   "source": [
    "from skimage.transform import (hough_line, hough_line_peaks, probabilistic_hough_line)"
   ]
  },
  {
   "cell_type": "code",
   "execution_count": null,
   "metadata": {
    "collapsed": true
   },
   "outputs": [],
   "source": [
    "from skimage.transform import (hough_line, hough_line_peaks,\n",
    "                               probabilistic_hough_line)\n",
    "from skimage.feature import canny\n",
    "from skimage import data\n",
    "\n",
    "import numpy as np\n",
    "import matplotlib.pyplot as plt\n",
    "\n",
    "# Construct test image\n",
    "\n",
    "image = np.zeros((100, 100))\n",
    "\n",
    "\n",
    "# Classic straight-line Hough transform\n",
    "\n",
    "idx = np.arange(25, 75)\n",
    "image[idx[::-1], idx] = 255\n",
    "image[idx, idx] = 255"
   ]
  },
  {
   "cell_type": "code",
   "execution_count": null,
   "metadata": {
    "collapsed": true
   },
   "outputs": [],
   "source": [
    "image = img"
   ]
  },
  {
   "cell_type": "code",
   "execution_count": null,
   "metadata": {
    "collapsed": true
   },
   "outputs": [],
   "source": [
    "%matplotlib inline"
   ]
  },
  {
   "cell_type": "code",
   "execution_count": null,
   "metadata": {
    "collapsed": false
   },
   "outputs": [],
   "source": [
    "import seaborn as sns\n",
    "sns.set_context('talk')\n",
    "sns.set_style('dark')"
   ]
  },
  {
   "cell_type": "code",
   "execution_count": null,
   "metadata": {
    "collapsed": false
   },
   "outputs": [],
   "source": [
    "h, theta, d = hough_line(image)\n",
    "\n",
    "fig, ax = plt.subplots(1, 3, figsize=figsize_43(10))\n",
    "\n",
    "ax[0].imshow(image, cmap=plt.cm.gray)\n",
    "ax[0].set_title('Input image')\n",
    "ax[0].axis('image')\n",
    "\n",
    "ax[1].imshow(np.log(1 + h),\n",
    "#            extent=[np.rad2deg(theta[-1]), np.rad2deg(theta[0]),\n",
    "#                    d[-1], d[0]],\n",
    "           cmap=plt.cm.gray, aspect='equal')\n",
    "\n",
    "with sns.axes_style('darkgrid'):\n",
    "    ax[1].set_title('Hough transform')\n",
    "    ax[1].set_xlabel('Angles (degrees)')\n",
    "    ax[1].set_ylabel('Distance (pixels)')\n",
    "    ax[1].axis('image')\n",
    "\n",
    "ax[2].imshow(image, cmap=plt.cm.gray)\n",
    "rows, cols = image.shape\n",
    "for _, angle, dist in zip(*hough_line_peaks(h, theta, d)):\n",
    "    y0 = (dist - 0 * np.cos(angle)) / np.sin(angle)\n",
    "    y1 = (dist - cols * np.cos(angle)) / np.sin(angle)\n",
    "    ax[2].plot((0, cols), (y0, y1), '-r')\n",
    "ax[2].axis((0, cols, rows, 0))\n",
    "ax[2].set_title('Detected lines')\n",
    "ax[2].axis('image')\n",
    "fig.savefig('simple_houghtransform_demo.png', dpi=100)"
   ]
  },
  {
   "cell_type": "code",
   "execution_count": null,
   "metadata": {
    "collapsed": true
   },
   "outputs": [],
   "source": [
    "def figsize_43(width):\n",
    "    \n",
    "    return width, 3*width/4.0"
   ]
  },
  {
   "cell_type": "code",
   "execution_count": null,
   "metadata": {
    "collapsed": false
   },
   "outputs": [],
   "source": [
    "image = ubyted\n",
    "edges = canny(image, 1, 3, 4)\n",
    "lines = probabilistic_hough_line(edges, threshold=10, line_length=300, line_gap=3)\n",
    "\n",
    "fig2, ax = plt.subplots(nrows=3, figsize=figsize_43(10))\n",
    "\n",
    "ax[0].imshow(image, cmap=plt.cm.gray)\n",
    "ax[0].set_title('Input image')\n",
    "# ax[0].axis('image')\n",
    "\n",
    "ax[1].imshow(edges, cmap=plt.cm.gray)\n",
    "ax[1].set_title('Canny edges')\n",
    "# ax[1].axis('image')\n",
    "\n",
    "ax[2].imshow(edges * 0)\n",
    "\n",
    "for line in lines:\n",
    "    p0, p1 = line\n",
    "    ax[2].plot((p0[0], p1[0]), (p0[1], p1[1]))\n",
    "\n",
    "ax[2].set_title('Probabilistic Hough')\n",
    "# ax[2].axis('image')\n",
    "fig2.tight_layout()\n",
    "plt.show()\n",
    "fig2.savefig('prob_hough_transform_demo.png',dpi=100)"
   ]
  },
  {
   "cell_type": "code",
   "execution_count": null,
   "metadata": {
    "collapsed": false
   },
   "outputs": [],
   "source": [
    "pwd"
   ]
  },
  {
   "cell_type": "code",
   "execution_count": null,
   "metadata": {
    "collapsed": false
   },
   "outputs": [],
   "source": [
    "lines"
   ]
  },
  {
   "cell_type": "markdown",
   "metadata": {},
   "source": [
    "# N1554730872_1.IMG"
   ]
  },
  {
   "cell_type": "code",
   "execution_count": null,
   "metadata": {
    "collapsed": false
   },
   "outputs": [],
   "source": [
    "cd ~/data/ciss/opus"
   ]
  },
  {
   "cell_type": "code",
   "execution_count": null,
   "metadata": {
    "collapsed": true
   },
   "outputs": [],
   "source": [
    "from pyciss import pipeline"
   ]
  },
  {
   "cell_type": "code",
   "execution_count": null,
   "metadata": {
    "collapsed": false
   },
   "outputs": [],
   "source": [
    "pipeline.calibrate_ciss('/Users/klay6683/data/ciss/opus/N1595336719_1.LBL')"
   ]
  },
  {
   "cell_type": "code",
   "execution_count": null,
   "metadata": {
    "collapsed": false
   },
   "outputs": [],
   "source": [
    "cd ~/data/ciss/opus"
   ]
  },
  {
   "cell_type": "code",
   "execution_count": null,
   "metadata": {
    "collapsed": true
   },
   "outputs": [],
   "source": [
    "import gdal\n",
    "ds = gdal.Open('/Users/klay6683/data/ciss/opus/N1595336719_1.map.cal.cub')"
   ]
  },
  {
   "cell_type": "code",
   "execution_count": null,
   "metadata": {
    "collapsed": false
   },
   "outputs": [],
   "source": [
    "data= ds.ReadAsArray()\n",
    "data[data<0]= np.nan"
   ]
  },
  {
   "cell_type": "code",
   "execution_count": null,
   "metadata": {
    "collapsed": false
   },
   "outputs": [],
   "source": [
    "data.shape"
   ]
  },
  {
   "cell_type": "code",
   "execution_count": null,
   "metadata": {
    "collapsed": true
   },
   "outputs": [],
   "source": [
    "subframe = data[400:1050, 500:1250]"
   ]
  },
  {
   "cell_type": "code",
   "execution_count": null,
   "metadata": {
    "collapsed": false
   },
   "outputs": [],
   "source": [
    "plt.imshow(subframe)"
   ]
  },
  {
   "cell_type": "code",
   "execution_count": null,
   "metadata": {
    "collapsed": false
   },
   "outputs": [],
   "source": [
    "from skimage import util"
   ]
  },
  {
   "cell_type": "code",
   "execution_count": null,
   "metadata": {
    "collapsed": false
   },
   "outputs": [],
   "source": [
    "ubyted = util.img_as_ubyte(subframe)"
   ]
  },
  {
   "cell_type": "markdown",
   "metadata": {},
   "source": [
    "# FFT"
   ]
  },
  {
   "cell_type": "code",
   "execution_count": null,
   "metadata": {
    "collapsed": false
   },
   "outputs": [],
   "source": [
    "cd \"/Users/klay6683/Dropbox/DDocuments/UVIS/straws/2015-02-06_Work_with_ISS_ring_images\""
   ]
  },
  {
   "cell_type": "code",
   "execution_count": null,
   "metadata": {
    "collapsed": false
   },
   "outputs": [],
   "source": [
    "ring = imread('output_22_1.png', as_grey=True)[10:-30, 30:-10]"
   ]
  },
  {
   "cell_type": "code",
   "execution_count": null,
   "metadata": {
    "collapsed": false
   },
   "outputs": [],
   "source": [
    "img.shape"
   ]
  },
  {
   "cell_type": "code",
   "execution_count": null,
   "metadata": {
    "collapsed": false
   },
   "outputs": [],
   "source": [
    "plt.imshow(ring)"
   ]
  },
  {
   "cell_type": "code",
   "execution_count": null,
   "metadata": {
    "collapsed": true
   },
   "outputs": [],
   "source": [
    "from numpy import fft"
   ]
  },
  {
   "cell_type": "code",
   "execution_count": null,
   "metadata": {
    "collapsed": true
   },
   "outputs": [],
   "source": [
    "F1 = fft.rfft2(ring)"
   ]
  },
  {
   "cell_type": "code",
   "execution_count": null,
   "metadata": {
    "collapsed": true
   },
   "outputs": [],
   "source": [
    "F2 = fft.fftshift(F1)"
   ]
  },
  {
   "cell_type": "code",
   "execution_count": null,
   "metadata": {
    "collapsed": false
   },
   "outputs": [],
   "source": [
    "psd2D = np.abs(F2)**2\n",
    "autocorr = fft.irfft2(fft.ifftshift(psd2D))\n",
    "# F2 = fftpack.fftshift(F1)"
   ]
  },
  {
   "cell_type": "code",
   "execution_count": null,
   "metadata": {
    "collapsed": false
   },
   "outputs": [],
   "source": [
    "plt.subplot(211)\n",
    "plt.imshow(np.log10(psd2D))\n",
    "plt.subplot(212)\n",
    "plt.imshow(autocorr, vmin=106000, vmax=108000)"
   ]
  },
  {
   "cell_type": "code",
   "execution_count": null,
   "metadata": {
    "collapsed": false
   },
   "outputs": [],
   "source": [
    "plt.hist(autocorr.ravel(), bins=50);"
   ]
  },
  {
   "cell_type": "code",
   "execution_count": null,
   "metadata": {
    "collapsed": false
   },
   "outputs": [],
   "source": [
    "fig, ax = plt.subplots(nrows=2, figsize = figsize_43(10))\n",
    "ax[0].imshow(ring)\n",
    "ax[1].imshow(np.log10(psd2D))\n",
    "fig.savefig('fft_trial.png',dpi=100)"
   ]
  },
  {
   "cell_type": "code",
   "execution_count": null,
   "metadata": {
    "collapsed": false
   },
   "outputs": [],
   "source": [
    "img.min()"
   ]
  },
  {
   "cell_type": "code",
   "execution_count": null,
   "metadata": {
    "collapsed": false
   },
   "outputs": [],
   "source": [
    "# %load http://scikit-image.org/docs/dev/_downloads/plot_gabor.py\n",
    "\"\"\"\n",
    "=============================================\n",
    "Gabor filter banks for texture classification\n",
    "=============================================\n",
    "\n",
    "In this example, we will see how to classify textures based on Gabor filter\n",
    "banks. Frequency and orientation representations of the Gabor filter are similar\n",
    "to those of the human visual system.\n",
    "\n",
    "The images are filtered using the real parts of various different Gabor filter\n",
    "kernels. The mean and variance of the filtered images are then used as features\n",
    "for classification, which is based on the least squared error for simplicity.\n",
    "\n",
    "\"\"\"\n",
    "from __future__ import print_function\n",
    "\n",
    "import matplotlib\n",
    "import matplotlib.pyplot as plt\n",
    "import numpy as np\n",
    "from scipy import ndimage as nd\n",
    "\n",
    "from skimage import data\n",
    "from skimage.util import img_as_float\n",
    "from skimage.filters import gabor_kernel\n",
    "\n",
    "\n",
    "def compute_feats(image, kernels):\n",
    "    feats = np.zeros((len(kernels), 2), dtype=np.double)\n",
    "    for k, kernel in enumerate(kernels):\n",
    "        filtered = nd.convolve(image, kernel, mode='wrap')\n",
    "        feats[k, 0] = filtered.mean()\n",
    "        feats[k, 1] = filtered.var()\n",
    "    return feats\n",
    "\n",
    "\n",
    "def match(feats, ref_feats):\n",
    "    min_error = np.inf\n",
    "    min_i = None\n",
    "    for i in range(ref_feats.shape[0]):\n",
    "        error = np.sum((feats - ref_feats[i, :])**2)\n",
    "        if error < min_error:\n",
    "            min_error = error\n",
    "            min_i = i\n",
    "    return min_i\n",
    "\n",
    "\n",
    "# prepare filter bank kernels\n",
    "kernels = []\n",
    "for theta in range(4):\n",
    "    theta = theta / 4. * np.pi\n",
    "    for sigma in (1, 3):\n",
    "        for frequency in (0.05, 0.25):\n",
    "            kernel = np.real(gabor_kernel(frequency, theta=theta,\n",
    "                                          sigma_x=sigma, sigma_y=sigma))\n",
    "            kernels.append(kernel)\n",
    "\n",
    "\n",
    "shrink = (slice(0, None, 3), slice(0, None, 3))\n",
    "brick = img_as_float(data.load('brick.png'))[shrink]\n",
    "grass = img_as_float(data.load('grass.png'))[shrink]\n",
    "wall = img_as_float(data.load('rough-wall.png'))[shrink]\n",
    "image_names = ('brick', 'grass', 'wall', 'rings')\n",
    "images = (brick, grass, wall, ring)\n",
    "\n",
    "# prepare reference features\n",
    "ref_feats = np.zeros((4, len(kernels), 2), dtype=np.double)\n",
    "ref_feats[0, :, :] = compute_feats(brick, kernels)\n",
    "ref_feats[1, :, :] = compute_feats(grass, kernels)\n",
    "ref_feats[2, :, :] = compute_feats(wall, kernels)\n",
    "ref_feats[3, :, :] = compute_feats(img, kernels)\n",
    "\n",
    "print('Rotated images matched against references using Gabor filter banks:')\n",
    "\n",
    "print('original: brick, rotated: 30deg, match result: ', end='')\n",
    "feats = compute_feats(nd.rotate(brick, angle=190, reshape=False), kernels)\n",
    "print(image_names[match(feats, ref_feats)])\n",
    "\n",
    "print('original: brick, rotated: 70deg, match result: ', end='')\n",
    "feats = compute_feats(nd.rotate(brick, angle=70, reshape=False), kernels)\n",
    "print(image_names[match(feats, ref_feats)])\n",
    "\n",
    "print('original: grass, rotated: 145deg, match result: ', end='')\n",
    "feats = compute_feats(nd.rotate(grass, angle=145, reshape=False), kernels)\n",
    "print(image_names[match(feats, ref_feats)])\n",
    "\n",
    "\n",
    "def power(image, kernel):\n",
    "    # Normalize images for better comparison.\n",
    "    image = (image - image.mean()) / image.std()\n",
    "    return np.sqrt(nd.convolve(image, np.real(kernel), mode='wrap')**2 +\n",
    "                   nd.convolve(image, np.imag(kernel), mode='wrap')**2)\n",
    "\n",
    "# Plot a selection of the filter bank kernels and their responses.\n",
    "results = []\n",
    "kernel_params = []\n",
    "for theta in (0, 1):\n",
    "    theta = theta / 4. * np.pi\n",
    "    for frequency in (0.1, 0.4):\n",
    "        kernel = gabor_kernel(frequency, theta=theta)\n",
    "        params = 'theta=%d,\\nfrequency=%.2f' % (theta * 180 / np.pi, frequency)\n",
    "        kernel_params.append(params)\n",
    "        # Save kernel and the power image for each image\n",
    "        results.append((kernel, [power(img, kernel) for img in images]))\n",
    "\n",
    "fig, axes = plt.subplots(nrows=5, ncols=5, figsize=(5, 6))\n",
    "plt.gray()\n",
    "\n",
    "fig.suptitle('Image responses for Gabor filter kernels', fontsize=12)\n",
    "\n",
    "axes[0][0].axis('off')\n",
    "\n",
    "# Plot original images\n",
    "for label, img, ax in zip(image_names, images, axes[0][1:]):\n",
    "    ax.imshow(img)\n",
    "    ax.set_title(label, fontsize=9)\n",
    "    ax.axis('off')\n",
    "\n",
    "for label, (kernel, powers), ax_row in zip(kernel_params, results, axes[1:]):\n",
    "    # Plot Gabor kernel\n",
    "    ax = ax_row[0]\n",
    "    ax.imshow(np.real(kernel), interpolation='nearest')\n",
    "    ax.set_ylabel(label, fontsize=7)\n",
    "    ax.set_xticks([])\n",
    "    ax.set_yticks([])\n",
    "\n",
    "    # Plot Gabor responses with the contrast normalized for each filter\n",
    "    vmin = np.min(powers)\n",
    "    vmax = np.max(powers)\n",
    "    for patch, ax in zip(powers, ax_row[1:]):\n",
    "        ax.imshow(patch, vmin=vmin, vmax=vmax)\n",
    "        ax.axis('off')\n",
    "\n",
    "plt.show()\n"
   ]
  },
  {
   "cell_type": "code",
   "execution_count": null,
   "metadata": {
    "collapsed": true
   },
   "outputs": [],
   "source": []
  },
  {
   "cell_type": "code",
   "execution_count": null,
   "metadata": {
    "collapsed": true
   },
   "outputs": [],
   "source": []
  }
 ],
 "metadata": {
  "kernelspec": {
   "display_name": "Python 2",
   "language": "python",
   "name": "python2"
  },
  "language_info": {
   "codemirror_mode": {
    "name": "ipython",
    "version": 2
   },
   "file_extension": ".py",
   "mimetype": "text/x-python",
   "name": "python",
   "nbconvert_exporter": "python",
   "pygments_lexer": "ipython2",
   "version": "2.7.9"
  }
 },
 "nbformat": 4,
 "nbformat_minor": 0
}
