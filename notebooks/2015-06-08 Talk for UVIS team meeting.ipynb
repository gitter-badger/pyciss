{
 "cells": [
  {
   "cell_type": "code",
   "execution_count": 4,
   "metadata": {
    "collapsed": true
   },
   "outputs": [],
   "source": [
    "SOI_data = !ls /Users/klay6683/data/ciss/SOI/*.cub"
   ]
  },
  {
   "cell_type": "code",
   "execution_count": 5,
   "metadata": {
    "collapsed": false
   },
   "outputs": [
    {
     "data": {
      "text/plain": [
       "['/Users/klay6683/data/ciss/SOI/N1467345444_2.map.dst.cal.cub',\n",
       " '/Users/klay6683/data/ciss/SOI/N1467345503_2.map.dst.cal.cub',\n",
       " '/Users/klay6683/data/ciss/SOI/N1467345562_3.map.dst.cal.cub',\n",
       " '/Users/klay6683/data/ciss/SOI/N1467345621_2.map.dst.cal.cub',\n",
       " '/Users/klay6683/data/ciss/SOI/N1467345680_2.map.dst.cal.cub',\n",
       " '/Users/klay6683/data/ciss/SOI/N1467345739_2.map.dst.cal.cub',\n",
       " '/Users/klay6683/data/ciss/SOI/N1467345798_2.map.dst.cal.cub',\n",
       " '/Users/klay6683/data/ciss/SOI/N1467345857_2.map.dst.cal.cub',\n",
       " '/Users/klay6683/data/ciss/SOI/N1467345916_2.map.dst.cal.cub',\n",
       " '/Users/klay6683/data/ciss/SOI/N1467345975_2.map.dst.cal.cub',\n",
       " '/Users/klay6683/data/ciss/SOI/N1467346034_2.map.dst.cal.cub',\n",
       " '/Users/klay6683/data/ciss/SOI/N1467346093_2.map.dst.cal.cub',\n",
       " '/Users/klay6683/data/ciss/SOI/N1467346152_2.map.dst.cal.cub',\n",
       " '/Users/klay6683/data/ciss/SOI/N1467346211_2.map.dst.cal.cub',\n",
       " '/Users/klay6683/data/ciss/SOI/N1467346270_2.map.dst.cal.cub',\n",
       " '/Users/klay6683/data/ciss/SOI/N1467346329_2.map.dst.cal.cub',\n",
       " '/Users/klay6683/data/ciss/SOI/N1467346388_2.map.dst.cal.cub',\n",
       " '/Users/klay6683/data/ciss/SOI/N1467346447_2.map.dst.cal.cub',\n",
       " '/Users/klay6683/data/ciss/SOI/N1467346506_2.map.dst.cal.cub',\n",
       " '/Users/klay6683/data/ciss/SOI/N1467346565_2.map.dst.cal.cub',\n",
       " '/Users/klay6683/data/ciss/SOI/N1467346624_2.map.dst.cal.cub',\n",
       " '/Users/klay6683/data/ciss/SOI/N1467347210_2.map.dst.cal.cub',\n",
       " '/Users/klay6683/data/ciss/SOI/N1467347249_2.map.dst.cal.cub',\n",
       " '/Users/klay6683/data/ciss/SOI/N1467347445_2.map.dst.cal.cub',\n",
       " '/Users/klay6683/data/ciss/SOI/N1467347504_2.map.dst.cal.cub']"
      ]
     },
     "execution_count": 5,
     "metadata": {},
     "output_type": "execute_result"
    }
   ],
   "source": [
    "SOI_data"
   ]
  },
  {
   "cell_type": "code",
   "execution_count": 6,
   "metadata": {
    "collapsed": false
   },
   "outputs": [
    {
     "ename": "ImportError",
     "evalue": "cannot import name 'getkey'",
     "output_type": "error",
     "traceback": [
      "\u001b[0;31m---------------------------------------------------------------------------\u001b[0m",
      "\u001b[0;31mImportError\u001b[0m                               Traceback (most recent call last)",
      "\u001b[0;32m<ipython-input-6-986034c69ab5>\u001b[0m in \u001b[0;36m<module>\u001b[0;34m()\u001b[0m\n\u001b[0;32m----> 1\u001b[0;31m \u001b[0;32mfrom\u001b[0m \u001b[0mpyciss\u001b[0m \u001b[0;32mimport\u001b[0m \u001b[0mio\u001b[0m\u001b[0;34m\u001b[0m\u001b[0m\n\u001b[0m",
      "\u001b[0;32m/Users/klay6683/Dropbox/src/pyciss/pyciss/io.py\u001b[0m in \u001b[0;36m<module>\u001b[0;34m()\u001b[0m\n\u001b[1;32m      1\u001b[0m \u001b[0;32mimport\u001b[0m \u001b[0mos\u001b[0m\u001b[0;34m\u001b[0m\u001b[0m\n\u001b[1;32m      2\u001b[0m \u001b[0;32mfrom\u001b[0m \u001b[0mpysis\u001b[0m \u001b[0;32mimport\u001b[0m \u001b[0mCubeFile\u001b[0m\u001b[0;34m\u001b[0m\u001b[0m\n\u001b[0;32m----> 3\u001b[0;31m \u001b[0;32mfrom\u001b[0m \u001b[0mpysis\u001b[0m\u001b[0;34m.\u001b[0m\u001b[0misis\u001b[0m \u001b[0;32mimport\u001b[0m \u001b[0mgetkey\u001b[0m\u001b[0;34m\u001b[0m\u001b[0m\n\u001b[0m\u001b[1;32m      4\u001b[0m \u001b[0;32mimport\u001b[0m \u001b[0mmatplotlib\u001b[0m\u001b[0;34m.\u001b[0m\u001b[0mpyplot\u001b[0m \u001b[0;32mas\u001b[0m \u001b[0mplt\u001b[0m\u001b[0;34m\u001b[0m\u001b[0m\n\u001b[1;32m      5\u001b[0m \u001b[0;32mimport\u001b[0m \u001b[0mnumpy\u001b[0m \u001b[0;32mas\u001b[0m \u001b[0mnp\u001b[0m\u001b[0;34m\u001b[0m\u001b[0m\n",
      "\u001b[0;31mImportError\u001b[0m: cannot import name 'getkey'"
     ]
    }
   ],
   "source": [
    "from pyciss import io"
   ]
  },
  {
   "cell_type": "code",
   "execution_count": null,
   "metadata": {
    "collapsed": true
   },
   "outputs": [],
   "source": []
  }
 ],
 "metadata": {
  "kernelspec": {
   "display_name": "Python 3",
   "language": "python",
   "name": "python3"
  },
  "language_info": {
   "codemirror_mode": {
    "name": "ipython",
    "version": 3
   },
   "file_extension": ".py",
   "mimetype": "text/x-python",
   "name": "python",
   "nbconvert_exporter": "python",
   "pygments_lexer": "ipython3",
   "version": "3.4.3"
  }
 },
 "nbformat": 4,
 "nbformat_minor": 0
}
