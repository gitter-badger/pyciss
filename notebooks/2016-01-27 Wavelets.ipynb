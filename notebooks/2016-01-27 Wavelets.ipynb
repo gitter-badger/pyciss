{
 "cells": [
  {
   "cell_type": "code",
   "execution_count": 2,
   "metadata": {
    "collapsed": true
   },
   "outputs": [],
   "source": [
    "import wavelets\n",
    "from wavelets import WaveletAnalysis"
   ]
  },
  {
   "cell_type": "code",
   "execution_count": 3,
   "metadata": {
    "collapsed": true
   },
   "outputs": [],
   "source": [
    "def do_wavelet(x):\n",
    "    dt = 1\n",
    "    wa = WaveletAnalysis(x, dt=dt)\n",
    "    power = wa.wavelet_power\n",
    "    scales = wa.scales\n",
    "    t = wa.time\n",
    "    T, S = np.meshgrid(t, scales)\n",
    "    return T, S, power, t\n",
    "\n",
    "def plot_wavelet(x1, x2):\n",
    "    T, S, power, t = do_wavelet(x1)\n",
    "    print(power.max())\n",
    "    fig, ax = plt.subplots(nrows=2, sharex=True, figsize=(4.5,6))\n",
    "    im = ax[0].contourf(T, S, power*1000, 100, cmap='viridis', vmax=1.5)\n",
    "    plt.colorbar(im, ax=ax[0])\n",
    "    T, S, power, t = do_wavelet(x2)\n",
    "    print(power.max())\n",
    "    im2 = ax[1].contourf(T, S, power*1000, 100, cmap='viridis', vmax=1.5)\n",
    "    plt.colorbar(im2, ax=ax[1])\n",
    "    for axis in ax:\n",
    "        axis.set_yscale('log')\n",
    "        axis.set_ylabel(\"Arbitrary power in 1/distance\")\n",
    "    ax[0].set_title(\"Maximum dispersion row\")\n",
    "    ax[1].set_title(\"Minimum dispersion row\")\n",
    "    ax[1].set_xlabel(\"Along Azimuth [pixel]\")"
   ]
  },
  {
   "cell_type": "code",
   "execution_count": null,
   "metadata": {
    "collapsed": true
   },
   "outputs": [],
   "source": []
  }
 ],
 "metadata": {
  "kernelspec": {
   "display_name": "Python 3",
   "language": "python",
   "name": "python3"
  },
  "language_info": {
   "codemirror_mode": {
    "name": "ipython",
    "version": 3
   },
   "file_extension": ".py",
   "mimetype": "text/x-python",
   "name": "python",
   "nbconvert_exporter": "python",
   "pygments_lexer": "ipython3",
   "version": "3.5.1"
  }
 },
 "nbformat": 4,
 "nbformat_minor": 1
}
