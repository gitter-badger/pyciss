{
 "cells": [
  {
   "cell_type": "code",
   "execution_count": null,
   "metadata": {
    "collapsed": false,
    "slideshow": {
     "slide_type": "skip"
    }
   },
   "outputs": [],
   "source": [
    "import spiceypy as spice"
   ]
  },
  {
   "cell_type": "code",
   "execution_count": null,
   "metadata": {
    "collapsed": false
   },
   "outputs": [],
   "source": [
    "from planetpy import utils"
   ]
  },
  {
   "cell_type": "code",
   "execution_count": null,
   "metadata": {
    "collapsed": true,
    "slideshow": {
     "slide_type": "slide"
    }
   },
   "outputs": [],
   "source": [
    "spice.furnsh(\"/Users/klay6683/Dropbox/NotPublic/spice/\"\n",
    "             \"cosp_1000_040701_040701/cas_2004_v21_040701_040701.tm\")"
   ]
  },
  {
   "cell_type": "markdown",
   "metadata": {
    "slideshow": {
     "slide_type": "fragment"
    }
   },
   "source": [
    "## Get epoch time\n",
    "\n",
    "Time coords taken from image label for N1467345444_2.\n",
    "My utils just transforms the NASA date with days of the year to an isoformat string."
   ]
  },
  {
   "cell_type": "code",
   "execution_count": null,
   "metadata": {
    "collapsed": false,
    "slideshow": {
     "slide_type": "fragment"
    }
   },
   "outputs": [],
   "source": [
    "import datetime as dt\n",
    "time = utils.nasa_datetime_to_iso('2004-183T03:37:05')\n",
    "time"
   ]
  },
  {
   "cell_type": "markdown",
   "metadata": {},
   "source": [
    "Now converting this to an epoch time using spice"
   ]
  },
  {
   "cell_type": "code",
   "execution_count": null,
   "metadata": {
    "collapsed": false,
    "slideshow": {
     "slide_type": "fragment"
    }
   },
   "outputs": [],
   "source": [
    "et = spice.utc2et(time)\n",
    "et"
   ]
  },
  {
   "cell_type": "markdown",
   "metadata": {},
   "source": [
    "Feeding this `et` into the `spkpos` function of spice, we get the position data of Cassini in the Saturn reference frame at the time when above image was taken:"
   ]
  },
  {
   "cell_type": "code",
   "execution_count": null,
   "metadata": {
    "collapsed": false
   },
   "outputs": [],
   "source": [
    "vertex, lt = spice.spkpos(\"CASSINI\", et, \"IAU_SATURN\", 'LT', 'SATURN')"
   ]
  },
  {
   "cell_type": "markdown",
   "metadata": {},
   "source": [
    "The `getfov` function takes only SPICE instrument id numbers, no string identifiers, so I need to convert it first:"
   ]
  },
  {
   "cell_type": "code",
   "execution_count": null,
   "metadata": {
    "collapsed": false
   },
   "outputs": [],
   "source": [
    "camid = spice.bodn2c(\"CASSINI_ISS_NAC\")"
   ]
  },
  {
   "cell_type": "markdown",
   "metadata": {},
   "source": [
    "Now, we get the coordinates of the FOV of ISS NAC in the coordinate system of the NAC camera."
   ]
  },
  {
   "cell_type": "code",
   "execution_count": null,
   "metadata": {
    "collapsed": false
   },
   "outputs": [],
   "source": [
    "shape, frame, borvec, no, corners = spice.getfov(camid, 4, 1000, 1000)\n",
    "print(\"Getting a {shape} in frame {frame} with a boresight vector of {borvec}\"\n",
    "      .format(shape=shape, frame=frame, borvec=borvec))"
   ]
  },
  {
   "cell_type": "code",
   "execution_count": null,
   "metadata": {
    "collapsed": false
   },
   "outputs": [],
   "source": [
    "corners"
   ]
  },
  {
   "cell_type": "markdown",
   "metadata": {},
   "source": [
    "To transform this into the Saturn ring plane (i.e. simply the Saturn system with z pointing up), we need to create the rotation matrix first:"
   ]
  },
  {
   "cell_type": "code",
   "execution_count": null,
   "metadata": {
    "collapsed": false
   },
   "outputs": [],
   "source": [
    "rotmat = spice.pxform('CASSINI_ISS_NAC', 'IAU_SATURN', et)"
   ]
  },
  {
   "cell_type": "markdown",
   "metadata": {},
   "source": [
    "Now let's create the ring plane, located at (0,0,0) in the Saturn frame with `z` pointing up. We will be using `spice` planes for this:"
   ]
  },
  {
   "cell_type": "code",
   "execution_count": null,
   "metadata": {
    "collapsed": true
   },
   "outputs": [],
   "source": [
    "normal = np.array([0.,0.,1.])\n",
    "point = np.zeros(3)\n",
    "plane = spice.nvp2pl(normal, point)"
   ]
  },
  {
   "cell_type": "markdown",
   "metadata": {},
   "source": [
    "The `spice.inrypl` function finds the intersection of a ray with a plane, but first we need to apply the rotation matrix from above to receive the ray in Saturn coordinates. We then store the results of `inrypl` into the new `corner_coords` array:"
   ]
  },
  {
   "cell_type": "code",
   "execution_count": null,
   "metadata": {
    "collapsed": false
   },
   "outputs": [],
   "source": [
    "corner_coords = []\n",
    "for corner in corners:\n",
    "    direction = rotmat @ corner\n",
    "    print(\"direction:\", direction)\n",
    "    nxpts, xpt = spice.inrypl(vertex, direction, plane)\n",
    "    corner_coords.append(xpt)\n"
   ]
  },
  {
   "cell_type": "code",
   "execution_count": null,
   "metadata": {
    "collapsed": false,
    "scrolled": true
   },
   "outputs": [],
   "source": [
    "corner_coords"
   ]
  },
  {
   "cell_type": "code",
   "execution_count": null,
   "metadata": {
    "collapsed": false
   },
   "outputs": [],
   "source": [
    "%matplotlib inline"
   ]
  },
  {
   "cell_type": "code",
   "execution_count": null,
   "metadata": {
    "collapsed": false
   },
   "outputs": [],
   "source": [
    "x = [i[0] for i in corner_coords]\n",
    "y = [i[1] for i in corner_coords]\n",
    "\n",
    "import matplotlib\n",
    "\n",
    "fig, ax = plt.subplots(figsize=(8,8))\n",
    "ax.scatter(x,y)\n",
    "ax.ticklabel_format(useOffset=False)\n",
    "ax.set_xlim(40300, 41000)\n",
    "ax.set_ylim(118200, 118900)"
   ]
  },
  {
   "cell_type": "code",
   "execution_count": null,
   "metadata": {
    "collapsed": false
   },
   "outputs": [],
   "source": [
    "corner_coords"
   ]
  },
  {
   "cell_type": "markdown",
   "metadata": {},
   "source": [
    "Looking at all corners and calculate a resolution over the whole length (not very good, but simple):"
   ]
  },
  {
   "cell_type": "code",
   "execution_count": null,
   "metadata": {
    "collapsed": false
   },
   "outputs": [],
   "source": [
    "def calc_dist_between(v1, v2):\n",
    "    return spice.vnorm(v1 - v2)\n",
    "\n",
    "for t in [(0,1), (0,3), (1,2),(2,3)]:\n",
    "    print(t)\n",
    "    print(calc_dist_between(corner_coords[t[0]], corner_coords[t[1]])/1024)"
   ]
  },
  {
   "cell_type": "code",
   "execution_count": null,
   "metadata": {
    "collapsed": false
   },
   "outputs": [],
   "source": [
    "cormin, cormax = corners[1][0:2]"
   ]
  },
  {
   "cell_type": "code",
   "execution_count": null,
   "metadata": {
    "collapsed": false
   },
   "outputs": [],
   "source": [
    "print(cormin,cormax)"
   ]
  },
  {
   "cell_type": "code",
   "execution_count": null,
   "metadata": {
    "collapsed": true
   },
   "outputs": [],
   "source": [
    "coord_range = np.linspace(cormin, cormax, 1024)"
   ]
  },
  {
   "cell_type": "code",
   "execution_count": null,
   "metadata": {
    "collapsed": false
   },
   "outputs": [],
   "source": [
    "coord_range"
   ]
  },
  {
   "cell_type": "code",
   "execution_count": null,
   "metadata": {
    "collapsed": true
   },
   "outputs": [],
   "source": [
    "delta = coord_range[1] - coord_range[0]"
   ]
  },
  {
   "cell_type": "code",
   "execution_count": null,
   "metadata": {
    "collapsed": false
   },
   "outputs": [],
   "source": [
    "import datetime as dt\n",
    "import spiceypy as spice\n",
    "import matplotlib\n",
    "\n",
    "def calc_dist_between(v1, v2):\n",
    "    return spice.vnorm(v1 - v2)\n",
    "\n",
    "class Resolutor(object):\n",
    "    normal = np.array([0.,0.,1.])\n",
    "    point = np.zeros(3)\n",
    "    plane = spice.nvp2pl(normal, point)\n",
    "    boresight = np.array([0., 0., 1.])\n",
    "    \n",
    "    def __init__(self, timestr):\n",
    "        self.timestr = timestr\n",
    "        self.time = utils.nasa_datetime_to_iso(timestr)\n",
    "        self.et = spice.utc2et(time)\n",
    "        self.vertex, self.lt = spice.spkpos(\"CASSINI\", self.et, \"IAU_SATURN\", 'LT', 'SATURN')\n",
    "        self.camid = spice.bodn2c(\"CASSINI_ISS_NAC\")\n",
    "        shape, frame, borvec, no, corners = spice.getfov(camid, 4, 1000, 1000)\n",
    "        self.corners = corners\n",
    "        print(\"Getting a {shape} in frame {frame} with a boresight vector of {borvec}\"\n",
    "              .format(shape=shape, frame=frame, borvec=borvec))\n",
    "        cormin, cormax = corners[1][0:2]\n",
    "        self.coord_range = np.linspace(cormin, cormax, 1024)\n",
    "        self.delta = self.coord_range[1] - self.coord_range[0]\n",
    "        self.rotmat = spice.pxform('CASSINI_ISS_NAC', 'IAU_SATURN', et)\n",
    "        self.calc_ring_coords()\n",
    "        self.plot_coords()\n",
    "        \n",
    "    def calc_one_coord(self, coord):\n",
    "        dir = self.rotmat @ coord\n",
    "        nxpts, xpt = spice.inrypl(self.vertex, dir, self.plane)\n",
    "        return xpt\n",
    "    \n",
    "    def calc_ring_coords(self):\n",
    "        coords = []\n",
    "        for corner in self.corners:\n",
    "            coords.append(self.calc_one_coord(corner))\n",
    "\n",
    "        # add boresight intercept\n",
    "        dir = rotmat @ self.boresight\n",
    "        nxpts, xpt = spice.inrypl(self.vertex, dir, self.plane)\n",
    "        coords.append(self.calc_one_coord(self.boresight))\n",
    "        self.coords = coords\n",
    "        \n",
    "    def calc_one_resolution(self, corner):\n",
    "        coord = self.calc_one_coord(corner)\n",
    "        coord1 = self.calc_one_coord(corner + np.array([self.delta, 0., 0.]))\n",
    "        coord2 = self.calc_one_coord(corner + np.array([0., self.delta, 0.]))\n",
    "        diff1 = calc_dist_between(coord, coord1)\n",
    "        diff2 = calc_dist_between(coord, coord2)\n",
    "        return diff1, diff2\n",
    "    \n",
    "    def plot_coords(self):\n",
    "        x = [i[0] for i in self.coords]\n",
    "        y = [i[1] for i in self.coords]\n",
    "        \n",
    "        fig, ax = plt.subplots(figsize=(8,8))\n",
    "        ax.scatter(x,y)\n",
    "        ax.ticklabel_format(useOffset=False)\n",
    "#         ax.set_xlim(40300, 41000)\n",
    "#         ax.set_ylim(118200, 118900)\n",
    "        plt.show()\n",
    "\n",
    "tstr = '2004-183T03:37:05'\n",
    "resor = Resolutor(tstr)\n"
   ]
  },
  {
   "cell_type": "code",
   "execution_count": null,
   "metadata": {
    "collapsed": false
   },
   "outputs": [],
   "source": [
    "resor.corners"
   ]
  },
  {
   "cell_type": "code",
   "execution_count": null,
   "metadata": {
    "collapsed": false
   },
   "outputs": [],
   "source": [
    "for corner in resor.corners:\n",
    "    print(resor.calc_one_resolution(corner))"
   ]
  },
  {
   "cell_type": "code",
   "execution_count": null,
   "metadata": {
    "collapsed": false
   },
   "outputs": [],
   "source": [
    "print(resor.calc_one_resolution(np.array([0,0,1])))"
   ]
  },
  {
   "cell_type": "code",
   "execution_count": null,
   "metadata": {
    "collapsed": true
   },
   "outputs": [],
   "source": []
  }
 ],
 "metadata": {
  "kernelspec": {
   "display_name": "Python3 (stable)",
   "language": "python",
   "name": "stable"
  },
  "language_info": {
   "codemirror_mode": {
    "name": "ipython",
    "version": 3
   },
   "file_extension": ".py",
   "mimetype": "text/x-python",
   "name": "python",
   "nbconvert_exporter": "python",
   "pygments_lexer": "ipython3",
   "version": "3.5.1"
  },
  "widgets": {
   "state": {},
   "version": "1.1.1"
  }
 },
 "nbformat": 4,
 "nbformat_minor": 0
}
