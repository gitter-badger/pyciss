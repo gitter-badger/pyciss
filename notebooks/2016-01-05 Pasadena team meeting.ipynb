{
 "cells": [
  {
   "cell_type": "code",
   "execution_count": null,
   "metadata": {
    "collapsed": false
   },
   "outputs": [],
   "source": [
    "from pathlib import Path\n",
    "import warnings\n",
    "from pyciss import io, pipeline\n",
    "import seaborn as sns\n",
    "from sklearn.preprocessing import scale\n",
    "sns.set_style('white')\n",
    "sns.set_context('notebook')\n",
    "%matplotlib nbagg"
   ]
  },
  {
   "cell_type": "code",
   "execution_count": null,
   "metadata": {
    "collapsed": false
   },
   "outputs": [],
   "source": [
    "savedir = io.dbpath.parent / 'std_overlays'\n",
    "savedir.mkdir(exist_ok=True)"
   ]
  },
  {
   "cell_type": "code",
   "execution_count": null,
   "metadata": {
    "collapsed": false
   },
   "outputs": [],
   "source": [
    "savedir"
   ]
  },
  {
   "cell_type": "code",
   "execution_count": null,
   "metadata": {
    "collapsed": true
   },
   "outputs": [],
   "source": [
    "%matplotlib nbagg\n",
    "sns.set_style('white')"
   ]
  },
  {
   "cell_type": "code",
   "execution_count": null,
   "metadata": {
    "collapsed": true
   },
   "outputs": [],
   "source": [
    "def mad(arr):\n",
    "    \"\"\" Median Absolute Deviation: a \"Robust\" version of standard deviation.\n",
    "        Indices variabililty of the sample.\n",
    "        https://en.wikipedia.org/wiki/Median_absolute_deviation \n",
    "    \"\"\"\n",
    "    med = np.nanmedian(arr, axis=1)\n",
    "    return np.nanmedian(np.abs(arr - med[:, np.newaxis]), axis=1)"
   ]
  },
  {
   "cell_type": "code",
   "execution_count": null,
   "metadata": {
    "collapsed": true
   },
   "outputs": [],
   "source": [
    "cubes = io.db_mapped_cubes()"
   ]
  },
  {
   "cell_type": "code",
   "execution_count": null,
   "metadata": {
    "collapsed": false
   },
   "outputs": [],
   "source": [
    "cube = io.RingCube(next(cubes))"
   ]
  },
  {
   "cell_type": "code",
   "execution_count": null,
   "metadata": {
    "collapsed": false,
    "scrolled": false
   },
   "outputs": [],
   "source": [
    "def process_cube(fpath):\n",
    "    cube = io.RingCube(fpath)\n",
    "    img = cube.data[0]\n",
    "    low, high = np.percentile(img[img>0], (2,98))\n",
    "    img[img<0] = np.nan\n",
    "    sub = pipeline.remove_mean_value(img)\n",
    "    sublow, subhigh = np.percentile(sub[~np.isnan(sub)], (2,98))\n",
    "    fig, ax = plt.subplots(ncols=2, figsize=(10, 6), sharey=False)\n",
    "#     ax = ax.ravel()\n",
    "#     ax=[ax]\n",
    "    with warnings.catch_warnings():\n",
    "        warnings.simplefilter(\"ignore\", category=RuntimeWarning)\n",
    "        stats = mad(img)\n",
    "    notnan_ind = ~np.isnan(stats)\n",
    "    # scale the stats so that I can shift it easily to middle of image\n",
    "    X = scale(stats[notnan_ind], with_mean=True, with_std=False)\n",
    "    # shift image to middle of azimuth extent (the first 2 items of cube.extent)\n",
    "    X = X*5 + np.mean(cube.extent[:2])\n",
    "    # create Y array out of the radial extent\n",
    "    Y = np.linspace(cube.extent[2],\n",
    "                    cube.extent[3],\n",
    "                    cube.img.shape[0])\n",
    "    # filter for not-NANs\n",
    "    Y = Y[notnan_ind]\n",
    "    scattersize = 5\n",
    "    for i, axis in enumerate(ax):\n",
    "        cube.imshow(ax=axis, set_extent=True)\n",
    "        if i == 1:\n",
    "            scattersize = 25\n",
    "        axis.scatter(X, Y, s=scattersize, color='red')\n",
    "        axis.set_xlim(cube.extent[0], cube.extent[1])\n",
    "        axis.set_ylim(cube.extent[2], cube.extent[3])\n",
    "        axis.set_title('')\n",
    "        if i==1:\n",
    "            axis.set_ylabel('')\n",
    "#     ax[2].plot(np.nanstd(img, axis=1))\n",
    "    fig.subplots_adjust(bottom=0.15)\n",
    "    fig.suptitle(fpath.name.split('.')[0],fontsize=14)\n",
    "    fig.savefig(str(savedir / (fpath.name[:-4]+'.png')), dpi=150)\n",
    "#     plt.close(fig)"
   ]
  },
  {
   "cell_type": "code",
   "execution_count": null,
   "metadata": {
    "collapsed": false
   },
   "outputs": [],
   "source": [
    "process_cube(Path(cube.filename))"
   ]
  },
  {
   "cell_type": "code",
   "execution_count": null,
   "metadata": {
    "collapsed": true
   },
   "outputs": [],
   "source": [
    "from pyciss.meta import meta1500m"
   ]
  },
  {
   "cell_type": "code",
   "execution_count": null,
   "metadata": {
    "collapsed": false
   },
   "outputs": [],
   "source": [
    "meta1500m.columns"
   ]
  },
  {
   "cell_type": "code",
   "execution_count": null,
   "metadata": {
    "collapsed": false
   },
   "outputs": [],
   "source": [
    "meta1500m[meta1500m.id=='N1591682340'].lit_status"
   ]
  },
  {
   "cell_type": "code",
   "execution_count": null,
   "metadata": {
    "collapsed": false
   },
   "outputs": [],
   "source": [
    "io.PathManager(cube.filename).cubepath.exists()"
   ]
  },
  {
   "cell_type": "code",
   "execution_count": null,
   "metadata": {
    "collapsed": true
   },
   "outputs": [],
   "source": [
    "from pathlib import Path"
   ]
  },
  {
   "cell_type": "code",
   "execution_count": null,
   "metadata": {
    "collapsed": true
   },
   "outputs": [],
   "source": [
    "p = next(io.db_label_paths())"
   ]
  },
  {
   "cell_type": "code",
   "execution_count": null,
   "metadata": {
    "collapsed": false
   },
   "outputs": [],
   "source": [
    "cubepath = io.PathManager('N1503229567').cubepath\n",
    "\n",
    "process_cube(cubepath)"
   ]
  },
  {
   "cell_type": "code",
   "execution_count": null,
   "metadata": {
    "collapsed": false,
    "scrolled": false
   },
   "outputs": [],
   "source": [
    "cubepath = io.PathManager('N1467346565').cubepath\n",
    "process_cube(cubepath)"
   ]
  },
  {
   "cell_type": "code",
   "execution_count": null,
   "metadata": {
    "collapsed": false
   },
   "outputs": [],
   "source": [
    "cube = io.RingCube(cubepath)"
   ]
  },
  {
   "cell_type": "code",
   "execution_count": null,
   "metadata": {
    "collapsed": false
   },
   "outputs": [],
   "source": [
    "plt.figure(figsize=(12,10))\n",
    "plt.imshow(np.log(np.abs(np.fft.fftshift(np.fft.fft2(img)))))"
   ]
  },
  {
   "cell_type": "code",
   "execution_count": null,
   "metadata": {
    "collapsed": true
   },
   "outputs": [],
   "source": [
    "img = cube.data[0]"
   ]
  },
  {
   "cell_type": "code",
   "execution_count": null,
   "metadata": {
    "collapsed": false
   },
   "outputs": [],
   "source": [
    "img[img<0]=0"
   ]
  },
  {
   "cell_type": "code",
   "execution_count": null,
   "metadata": {
    "collapsed": false
   },
   "outputs": [],
   "source": [
    "plt.figure(figsize=(12,10))\n",
    "plt.imshow(img, vmax=0.1, cmap='gray')\n",
    "plt.colorbar()"
   ]
  },
  {
   "cell_type": "code",
   "execution_count": null,
   "metadata": {
    "collapsed": true
   },
   "outputs": [],
   "source": [
    "subimg = img[750:1200, 200:1350]"
   ]
  },
  {
   "cell_type": "code",
   "execution_count": null,
   "metadata": {
    "collapsed": false
   },
   "outputs": [],
   "source": [
    "plt.imshow(subimg, vmax=0.1, cmap='gray')"
   ]
  },
  {
   "cell_type": "code",
   "execution_count": null,
   "metadata": {
    "collapsed": false
   },
   "outputs": [],
   "source": [
    "plt.figure(figsize=(12,10))\n",
    "plt.imshow(np.log(np.abs(np.fft.fftshift(np.fft.fft2(subimg)))))"
   ]
  },
  {
   "cell_type": "code",
   "execution_count": null,
   "metadata": {
    "collapsed": true
   },
   "outputs": [],
   "source": [
    "from skimage.feature import hog\n",
    "from skimage import exposure"
   ]
  },
  {
   "cell_type": "code",
   "execution_count": null,
   "metadata": {
    "collapsed": true
   },
   "outputs": [],
   "source": [
    "fd, hog_image = hog(subimg, orientations=8, pixels_per_cell=(16, 16),\n",
    "                    cells_per_block=(1, 1), visualise=True)"
   ]
  },
  {
   "cell_type": "code",
   "execution_count": null,
   "metadata": {
    "collapsed": false
   },
   "outputs": [],
   "source": [
    "fig, (ax1, ax2) = plt.subplots(1, 2, figsize=(12, 6), sharex=True, sharey=True)\n",
    "\n",
    "ax1.axis('off')\n",
    "ax1.imshow(subimg, cmap=plt.cm.gray)\n",
    "ax1.set_title('Input image')\n",
    "ax1.set_adjustable('box-forced')\n",
    "\n",
    "# Rescale histogram for better display\n",
    "hog_image_rescaled = exposure.rescale_intensity(hog_image, in_range=(0, 0.02))\n",
    "\n",
    "ax2.axis('off')\n",
    "ax2.imshow(hog_image_rescaled, cmap=plt.cm.gray)\n",
    "ax2.set_title('Histogram of Oriented Gradients')\n",
    "ax1.set_adjustable('box-forced')\n",
    "plt.show()"
   ]
  },
  {
   "cell_type": "code",
   "execution_count": null,
   "metadata": {
    "collapsed": false
   },
   "outputs": [],
   "source": [
    "cubepath = io.PathManager('N1467346447').cubepath\n",
    "\n",
    "process_cube(cubepath)"
   ]
  },
  {
   "cell_type": "code",
   "execution_count": null,
   "metadata": {
    "collapsed": true
   },
   "outputs": [],
   "source": [
    "cube = io.RingCube(cubepath)"
   ]
  },
  {
   "cell_type": "code",
   "execution_count": null,
   "metadata": {
    "collapsed": false
   },
   "outputs": [],
   "source": [
    "cube.imshow(set_extent=False)"
   ]
  },
  {
   "cell_type": "code",
   "execution_count": null,
   "metadata": {
    "collapsed": false
   },
   "outputs": [],
   "source": [
    "cubepath = io.PathManager('/Volumes/Data/ciss/std_overlays/N1467345562_3.cal.dst.map.png').cubepath\n",
    "\n",
    "process_cube(cubepath)"
   ]
  },
  {
   "cell_type": "code",
   "execution_count": null,
   "metadata": {
    "collapsed": false
   },
   "outputs": [],
   "source": [
    "cubepath = io.PathManager('/Volumes/Data/ciss/std_overlays/N1467345680_2.cal.dst.map.png').cubepath\n",
    "\n",
    "process_cube(cubepath)"
   ]
  },
  {
   "cell_type": "code",
   "execution_count": null,
   "metadata": {
    "collapsed": true
   },
   "outputs": [],
   "source": [
    "cube = io.RingCube(cubepath)"
   ]
  },
  {
   "cell_type": "code",
   "execution_count": null,
   "metadata": {
    "collapsed": false
   },
   "outputs": [],
   "source": [
    "cube.imshow(set_extent=False)"
   ]
  },
  {
   "cell_type": "code",
   "execution_count": null,
   "metadata": {
    "collapsed": true
   },
   "outputs": [],
   "source": [
    "subimg = cube.img[1380:1465, 500:1800]"
   ]
  },
  {
   "cell_type": "code",
   "execution_count": null,
   "metadata": {
    "collapsed": false
   },
   "outputs": [],
   "source": [
    "cube.imshow(data=subimg)"
   ]
  },
  {
   "cell_type": "code",
   "execution_count": null,
   "metadata": {
    "collapsed": false
   },
   "outputs": [],
   "source": [
    "plt.figure(figsize=(12,10))\n",
    "plt.imshow(np.log(np.abs(np.fft.fftshift(np.fft.fft2(subimg)))))"
   ]
  },
  {
   "cell_type": "code",
   "execution_count": null,
   "metadata": {
    "collapsed": false
   },
   "outputs": [],
   "source": [
    "plt.figure()\n",
    "min_ind = 681\n",
    "max_var_ind = 694\n",
    "out_ind = 1747\n",
    "plt.plot(img[min_ind], label='minimum')\n",
    "plt.plot(img[max_var_ind], label='max_var')\n",
    "plt.plot(img[out_ind], label='out')\n",
    "plt.legend(loc=1)"
   ]
  },
  {
   "cell_type": "code",
   "execution_count": null,
   "metadata": {
    "collapsed": false
   },
   "outputs": [],
   "source": [
    "import wavelets\n",
    "from wavelets import WaveletAnalysis"
   ]
  },
  {
   "cell_type": "code",
   "execution_count": null,
   "metadata": {
    "collapsed": true
   },
   "outputs": [],
   "source": [
    "x1 = img[max_var_ind]\n",
    "x1 = x1[~np.isnan(x1)]\n",
    "x2 = img[min_ind]\n",
    "x2 = x2[~np.isnan(x2)]"
   ]
  },
  {
   "cell_type": "code",
   "execution_count": null,
   "metadata": {
    "collapsed": false
   },
   "outputs": [],
   "source": [
    "cube.resolution_val"
   ]
  },
  {
   "cell_type": "code",
   "execution_count": null,
   "metadata": {
    "collapsed": false,
    "scrolled": false
   },
   "outputs": [],
   "source": [
    "# dt = 0.35\n",
    "\n",
    "def do_wavelet(x):\n",
    "    dt = 1\n",
    "    wa = WaveletAnalysis(x, dt=dt)\n",
    "    power = wa.wavelet_power\n",
    "    scales = wa.scales\n",
    "    t = wa.time\n",
    "    T, S = np.meshgrid(t, scales)\n",
    "    return T, S, power, t\n",
    "\n",
    "def plot_wavelet(x1, x2):\n",
    "    T, S, power, t = do_wavelet(x1)\n",
    "    print(power.max())\n",
    "    fig, ax = plt.subplots(nrows=2, sharex=True, figsize=(4.5,6))\n",
    "    im = ax[0].contourf(T, S, power*1000, 100, cmap='viridis', vmax=1.5)\n",
    "    plt.colorbar(im, ax=ax[0])\n",
    "    T, S, power, t = do_wavelet(x2)\n",
    "    print(power.max())\n",
    "    im2 = ax[1].contourf(T, S, power*1000, 100, cmap='viridis', vmax=1.5)\n",
    "    plt.colorbar(im2, ax=ax[1])\n",
    "    for axis in ax:\n",
    "        axis.set_yscale('log')\n",
    "        axis.set_ylabel(\"Arbitrary power in 1/distance\")\n",
    "    ax[0].set_title(\"Maximum dispersion row\")\n",
    "    ax[1].set_title(\"Minimum dispersion row\")\n",
    "    ax[1].set_xlabel(\"Along Azimuth [pixel]\")\n",
    "    "
   ]
  },
  {
   "cell_type": "code",
   "execution_count": null,
   "metadata": {
    "collapsed": false
   },
   "outputs": [],
   "source": [
    "plot_wavelet(x1, x2)"
   ]
  },
  {
   "cell_type": "markdown",
   "metadata": {
    "collapsed": true
   },
   "source": [
    "# Sinusoidal fits"
   ]
  },
  {
   "cell_type": "code",
   "execution_count": null,
   "metadata": {
    "collapsed": true
   },
   "outputs": [],
   "source": [
    "img = cube.img"
   ]
  },
  {
   "cell_type": "code",
   "execution_count": null,
   "metadata": {
    "collapsed": false
   },
   "outputs": [],
   "source": [
    "img.shape"
   ]
  },
  {
   "cell_type": "code",
   "execution_count": null,
   "metadata": {
    "collapsed": false
   },
   "outputs": [],
   "source": [
    "import numpy as np\n",
    "from scipy.optimize import curve_fit\n",
    "\n",
    "# create the function we want to fit\n",
    "def my_sin(x, freq, amplitude, phase, offset):\n",
    "    return np.sin(x * freq + phase) * amplitude + offset\n",
    "\n",
    "def fit_row(data, guess_freq):\n",
    "    guess_amplitude = 2*np.std(data)\n",
    "    guess_phase = 0\n",
    "    guess_offset = np.mean(data)\n",
    "\n",
    "    p0=[guess_freq, guess_amplitude,\n",
    "        guess_phase, guess_offset]\n",
    "\n",
    "    t = np.arange(len(data))\n",
    "    # now do the fit\n",
    "    fit = curve_fit(my_sin, t, data, p0=p0)\n",
    "\n",
    "    # we'll use this to plot our first estimate. This might already be good enough for you\n",
    "    data_first_guess = my_sin(t, *p0)\n",
    "\n",
    "    # recreate the fitted curve using the optimized parameters\n",
    "    data_fit = my_sin(t, *fit[0])\n",
    "\n",
    "    plt.figure()\n",
    "    plt.plot(data, '.')\n",
    "    plt.plot(data_fit, label='after fitting')\n",
    "    plt.plot(data_first_guess, label='first guess')\n",
    "    plt.legend()\n",
    "    plt.show()"
   ]
  },
  {
   "cell_type": "code",
   "execution_count": null,
   "metadata": {
    "collapsed": false
   },
   "outputs": [],
   "source": [
    "row = img[1000:1001]\n",
    "data = row[~np.isnan(row)][:-3]\n",
    "plt.figure()\n",
    "plt.plot(data)"
   ]
  },
  {
   "cell_type": "code",
   "execution_count": null,
   "metadata": {
    "collapsed": false
   },
   "outputs": [],
   "source": [
    "fit_row(data, 0.05)"
   ]
  },
  {
   "cell_type": "code",
   "execution_count": null,
   "metadata": {
    "collapsed": true
   },
   "outputs": [],
   "source": []
  }
 ],
 "metadata": {
  "kernelspec": {
   "display_name": "Python 3",
   "language": "python",
   "name": "python3"
  },
  "language_info": {
   "codemirror_mode": {
    "name": "ipython",
    "version": 3
   },
   "file_extension": ".py",
   "mimetype": "text/x-python",
   "name": "python",
   "nbconvert_exporter": "python",
   "pygments_lexer": "ipython3",
   "version": "3.5.1"
  }
 },
 "nbformat": 4,
 "nbformat_minor": 1
}
