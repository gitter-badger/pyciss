{
 "cells": [
  {
   "cell_type": "code",
   "execution_count": null,
   "metadata": {
    "collapsed": false
   },
   "outputs": [],
   "source": [
    "cd ~/data/ciss/opus"
   ]
  },
  {
   "cell_type": "code",
   "execution_count": null,
   "metadata": {
    "collapsed": false
   },
   "outputs": [],
   "source": [
    "!which python"
   ]
  },
  {
   "cell_type": "code",
   "execution_count": null,
   "metadata": {
    "collapsed": false
   },
   "outputs": [],
   "source": [
    "fnames = !ls *map.cal.cub\n",
    "fnames"
   ]
  },
  {
   "cell_type": "code",
   "execution_count": null,
   "metadata": {
    "collapsed": false
   },
   "outputs": [],
   "source": [
    "from pyciss import io"
   ]
  },
  {
   "cell_type": "code",
   "execution_count": null,
   "metadata": {
    "collapsed": false
   },
   "outputs": [],
   "source": [
    "cube = io.RingCube(fnames[0])"
   ]
  },
  {
   "cell_type": "code",
   "execution_count": null,
   "metadata": {
    "collapsed": false
   },
   "outputs": [],
   "source": [
    "for fname in fnames:\n",
    "    print(fname)\n",
    "    ringcube = io.RingCube(fname)\n",
    "    print(ringcube.imagetime)\n",
    "#     ringcube.imshow(save_ext='')\n",
    "#     ringcube.imshow(data=ringcube.density_wave_subtracted, save_ext='wave_subtracted')"
   ]
  },
  {
   "cell_type": "code",
   "execution_count": null,
   "metadata": {
    "collapsed": true
   },
   "outputs": [],
   "source": [
    "%matplotlib nbagg"
   ]
  },
  {
   "cell_type": "code",
   "execution_count": null,
   "metadata": {
    "collapsed": false
   },
   "outputs": [],
   "source": [
    "ringcube.imshow(data=ringcube.density_wave_subtracted)"
   ]
  },
  {
   "cell_type": "code",
   "execution_count": null,
   "metadata": {
    "collapsed": false
   },
   "outputs": [],
   "source": [
    "import gdal\n",
    "ds = gdal.Open('img.cal.map.cub')\n",
    "print(\"proj:\", ds.GetProjection())\n",
    "print(\"GeoTrans:\", ds.GetGeoTransform())\n",
    "x, y = gdal.ApplyGeoTransform(ds.GetGeoTransform(), 0, 0)\n",
    "print(\"X:{}, Y:{}\".format(x, y))\n",
    "import osr\n",
    "srs = osr.SpatialReference(ds.GetProjection())\n",
    "print(srs.ExportToPrettyWkt())\n",
    "ct = osr.CoordinateTransformation(srs, srs.CloneGeogCS())\n",
    "print(\"CoordTrans:\", ct)\n",
    "print(ct.TransformPoint(x, y))"
   ]
  },
  {
   "cell_type": "code",
   "execution_count": null,
   "metadata": {
    "collapsed": false
   },
   "outputs": [],
   "source": [
    "gdal.VersionInfo()"
   ]
  },
  {
   "cell_type": "code",
   "execution_count": null,
   "metadata": {
    "collapsed": false
   },
   "outputs": [],
   "source": [
    "try:\n",
    "    from osgeo import gdal, osr\n",
    "except ImportError:\n",
    "    import gdal\n",
    "    import osr\n",
    "\n",
    "import sys\n",
    "\n",
    "# =============================================================================\n",
    "def Usage():\n",
    "    print('')\n",
    "    print('Read coordinate system and geotransformation matrix from input')\n",
    "    print('file and report latitude/longitude coordinates for the center')\n",
    "    print('of the specified pixel.')\n",
    "    print('')\n",
    "    print('Usage: tolatlong.py pixel line infile')\n",
    "    print('')\n",
    "    sys.exit( 1 )\n",
    "\n",
    "# =============================================================================\n",
    "\n",
    "infile = None\n",
    "pixel = None\n",
    "line = None\n",
    "\n",
    "# =============================================================================\n",
    "# Parse command line arguments.\n",
    "# =============================================================================\n",
    "i = 1\n",
    "while i < len(sys.argv):\n",
    "    arg = sys.argv[i]\n",
    "\n",
    "    if pixel is None:\n",
    "        pixel = float(arg)\n",
    "\n",
    "    elif line is None:\n",
    "        line = float(arg)\n",
    "\n",
    "    elif infile is None:\n",
    "        infile = arg\n",
    "\n",
    "    else:\n",
    "        Usage()\n",
    "\n",
    "    i = i + 1\n",
    "\n",
    "if infile is None:\n",
    "    Usage()\n",
    "if pixel is None:\n",
    "    Usage()\n",
    "if line is None:\n",
    "    Usage()\n",
    "\n",
    "# Open input dataset\n",
    "indataset = gdal.Open( infile, gdal.GA_ReadOnly )\n",
    "\n",
    "# Read geotransform matrix and calculate ground coordinates\n",
    "geomatrix = indataset.GetGeoTransform()\n",
    "X = geomatrix[0] + geomatrix[1] * pixel + geomatrix[2] * line\n",
    "Y = geomatrix[3] + geomatrix[4] * pixel + geomatrix[5] * line\n",
    "\n",
    "# Shift to the center of the pixel\n",
    "X += geomatrix[1] / 2.0\n",
    "Y += geomatrix[5] / 2.0\n",
    "\n",
    "# Build Spatial Reference object based on coordinate system, fetched from the\n",
    "# opened dataset\n",
    "srs = osr.SpatialReference()\n",
    "if srs.ImportFromWkt(indataset.GetProjection()) != 0:\n",
    "    print(\"ERROR: Cannot import projection '%s'\" % indataset.GetProjection())\n",
    "    sys.exit(1)\n",
    "\n",
    "srsLatLong = srs.CloneGeogCS()\n",
    "ct = osr.CoordinateTransformation(srs, srsLatLong)\n",
    "(int, lat, height) = ct.TransformPoint(X, Y)\n"
   ]
  },
  {
   "cell_type": "code",
   "execution_count": null,
   "metadata": {
    "collapsed": true
   },
   "outputs": [],
   "source": []
  },
  {
   "cell_type": "code",
   "execution_count": null,
   "metadata": {
    "collapsed": true
   },
   "outputs": [],
   "source": []
  },
  {
   "cell_type": "code",
   "execution_count": null,
   "metadata": {
    "collapsed": true
   },
   "outputs": [],
   "source": []
  },
  {
   "cell_type": "code",
   "execution_count": null,
   "metadata": {
    "collapsed": true
   },
   "outputs": [],
   "source": []
  },
  {
   "cell_type": "code",
   "execution_count": null,
   "metadata": {
    "collapsed": true
   },
   "outputs": [],
   "source": []
  },
  {
   "cell_type": "code",
   "execution_count": null,
   "metadata": {
    "collapsed": true
   },
   "outputs": [],
   "source": []
  },
  {
   "cell_type": "code",
   "execution_count": null,
   "metadata": {
    "collapsed": false
   },
   "outputs": [],
   "source": [
    "import pandas as pd"
   ]
  },
  {
   "cell_type": "code",
   "execution_count": null,
   "metadata": {
    "collapsed": true
   },
   "outputs": [],
   "source": [
    "%matplotlib inline\n",
    "import matplotlib.pyplot as plt\n",
    "plt.rcParams['figure.figsize']=(12,12)"
   ]
  },
  {
   "cell_type": "code",
   "execution_count": null,
   "metadata": {
    "collapsed": true
   },
   "outputs": [],
   "source": [
    "plt.cm.Y"
   ]
  },
  {
   "cell_type": "code",
   "execution_count": null,
   "metadata": {
    "collapsed": false
   },
   "outputs": [],
   "source": [
    "data.shape"
   ]
  },
  {
   "cell_type": "code",
   "execution_count": null,
   "metadata": {
    "collapsed": false,
    "scrolled": false
   },
   "outputs": [],
   "source": [
    "def show_window(x=0,y=0):\n",
    "    xi = slice(x*1024, (x+1)*1024)\n",
    "    yi = slice(y*1024, (y+1)*1024)\n",
    "    plt.imshow(data[xi, yi], cmap='gray', aspect='auto',\n",
    "        interpolation='none')\n",
    "    plt.grid()\n",
    "    print(xi)\n",
    "    print(yi)\n",
    "    plt.colorbar()"
   ]
  },
  {
   "cell_type": "code",
   "execution_count": null,
   "metadata": {
    "collapsed": false
   },
   "outputs": [],
   "source": [
    "from IPython.html.widgets import interact"
   ]
  },
  {
   "cell_type": "code",
   "execution_count": null,
   "metadata": {
    "collapsed": false,
    "scrolled": false
   },
   "outputs": [],
   "source": [
    "interact(show_window, \n",
    "         x=(0, data.shape[0]/1024), \n",
    "         y=(0, data.shape[1]/1024));"
   ]
  },
  {
   "cell_type": "code",
   "execution_count": null,
   "metadata": {
    "collapsed": true
   },
   "outputs": [],
   "source": [
    "from skimage.measure import block_reduce"
   ]
  },
  {
   "cell_type": "code",
   "execution_count": null,
   "metadata": {
    "collapsed": false
   },
   "outputs": [],
   "source": [
    "reduced = block_reduce(data, (10,10))"
   ]
  },
  {
   "cell_type": "code",
   "execution_count": null,
   "metadata": {
    "collapsed": false
   },
   "outputs": [],
   "source": [
    "np.nanmean(reduced)"
   ]
  },
  {
   "cell_type": "code",
   "execution_count": null,
   "metadata": {
    "collapsed": false
   },
   "outputs": [],
   "source": [
    "np.nanmin(reduced)"
   ]
  },
  {
   "cell_type": "code",
   "execution_count": null,
   "metadata": {
    "collapsed": false
   },
   "outputs": [],
   "source": [
    "plt.imshow(reduced, cmap='gray')"
   ]
  },
  {
   "cell_type": "code",
   "execution_count": null,
   "metadata": {
    "collapsed": true
   },
   "outputs": [],
   "source": [
    "cropped = reduced[:150]"
   ]
  },
  {
   "cell_type": "code",
   "execution_count": null,
   "metadata": {
    "collapsed": false
   },
   "outputs": [],
   "source": [
    "plt.imshow(cropped)"
   ]
  },
  {
   "cell_type": "code",
   "execution_count": null,
   "metadata": {
    "collapsed": false
   },
   "outputs": [],
   "source": []
  },
  {
   "cell_type": "code",
   "execution_count": null,
   "metadata": {
    "collapsed": true
   },
   "outputs": [],
   "source": []
  }
 ],
 "metadata": {
  "kernelspec": {
   "display_name": "Python 2",
   "language": "python",
   "name": "python2"
  },
  "language_info": {
   "codemirror_mode": {
    "name": "ipython",
    "version": 2
   },
   "file_extension": ".py",
   "mimetype": "text/x-python",
   "name": "python",
   "nbconvert_exporter": "python",
   "pygments_lexer": "ipython2",
   "version": "2.7.9"
  }
 },
 "nbformat": 4,
 "nbformat_minor": 0
}
