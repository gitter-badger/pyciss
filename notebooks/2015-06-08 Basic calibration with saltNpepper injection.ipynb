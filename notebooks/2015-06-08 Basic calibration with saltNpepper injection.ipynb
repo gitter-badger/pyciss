{
 "cells": [
  {
   "cell_type": "code",
   "execution_count": 1,
   "metadata": {
    "collapsed": true
   },
   "outputs": [],
   "source": [
    "import glob\n",
    "folders = glob.glob('/cassini_ringsdata/opus/N*')"
   ]
  },
  {
   "cell_type": "code",
   "execution_count": 2,
   "metadata": {
    "collapsed": false
   },
   "outputs": [
    {
     "data": {
      "text/plain": [
       "490"
      ]
     },
     "execution_count": 2,
     "metadata": {},
     "output_type": "execute_result"
    }
   ],
   "source": [
    "len(folders)"
   ]
  },
  {
   "cell_type": "code",
   "execution_count": 3,
   "metadata": {
    "collapsed": false
   },
   "outputs": [],
   "source": [
    "def process_folder(folder):\n",
    "    import glob\n",
    "    from pysis.exceptions import ProcessError\n",
    "    from pyciss import pipeline as p\n",
    "#     done = glob.glob(folder+'/*.map.cal.cub')\n",
    "#     if done:\n",
    "#         return folder,True\n",
    "    img_name = glob.glob(folder+'/*.LBL')\n",
    "    try:\n",
    "        map_name = p.calibrate_ciss(img_name[0])\n",
    "    except ProcessError:\n",
    "        return folder,False\n",
    "    return folder,True"
   ]
  },
  {
   "cell_type": "code",
   "execution_count": 4,
   "metadata": {
    "collapsed": true
   },
   "outputs": [],
   "source": [
    "folders = pd.Series(folders)"
   ]
  },
  {
   "cell_type": "code",
   "execution_count": 7,
   "metadata": {
    "collapsed": false
   },
   "outputs": [
    {
     "data": {
      "text/plain": [
       "27     /cassini_ringsdata/opus/N1467347445\n",
       "44     /cassini_ringsdata/opus/N1467347249\n",
       "46     /cassini_ringsdata/opus/N1467345857\n",
       "115    /cassini_ringsdata/opus/N1467345621\n",
       "129    /cassini_ringsdata/opus/N1467345680\n",
       "135    /cassini_ringsdata/opus/N1467345916\n",
       "147    /cassini_ringsdata/opus/N1467346329\n",
       "156    /cassini_ringsdata/opus/N1467345503\n",
       "165    /cassini_ringsdata/opus/N1467346388\n",
       "166    /cassini_ringsdata/opus/N1467347504\n",
       "180    /cassini_ringsdata/opus/N1467346211\n",
       "230    /cassini_ringsdata/opus/N1467345975\n",
       "234    /cassini_ringsdata/opus/N1467346034\n",
       "242    /cassini_ringsdata/opus/N1467345562\n",
       "294    /cassini_ringsdata/opus/N1467346565\n",
       "300    /cassini_ringsdata/opus/N1467345444\n",
       "315    /cassini_ringsdata/opus/N1467346152\n",
       "335    /cassini_ringsdata/opus/N1467346624\n",
       "354    /cassini_ringsdata/opus/N1467346506\n",
       "360    /cassini_ringsdata/opus/N1467346270\n",
       "394    /cassini_ringsdata/opus/N1467347210\n",
       "404    /cassini_ringsdata/opus/N1467345798\n",
       "418    /cassini_ringsdata/opus/N1467345739\n",
       "473    /cassini_ringsdata/opus/N1467346093\n",
       "475    /cassini_ringsdata/opus/N1467346447\n",
       "dtype: object"
      ]
     },
     "execution_count": 7,
     "metadata": {},
     "output_type": "execute_result"
    }
   ],
   "source": [
    "SOI = folders[folders.str.contains('N146734')]\n",
    "SOI"
   ]
  },
  {
   "cell_type": "code",
   "execution_count": 13,
   "metadata": {
    "collapsed": true
   },
   "outputs": [],
   "source": [
    "from IPython.parallel import Client\n",
    "c = Client()"
   ]
  },
  {
   "cell_type": "code",
   "execution_count": 14,
   "metadata": {
    "collapsed": true
   },
   "outputs": [],
   "source": [
    "lbview = c.load_balanced_view()"
   ]
  },
  {
   "cell_type": "code",
   "execution_count": 15,
   "metadata": {
    "collapsed": true
   },
   "outputs": [],
   "source": [
    "results = lbview.map_async(process_folder, SOI)"
   ]
  },
  {
   "cell_type": "code",
   "execution_count": 16,
   "metadata": {
    "collapsed": false
   },
   "outputs": [],
   "source": [
    "from IPython.html.widgets import IntProgress\n",
    "from IPython.display import display"
   ]
  },
  {
   "cell_type": "code",
   "execution_count": 17,
   "metadata": {
    "collapsed": false
   },
   "outputs": [],
   "source": [
    "from time import sleep\n",
    "prog = IntProgress(min=0, max=len(SOI))\n",
    "display(prog)\n",
    "while not results.ready():\n",
    "    prog.value = results.progress\n",
    "    sleep(5)"
   ]
  },
  {
   "cell_type": "code",
   "execution_count": null,
   "metadata": {
    "collapsed": true
   },
   "outputs": [],
   "source": []
  }
 ],
 "metadata": {
  "kernelspec": {
   "display_name": "Python 3",
   "language": "python",
   "name": "python3"
  },
  "language_info": {
   "codemirror_mode": {
    "name": "ipython",
    "version": 3
   },
   "file_extension": ".py",
   "mimetype": "text/x-python",
   "name": "python",
   "nbconvert_exporter": "python",
   "pygments_lexer": "ipython3",
   "version": "3.4.3"
  }
 },
 "nbformat": 4,
 "nbformat_minor": 0
}
