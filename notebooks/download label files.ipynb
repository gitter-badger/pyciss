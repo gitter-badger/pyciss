{
 "cells": [
  {
   "cell_type": "code",
   "execution_count": 2,
   "metadata": {
    "collapsed": false
   },
   "outputs": [],
   "source": [
    "from urllib.request import urlopen\n",
    "import pandas as pd\n",
    "import os\n",
    "HOME = os.environ['HOME']"
   ]
  },
  {
   "cell_type": "code",
   "execution_count": 3,
   "metadata": {
    "collapsed": false
   },
   "outputs": [],
   "source": [
    "labelfname = os.path.join(HOME, '/Users/klay6683/Downloads/index.lbl.txt')\n",
    "tabfname = os.path.join(HOME, '/Users/klay6683/Downloads/index.tab.txt')"
   ]
  },
  {
   "cell_type": "code",
   "execution_count": 66,
   "metadata": {
    "collapsed": false,
    "scrolled": true
   },
   "outputs": [
    {
     "data": {
      "text/plain": [
       "(7227, 139)"
      ]
     },
     "execution_count": 66,
     "metadata": {},
     "output_type": "execute_result"
    }
   ],
   "source": [
    "pd.read_csv(tabfname, skipinitialspace=True, header=None, quotechar='\"',\n",
    "            quoting=2).shape"
   ]
  },
  {
   "cell_type": "code",
   "execution_count": 69,
   "metadata": {
    "collapsed": false,
    "scrolled": true
   },
   "outputs": [
    {
     "data": {
      "text/plain": [
       "0                                 W1656702236_1.IMG     \n",
       "1       data/1656702236_1656971527/W1656702236_1.IMG    \n",
       "2                                            COISS_2064 \n",
       "3                                                   OFF \n",
       "4                                                 72.576\n",
       "5                                                   OFF \n",
       "6      trigger_30737_2.ioi                           ...\n",
       "7                                                  30737\n",
       "8                                               72.32388\n",
       "9                                                  12BIT\n",
       "10              CO-S-ISSNA/ISSWA-2-EDR-V1.0             \n",
       "11                                                  NO  \n",
       "12     N/A                                           ...\n",
       "13                                             -87.89516\n",
       "14                                 2010-183T17:00:41.255\n",
       "15                                 2010-183T17:01:29.175\n",
       "16                                                   112\n",
       "17                                                79.505\n",
       "18                                               87.6553\n",
       "19                                                   585\n",
       "20                                                   320\n",
       "21                                                 CL1  \n",
       "22                                                 CL2  \n",
       "23                                              2.478774\n",
       "24                                                   1.4\n",
       "25                                  29 ELECTRONS PER DN \n",
       "26                                 2010-182T18:18:28.174\n",
       "27                                            1656702236\n",
       "28      SCIENCE                                         \n",
       "29                                 2010-182T18:18:28.334\n",
       "                             ...                        \n",
       "109                                             12.33735\n",
       "110                                             3.110025\n",
       "111                                             732624.7\n",
       "112                                             -1509303\n",
       "113                                             479380.9\n",
       "114                                            0.5823067\n",
       "115                                             3.429709\n",
       "116                                           -0.5792394\n",
       "117    naif0009.tls,cpck14Dec2001.tpc,cpck_rock_21Jan...\n",
       "118                                             4.911131\n",
       "119                                             2.059535\n",
       "120                                            -14.21446\n",
       "121                                             252.8074\n",
       "122                                               -1e+32\n",
       "123                                               -1e+32\n",
       "124                                              1744861\n",
       "125                                             332.3899\n",
       "126                                              6.73708\n",
       "127                                            -12.18522\n",
       "128                                             344.5602\n",
       "129                                             275.3231\n",
       "130    DAPHNIS,PANDORA                               ...\n",
       "131                                               -1e+32\n",
       "132                                               -1e+32\n",
       "133                                               -1e+32\n",
       "134                                               -1e+32\n",
       "135    CASSINI ORBITER SATURN ISSNA/ISSWA 2 EDR VERSI...\n",
       "136                                                 CO  \n",
       "137                                                 EDR \n",
       "138                                              ISS_EDR\n",
       "Name: 0, dtype: object"
      ]
     },
     "execution_count": 69,
     "metadata": {},
     "output_type": "execute_result"
    }
   ],
   "source": [
    "df.irow(0)"
   ]
  },
  {
   "cell_type": "code",
   "execution_count": 72,
   "metadata": {
    "collapsed": true
   },
   "outputs": [],
   "source": [
    "with open(tabfname) as f:\n",
    "    line = f.readline()"
   ]
  },
  {
   "cell_type": "code",
   "execution_count": 75,
   "metadata": {
    "collapsed": false
   },
   "outputs": [],
   "source": [
    "line = line.split(',')"
   ]
  },
  {
   "cell_type": "code",
   "execution_count": 79,
   "metadata": {
    "collapsed": false
   },
   "outputs": [],
   "source": [
    "line =[i.strip('\"').strip() for i in line]"
   ]
  },
  {
   "cell_type": "code",
   "execution_count": 84,
   "metadata": {
    "collapsed": false
   },
   "outputs": [],
   "source": [
    "dfline = df.irow(0).values.tolist()"
   ]
  },
  {
   "cell_type": "code",
   "execution_count": 87,
   "metadata": {
    "collapsed": false
   },
   "outputs": [],
   "source": [
    "dfline = [str(i).strip() for i in dfline]"
   ]
  },
  {
   "cell_type": "code",
   "execution_count": 90,
   "metadata": {
    "collapsed": false
   },
   "outputs": [
    {
     "data": {
      "text/plain": [
       "152"
      ]
     },
     "execution_count": 90,
     "metadata": {},
     "output_type": "execute_result"
    }
   ],
   "source": [
    "len(line)"
   ]
  },
  {
   "cell_type": "code",
   "execution_count": 103,
   "metadata": {
    "collapsed": false
   },
   "outputs": [
    {
     "name": "stdout",
     "output_type": "stream",
     "text": [
      "117\n"
     ]
    }
   ],
   "source": [
    "for i in range(len(dfline)):\n",
    "    if dfline[i] != line[i]:\n",
    "        try:\n",
    "            if int(float(dfline[i])) != int(float(line[i])):\n",
    "                print(i)\n",
    "                break\n",
    "        except:\n",
    "            print(i)\n",
    "            break"
   ]
  },
  {
   "cell_type": "code",
   "execution_count": 104,
   "metadata": {
    "collapsed": false
   },
   "outputs": [
    {
     "data": {
      "text/plain": [
       "'naif0009.tls,cpck14Dec2001.tpc,cpck_rock_21Jan2011_merged.tpc,cpck09May2011.tpc,sat164.bsp,100913R_SCPSE_10178_10216.bsp,110317AP_RE_90165_18018.bsp,10176_10211pg_live.bc,10179_10184ra.bc,cpck20May2011.tpc,cas_v40.tf,cas_iss_v10.ti,cas00148.tsc'"
      ]
     },
     "execution_count": 104,
     "metadata": {},
     "output_type": "execute_result"
    }
   ],
   "source": [
    "dfline[i]"
   ]
  },
  {
   "cell_type": "code",
   "execution_count": 105,
   "metadata": {
    "collapsed": false
   },
   "outputs": [
    {
     "data": {
      "text/plain": [
       "'naif0009.tls'"
      ]
     },
     "execution_count": 105,
     "metadata": {},
     "output_type": "execute_result"
    }
   ],
   "source": [
    "line[i]"
   ]
  },
  {
   "cell_type": "code",
   "execution_count": 107,
   "metadata": {
    "collapsed": false
   },
   "outputs": [],
   "source": [
    "pd.read_csv?"
   ]
  },
  {
   "cell_type": "code",
   "execution_count": 99,
   "metadata": {
    "collapsed": false
   },
   "outputs": [
    {
     "data": {
      "text/plain": [
       "-9"
      ]
     },
     "execution_count": 99,
     "metadata": {},
     "output_type": "execute_result"
    }
   ],
   "source": [
    "int(float('-9.0'))"
   ]
  },
  {
   "cell_type": "code",
   "execution_count": 92,
   "metadata": {
    "collapsed": false
   },
   "outputs": [
    {
     "data": {
      "text/plain": [
       "'-999.0'"
      ]
     },
     "execution_count": 92,
     "metadata": {},
     "output_type": "execute_result"
    }
   ],
   "source": [
    "dfline[51]"
   ]
  },
  {
   "cell_type": "code",
   "execution_count": 93,
   "metadata": {
    "collapsed": false
   },
   "outputs": [
    {
     "data": {
      "text/plain": [
       "'-999'"
      ]
     },
     "execution_count": 93,
     "metadata": {},
     "output_type": "execute_result"
    }
   ],
   "source": [
    "line[51]"
   ]
  },
  {
   "cell_type": "code",
   "execution_count": 5,
   "metadata": {
    "collapsed": false
   },
   "outputs": [
    {
     "name": "stdout",
     "output_type": "stream",
     "text": [
      "<class 'pandas.core.frame.DataFrame'>\n",
      "Int64Index: 7227 entries, 0 to 7226\n",
      "Columns: 139 entries, 0 to 138\n",
      "dtypes: float64(68), int64(21), object(50)\n",
      "memory usage: 7.7+ MB\n"
     ]
    }
   ],
   "source": [
    "df.info()"
   ]
  },
  {
   "cell_type": "markdown",
   "metadata": {},
   "source": [
    "# Parsing label file"
   ]
  },
  {
   "cell_type": "code",
   "execution_count": 6,
   "metadata": {
    "collapsed": true
   },
   "outputs": [],
   "source": [
    "import pvl"
   ]
  },
  {
   "cell_type": "code",
   "execution_count": 12,
   "metadata": {
    "collapsed": false
   },
   "outputs": [
    {
     "data": {
      "text/plain": [
       "dict_keys(['IMAGE_INDEX_TABLE', 'FILE_RECORDS', '^IMAGE_INDEX_TABLE', 'PDS_VERSION_ID', 'RECORD_TYPE', 'RECORD_BYTES'])"
      ]
     },
     "execution_count": 12,
     "metadata": {},
     "output_type": "execute_result"
    }
   ],
   "source": [
    "label = pvl.load(labelfname)\n",
    "label.keys()"
   ]
  },
  {
   "cell_type": "code",
   "execution_count": 20,
   "metadata": {
    "collapsed": false,
    "scrolled": false
   },
   "outputs": [],
   "source": [
    "index_table = label['IMAGE_INDEX_TABLE']"
   ]
  },
  {
   "cell_type": "code",
   "execution_count": 33,
   "metadata": {
    "collapsed": false
   },
   "outputs": [
    {
     "data": {
      "text/plain": [
       "dict_keys(['INDEX_TYPE', 'INTERCHANGE_FORMAT', 'COLUMN', 'COLUMNS', 'ROW_BYTES', 'ROWS'])"
      ]
     },
     "execution_count": 33,
     "metadata": {},
     "output_type": "execute_result"
    }
   ],
   "source": [
    "index_table.keys()"
   ]
  },
  {
   "cell_type": "code",
   "execution_count": 67,
   "metadata": {
    "collapsed": false,
    "scrolled": false
   },
   "outputs": [
    {
     "data": {
      "text/plain": [
       "118"
      ]
     },
     "execution_count": 67,
     "metadata": {},
     "output_type": "execute_result"
    }
   ],
   "source": [
    "index_table['COLUMNS']"
   ]
  },
  {
   "cell_type": "code",
   "execution_count": 109,
   "metadata": {
    "collapsed": false,
    "scrolled": false
   },
   "outputs": [],
   "source": [
    "columns = index_table.getlist('COLUMN')"
   ]
  },
  {
   "cell_type": "code",
   "execution_count": 110,
   "metadata": {
    "collapsed": false
   },
   "outputs": [],
   "source": [
    "colnames = [i['NAME'] for i in columns]"
   ]
  },
  {
   "cell_type": "code",
   "execution_count": 115,
   "metadata": {
    "collapsed": true
   },
   "outputs": [],
   "source": [
    "from itertools import zip_longest"
   ]
  },
  {
   "cell_type": "code",
   "execution_count": 121,
   "metadata": {
    "collapsed": false,
    "scrolled": true
   },
   "outputs": [
    {
     "name": "stdout",
     "output_type": "stream",
     "text": [
      "FILE_NAME 0\n",
      "W1656702236_1.IMG\n",
      "W1656702236_1.IMG\n",
      "\n",
      "FILE_SPECIFICATION_NAME 1\n",
      "data/1656702236_1656971527/W1656702236_1.IMG\n",
      "data/1656702236_1656971527/W1656702236_1.IMG\n",
      "\n",
      "VOLUME_ID 2\n",
      "COISS_2064\n",
      "COISS_2064\n",
      "\n",
      "ANTIBLOOMING_STATE_FLAG 3\n",
      "OFF\n",
      "OFF\n",
      "\n",
      "BIAS_STRIP_MEAN 4\n",
      "72.575996\n",
      "72.575996\n",
      "\n",
      "CALIBRATION_LAMP_STATE_FLAG 5\n",
      "OFF\n",
      "OFF\n",
      "\n",
      "COMMAND_FILE_NAME 6\n",
      "trigger_30737_2.ioi\n",
      "trigger_30737_2.ioi\n",
      "\n",
      "COMMAND_SEQUENCE_NUMBER 7\n",
      "30737\n",
      "30737\n",
      "\n",
      "DARK_STRIP_MEAN 8\n",
      "72.323875\n",
      "72.323875\n",
      "\n",
      "DATA_CONVERSION_TYPE 9\n",
      "12BIT\n",
      "12BIT\n",
      "\n",
      "DATA_SET_ID 10\n",
      "CO-S-ISSNA/ISSWA-2-EDR-V1.0\n",
      "CO-S-ISSNA/ISSWA-2-EDR-V1.0\n",
      "\n",
      "DELAYED_READOUT_FLAG 11\n",
      "NO\n",
      "NO\n",
      "\n",
      "DESCRIPTION 12\n",
      "N/A\n",
      "N/A\n",
      "\n",
      "DETECTOR_TEMPERATURE 13\n",
      "-87.895164\n",
      "-87.895164\n",
      "\n",
      "EARTH_RECEIVED_START_TIME 14\n",
      "2010-183T17:00:41.255\n",
      "2010-183T17:00:41.255\n",
      "\n",
      "EARTH_RECEIVED_STOP_TIME 15\n",
      "2010-183T17:01:29.175\n",
      "2010-183T17:01:29.175\n",
      "\n",
      "ELECTRONICS_BIAS 16\n",
      "112\n",
      "112\n",
      "\n",
      "EXPECTED_MAXIMUM 17\n",
      "79.504997\n",
      "79.504997\n",
      "\n",
      "EXPECTED_PACKETS 18\n",
      "87.655296\n",
      "87.655296\n",
      "\n",
      "EXPOSURE_DURATION 19\n",
      "585\n",
      "585\n",
      "\n",
      "FILTER_NAME 20\n",
      "320\n",
      "320\n",
      "\n",
      "FILTER_TEMPERATURE 21\n",
      "CL1\n",
      "CL1\n",
      "\n",
      "FLIGHT_SOFTWARE_VERSION_ID 22\n",
      "CL2\n",
      "CL2\n",
      "\n",
      "GAIN_MODE_ID 23\n",
      "2.478774\n",
      "2.478774\n",
      "\n",
      "IMAGE_MID_TIME 24\n",
      "1.4\n",
      "1.4\n",
      "\n",
      "IMAGE_NUMBER 25\n",
      "29 ELECTRONS PER DN\n",
      "29 ELECTRONS PER DN\n",
      "\n",
      "IMAGE_OBSERVATION_TYPE 26\n",
      "2010-182T18:18:28.174\n",
      "2010-182T18:18:28.174\n",
      "\n",
      "IMAGE_TIME 27\n",
      "1656702236\n",
      "1656702236\n",
      "\n",
      "INSTRUMENT_DATA_RATE 28\n",
      "SCIENCE\n",
      "SCIENCE\n",
      "\n",
      "INSTRUMENT_HOST_NAME 29\n",
      "2010-182T18:18:28.334\n",
      "2010-182T18:18:28.334\n",
      "\n",
      "INSTRUMENT_ID 30\n",
      "182.783997\n",
      "182.783997\n",
      "\n",
      "INSTRUMENT_MODE_ID 31\n",
      "CASSINI ORBITER\n",
      "CASSINI ORBITER\n",
      "\n",
      "INSTRUMENT_NAME 32\n",
      "ISSWA\n",
      "ISSWA\n",
      "\n",
      "INST_CMPRS_PARAM 33\n",
      "FULL\n",
      "FULL\n",
      "\n",
      "INST_CMPRS_RATE 34\n",
      "IMAGING SCIENCE SUBSYSTEM WIDE ANGLE\n",
      "IMAGING SCIENCE SUBSYSTEM WIDE ANGLE\n",
      "\n",
      "INST_CMPRS_RATIO 35\n",
      "-2147483648\n",
      "-2147483648\n",
      "\n",
      "INST_CMPRS_TYPE 36\n",
      "-2147483648\n",
      "-2147483648\n",
      "\n",
      "LIGHT_FLOOD_STATE_FLAG 37\n",
      "-2147483648\n",
      "-2147483648\n",
      "\n",
      "METHOD_DESC 38\n",
      "-2147483648\n",
      "-2147483648\n",
      "\n",
      "MISSING_LINES 39\n",
      "4.07087\n",
      "4.07087\n",
      "\n",
      "MISSING_PACKET_FLAG 40\n",
      "5.041367\n",
      "5.041367\n",
      "\n",
      "MISSION_NAME 41\n",
      "3.173743\n",
      "3.173743\n",
      "\n",
      "MISSION_PHASE_NAME 42\n",
      "LOSSLESS\n",
      "LOSSLESS\n",
      "\n",
      "OBSERVATION_ID 43\n",
      "ON\n",
      "ON\n",
      "\n",
      "OPTICS_TEMPERATURE 44\n",
      "ISSPT2.6.7c;Saturn-Rings;ISS_134RI_SPKMVDFHP002_PRIME_4\n",
      "ISSPT2.6.7c;Saturn-Rings;ISS_134RI_SPKMVDFHP002_PRIME_4\n",
      "\n",
      "ORDER_NUMBER 45\n",
      "0\n",
      "0\n",
      "\n",
      "PARALLEL_CLOCK_VOLTAGE_INDEX 46\n",
      "NO\n",
      "NO\n",
      "\n",
      "PREPARE_CYCLE_INDEX 47\n",
      "CASSINI-HUYGENS\n",
      "CASSINI-HUYGENS\n",
      "\n",
      "PRODUCT_CREATION_TIME 48\n",
      "EXTENDED MISSION\n",
      "EXTENDED MISSION\n",
      "\n",
      "PRODUCT_ID 49\n",
      "ISS_134RI_SPKMVDFHP002_PRIME\n",
      "ISS_134RI_SPKMVDFHP002_PRIME\n",
      "\n",
      "PRODUCT_VERSION_TYPE 50\n",
      "6.085644\n",
      "6.085644\n",
      "\n",
      "READOUT_CYCLE_INDEX 51\n",
      "-999\n",
      "-999.0\n",
      "\n",
      "RECEIVED_PACKETS 52\n",
      "1\n",
      "1\n",
      "\n",
      "SENSOR_HEAD_ELEC_TEMPERATURE 53\n",
      "9\n",
      "9\n",
      "\n",
      "SEQUENCE_ID 54\n",
      "13\n",
      "13\n",
      "\n",
      "SEQUENCE_NUMBER 55\n",
      "2010-183T18:57:02.000\n",
      "2010-183T18:57:02.000\n",
      "\n",
      "SEQUENCE_TITLE 56\n",
      "1_W1656702236.122\n",
      "1_W1656702236.122\n",
      "\n",
      "SHUTTER_MODE_ID 57\n",
      "FINAL\n",
      "FINAL\n",
      "\n",
      "SHUTTER_STATE_ID 58\n",
      "5\n",
      "5\n",
      "\n",
      "SOFTWARE_VERSION_ID 59\n",
      "724\n",
      "724\n",
      "\n",
      "SPACECRAFT_CLOCK_CNT_PARTITION 60\n",
      "1.551943\n",
      "1.551943\n",
      "\n",
      "SPACECRAFT_CLOCK_START_COUNT 61\n",
      "S61\n",
      "S61\n",
      "\n",
      "SPACECRAFT_CLOCK_STOP_COUNT 62\n",
      "1\n",
      "1\n",
      "\n",
      "START_TIME 63\n",
      "--\n",
      "--\n",
      "\n",
      "STOP_TIME 64\n",
      "WACONLY\n",
      "WACONLY\n",
      "\n",
      "TARGET_DESC 65\n",
      "ENABLED\n",
      "ENABLED\n",
      "\n",
      "TARGET_NAME 66\n",
      "ISS 11.00 05-24-2006\n",
      "ISS 11.00 05-24-2006\n",
      "\n",
      "TELEMETRY_FORMAT_ID 67\n",
      "1\n",
      "1\n",
      "\n",
      "VALID_MAXIMUM 68\n",
      "1656702236.042\n",
      "1656702236.04\n",
      "\n",
      "CENTRAL_BODY_DISTANCE 69\n",
      "1656702236.122\n",
      "1656702236.12\n",
      "\n",
      "COORDINATE_SYSTEM_NAME 70\n",
      "2010-182T18:18:28.014\n",
      "2010-182T18:18:28.014\n",
      "\n",
      "DECLINATION 71\n",
      "2010-182T18:18:28.334\n",
      "2010-182T18:18:28.334\n",
      "\n",
      "EMISSION_ANGLE 72\n",
      "Saturn-Rings\n",
      "Saturn-Rings\n",
      "\n",
      "INCIDENCE_ANGLE 73\n",
      "SATURN\n",
      "SATURN\n",
      "\n",
      "LOWER_LEFT_LATITUDE 74\n",
      "S_N_ER_3\n",
      "S_N_ER_3\n",
      "\n",
      "LOWER_LEFT_LONGITUDE 75\n",
      "4095\n",
      "4095\n",
      "\n",
      "LOWER_RIGHT_LATITUDE 76\n",
      "4095\n",
      "4095\n",
      "\n",
      "LOWER_RIGHT_LONGITUDE 77\n",
      "1744861.3\n",
      "1744861.3\n",
      "\n",
      "MAXIMUM_RING_RADIUS 78\n",
      "EQUATORIAL INERTIAL CART COORD\n",
      "EQUATORIAL INERTIAL CART COORD\n",
      "\n",
      "MINIMUM_RING_RADIUS 79\n",
      "15.517707\n",
      "15.517707\n",
      "\n",
      "NORTH_AZIMUTH_CLOCK_ANGLE 80\n",
      "-1e+32\n",
      "-1e+32\n",
      "\n",
      "PHASE_ANGLE 81\n",
      "-1e+32\n",
      "-1e+32\n",
      "\n",
      "PIXEL_SCALE 82\n",
      "-1e+32\n",
      "-1e+32\n",
      "\n",
      "PLANET_CENTER 83\n",
      "-1e+32\n",
      "-1e+32\n",
      "\n",
      "RIGHT_ASCENSION 84\n",
      "-1e+32\n",
      "-1e+32\n",
      "\n",
      "RING_CENTER_LATITUDE 85\n",
      "-1e+32\n",
      "-1e+32\n",
      "\n",
      "RING_CENTER_LONGITUDE 86\n",
      "311691.18\n",
      "311691.18\n",
      "\n",
      "RING_EMISSION_ANGLE 87\n",
      "60895.902\n",
      "60895.902\n",
      "\n",
      "RING_INCIDENCE_ANGLE 88\n",
      "-1e+32\n",
      "-1e+32\n",
      "\n",
      "RINGS_FLAG 89\n",
      "109.84738\n",
      "109.84738\n",
      "\n",
      "SC_PLANET_POSITION_VECTOR 90\n",
      "100.67737\n",
      "100.67737\n",
      "\n",
      "SC_PLANET_VELOCITY_VECTOR 91\n",
      "-570.08183\n",
      "-570.08183\n",
      "\n",
      "SC_SUN_POSITION_VECTOR 92\n",
      "275.65674\n",
      "275.65674\n",
      "\n",
      "SC_SUN_VELOCITY_VECTOR 93\n",
      "299.8084\n",
      "299.8084\n",
      "\n",
      "SC_TARGET_POSITION_VECTOR 94\n",
      "104.21535\n",
      "104.21535\n",
      "\n",
      "SC_TARGET_VELOCITY_VECTOR 95\n",
      "255.64446\n",
      "255.64446\n",
      "\n",
      "SPICE_PRODUCT_ID 96\n",
      "104.21535\n",
      "104.21535\n",
      "\n",
      "SUB_SOLAR_LATITUDE 97\n",
      "85.088499\n",
      "85.088499\n",
      "\n",
      "SUB_SOLAR_LONGITUDE 98\n",
      "YES\n",
      "YES\n",
      "\n",
      "SUB_SPACECRAFT_LATITUDE 99\n",
      "732624.69\n",
      "732624.69\n",
      "\n",
      "SUB_SPACECRAFT_LONGITUDE 100\n",
      "-1509303.2\n",
      "-1509303.2\n",
      "\n",
      "CENTER_LATITUDE 101\n",
      "479380.91\n",
      "479380.91\n",
      "\n",
      "CENTER_LONGITUDE 102\n",
      "0.58230666\n",
      "0.58230666\n",
      "\n",
      "TARGET_DISTANCE 103\n",
      "3.4297093\n",
      "3.4297093\n",
      "\n",
      "TARGET_EASTERNMOST_LONGITUDE 104\n",
      "-0.57923942\n",
      "-0.57923942\n",
      "\n",
      "TARGET_NORTHERNMOST_LATITUDE 105\n",
      "1420699900\n",
      "1420699900\n",
      "\n",
      "TARGET_SOUTHERNMOST_LATITUDE 106\n",
      "125472220\n",
      "125472220\n",
      "\n",
      "TARGET_WESTERNMOST_LONGITUDE 107\n",
      "-8217656\n",
      "-8217656.0\n",
      "\n",
      "TWIST_ANGLE 108\n",
      "0.33429957\n",
      "0.33429957\n",
      "\n",
      "TARGET_LIST 109\n",
      "12.337348\n",
      "12.337348\n",
      "\n",
      "UPPER_LEFT_LATITUDE 110\n",
      "3.1100249\n",
      "3.1100249\n",
      "\n",
      "UPPER_LEFT_LONGITUDE 111\n",
      "732624.69\n",
      "732624.69\n",
      "\n",
      "UPPER_RIGHT_LATITUDE 112\n",
      "-1509303.2\n",
      "-1509303.2\n",
      "\n",
      "UPPER_RIGHT_LONGITUDE 113\n",
      "479380.91\n",
      "479380.91\n",
      "\n",
      "DATA_SET_NAME 114\n",
      "0.58230666\n",
      "0.58230666\n",
      "\n",
      "INSTRUMENT_HOST_ID 115\n",
      "3.4297093\n",
      "3.4297093\n",
      "\n",
      "PRODUCT_TYPE 116\n",
      "-0.57923942\n",
      "-0.57923942\n",
      "\n",
      "STANDARD_DATA_PRODUCT_ID 117\n",
      "naif0009.tls\n",
      "naif0009.tls,cpck14Dec2001.tpc,cpck_rock_21Jan2011_merged.tpc,cpck09May2011.tpc,sat164.bsp,100913R_SCPSE_10178_10216.bsp,110317AP_RE_90165_18018.bsp,10176_10211pg_live.bc,10179_10184ra.bc,cpck20May2011.tpc,cas_v40.tf,cas_iss_v10.ti,cas00148.tsc\n",
      "\n",
      "None 118\n",
      "cpck14Dec2001.tpc\n",
      "4.911131\n",
      "\n",
      "None 119\n",
      "cpck_rock_21Jan2011_merged.tpc\n",
      "2.059535\n",
      "\n",
      "None 120\n",
      "cpck09May2011.tpc\n",
      "-14.214463\n",
      "\n",
      "None 121\n",
      "sat164.bsp\n",
      "252.80742\n",
      "\n",
      "None 122\n",
      "100913R_SCPSE_10178_10216.bsp\n",
      "-1e+32\n",
      "\n",
      "None 123\n",
      "110317AP_RE_90165_18018.bsp\n",
      "-1e+32\n",
      "\n",
      "None 124\n",
      "10176_10211pg_live.bc\n",
      "1744861.3\n",
      "\n",
      "None 125\n",
      "10179_10184ra.bc\n",
      "332.38989\n",
      "\n",
      "None 126\n",
      "cpck20May2011.tpc\n",
      "6.7370799\n",
      "\n",
      "None 127\n",
      "cas_v40.tf\n",
      "-12.185224\n",
      "\n",
      "None 128\n",
      "cas_iss_v10.ti\n",
      "344.56018\n",
      "\n",
      "None 129\n",
      "cas00148.tsc\n",
      "275.3231\n",
      "\n",
      "None 130\n",
      "4.911131\n",
      "DAPHNIS,PANDORA\n",
      "\n",
      "None 131\n",
      "2.059535\n",
      "-1e+32\n",
      "\n",
      "None 132\n",
      "-14.214463\n",
      "-1e+32\n",
      "\n",
      "None 133\n",
      "252.80742\n",
      "-1e+32\n",
      "\n",
      "None 134\n",
      "-1e+32\n",
      "-1e+32\n",
      "\n",
      "None 135\n",
      "-1e+32\n",
      "CASSINI ORBITER SATURN ISSNA/ISSWA 2 EDR VERSION 1.0\n",
      "\n",
      "None 136\n",
      "1744861.3\n",
      "CO\n",
      "\n",
      "None 137\n",
      "332.38989\n",
      "EDR\n",
      "\n",
      "None 138\n",
      "6.7370799\n",
      "ISS_EDR\n",
      "\n",
      "None 139\n",
      "-12.185224\n",
      "None\n",
      "\n",
      "None 140\n",
      "344.56018\n",
      "None\n",
      "\n",
      "None 141\n",
      "275.3231\n",
      "None\n",
      "\n",
      "None 142\n",
      "DAPHNIS\n",
      "None\n",
      "\n",
      "None 143\n",
      "PANDORA\n",
      "None\n",
      "\n",
      "None 144\n",
      "-1e+32\n",
      "None\n",
      "\n",
      "None 145\n",
      "-1e+32\n",
      "None\n",
      "\n",
      "None 146\n",
      "-1e+32\n",
      "None\n",
      "\n",
      "None 147\n",
      "-1e+32\n",
      "None\n",
      "\n",
      "None 148\n",
      "CASSINI ORBITER SATURN ISSNA/ISSWA 2 EDR VERSION 1.0\n",
      "None\n",
      "\n",
      "None 149\n",
      "CO\n",
      "None\n",
      "\n",
      "None 150\n",
      "EDR\n",
      "None\n",
      "\n",
      "None 151\n",
      "ISS_EDR\"\n",
      "None\n",
      "\n"
     ]
    }
   ],
   "source": [
    "i = 0\n",
    "for col, lineitem, dfitem in zip_longest(colnames, line, dfline):\n",
    "    print(col, i)\n",
    "    print(lineitem)\n",
    "    print(dfitem)\n",
    "    print()\n",
    "    i += 1"
   ]
  },
  {
   "cell_type": "code",
   "execution_count": null,
   "metadata": {
    "collapsed": true
   },
   "outputs": [],
   "source": []
  },
  {
   "cell_type": "code",
   "execution_count": null,
   "metadata": {
    "collapsed": true
   },
   "outputs": [],
   "source": []
  },
  {
   "cell_type": "code",
   "execution_count": null,
   "metadata": {
    "collapsed": true
   },
   "outputs": [],
   "source": []
  },
  {
   "cell_type": "code",
   "execution_count": null,
   "metadata": {
    "collapsed": true
   },
   "outputs": [],
   "source": []
  },
  {
   "cell_type": "code",
   "execution_count": 58,
   "metadata": {
    "collapsed": false
   },
   "outputs": [
    {
     "ename": "ValueError",
     "evalue": "Length mismatch: Expected axis has 139 elements, new values have 118 elements",
     "output_type": "error",
     "traceback": [
      "\u001b[0;31m---------------------------------------------------------------------------\u001b[0m",
      "\u001b[0;31mValueError\u001b[0m                                Traceback (most recent call last)",
      "\u001b[0;32m<ipython-input-58-620441d541ad>\u001b[0m in \u001b[0;36m<module>\u001b[0;34m()\u001b[0m\n\u001b[0;32m----> 1\u001b[0;31m \u001b[0mdf\u001b[0m\u001b[0;34m.\u001b[0m\u001b[0mcolumns\u001b[0m \u001b[0;34m=\u001b[0m \u001b[0mcolumns\u001b[0m\u001b[0;34m\u001b[0m\u001b[0m\n\u001b[0m",
      "\u001b[0;32m/Users/klay6683/miniconda3/lib/python3.4/site-packages/pandas/core/generic.py\u001b[0m in \u001b[0;36m__setattr__\u001b[0;34m(self, name, value)\u001b[0m\n\u001b[1;32m   2159\u001b[0m         \u001b[0;32mtry\u001b[0m\u001b[0;34m:\u001b[0m\u001b[0;34m\u001b[0m\u001b[0m\n\u001b[1;32m   2160\u001b[0m             \u001b[0mobject\u001b[0m\u001b[0;34m.\u001b[0m\u001b[0m__getattribute__\u001b[0m\u001b[0;34m(\u001b[0m\u001b[0mself\u001b[0m\u001b[0;34m,\u001b[0m \u001b[0mname\u001b[0m\u001b[0;34m)\u001b[0m\u001b[0;34m\u001b[0m\u001b[0m\n\u001b[0;32m-> 2161\u001b[0;31m             \u001b[0;32mreturn\u001b[0m \u001b[0mobject\u001b[0m\u001b[0;34m.\u001b[0m\u001b[0m__setattr__\u001b[0m\u001b[0;34m(\u001b[0m\u001b[0mself\u001b[0m\u001b[0;34m,\u001b[0m \u001b[0mname\u001b[0m\u001b[0;34m,\u001b[0m \u001b[0mvalue\u001b[0m\u001b[0;34m)\u001b[0m\u001b[0;34m\u001b[0m\u001b[0m\n\u001b[0m\u001b[1;32m   2162\u001b[0m         \u001b[0;32mexcept\u001b[0m \u001b[0mAttributeError\u001b[0m\u001b[0;34m:\u001b[0m\u001b[0;34m\u001b[0m\u001b[0m\n\u001b[1;32m   2163\u001b[0m             \u001b[0;32mpass\u001b[0m\u001b[0;34m\u001b[0m\u001b[0m\n",
      "\u001b[0;32mpandas/src/properties.pyx\u001b[0m in \u001b[0;36mpandas.lib.AxisProperty.__set__ (pandas/lib.c:42548)\u001b[0;34m()\u001b[0m\n",
      "\u001b[0;32m/Users/klay6683/miniconda3/lib/python3.4/site-packages/pandas/core/generic.py\u001b[0m in \u001b[0;36m_set_axis\u001b[0;34m(self, axis, labels)\u001b[0m\n\u001b[1;32m    411\u001b[0m \u001b[0;34m\u001b[0m\u001b[0m\n\u001b[1;32m    412\u001b[0m     \u001b[0;32mdef\u001b[0m \u001b[0m_set_axis\u001b[0m\u001b[0;34m(\u001b[0m\u001b[0mself\u001b[0m\u001b[0;34m,\u001b[0m \u001b[0maxis\u001b[0m\u001b[0;34m,\u001b[0m \u001b[0mlabels\u001b[0m\u001b[0;34m)\u001b[0m\u001b[0;34m:\u001b[0m\u001b[0;34m\u001b[0m\u001b[0m\n\u001b[0;32m--> 413\u001b[0;31m         \u001b[0mself\u001b[0m\u001b[0;34m.\u001b[0m\u001b[0m_data\u001b[0m\u001b[0;34m.\u001b[0m\u001b[0mset_axis\u001b[0m\u001b[0;34m(\u001b[0m\u001b[0maxis\u001b[0m\u001b[0;34m,\u001b[0m \u001b[0mlabels\u001b[0m\u001b[0;34m)\u001b[0m\u001b[0;34m\u001b[0m\u001b[0m\n\u001b[0m\u001b[1;32m    414\u001b[0m         \u001b[0mself\u001b[0m\u001b[0;34m.\u001b[0m\u001b[0m_clear_item_cache\u001b[0m\u001b[0;34m(\u001b[0m\u001b[0;34m)\u001b[0m\u001b[0;34m\u001b[0m\u001b[0m\n\u001b[1;32m    415\u001b[0m \u001b[0;34m\u001b[0m\u001b[0m\n",
      "\u001b[0;32m/Users/klay6683/miniconda3/lib/python3.4/site-packages/pandas/core/internals.py\u001b[0m in \u001b[0;36mset_axis\u001b[0;34m(self, axis, new_labels)\u001b[0m\n\u001b[1;32m   2217\u001b[0m         \u001b[0;32mif\u001b[0m \u001b[0mnew_len\u001b[0m \u001b[0;34m!=\u001b[0m \u001b[0mold_len\u001b[0m\u001b[0;34m:\u001b[0m\u001b[0;34m\u001b[0m\u001b[0m\n\u001b[1;32m   2218\u001b[0m             raise ValueError('Length mismatch: Expected axis has %d elements, '\n\u001b[0;32m-> 2219\u001b[0;31m                              'new values have %d elements' % (old_len, new_len))\n\u001b[0m\u001b[1;32m   2220\u001b[0m \u001b[0;34m\u001b[0m\u001b[0m\n\u001b[1;32m   2221\u001b[0m         \u001b[0mself\u001b[0m\u001b[0;34m.\u001b[0m\u001b[0maxes\u001b[0m\u001b[0;34m[\u001b[0m\u001b[0maxis\u001b[0m\u001b[0;34m]\u001b[0m \u001b[0;34m=\u001b[0m \u001b[0mnew_labels\u001b[0m\u001b[0;34m\u001b[0m\u001b[0m\n",
      "\u001b[0;31mValueError\u001b[0m: Length mismatch: Expected axis has 139 elements, new values have 118 elements"
     ]
    }
   ],
   "source": [
    "df.columns = columns"
   ]
  },
  {
   "cell_type": "code",
   "execution_count": 123,
   "metadata": {
    "collapsed": true
   },
   "outputs": [],
   "source": [
    "def tokenize(line):\n",
    "    tokens = line.split('=')\n",
    "    return [i.strip() for i in tokens]"
   ]
  },
  {
   "cell_type": "code",
   "execution_count": 124,
   "metadata": {
    "collapsed": false
   },
   "outputs": [],
   "source": [
    "class PDSColumn:\n",
    "    def __init__(self, buffer):\n",
    "        d = {}\n",
    "        i = 0\n",
    "        for line in buffer:\n",
    "            if i > 10:\n",
    "                break\n",
    "            tokens = tokenize(line)\n",
    "            if tokens[0] == 'OBJECT':\n",
    "                continue\n",
    "            elif tokens[0] == 'END_OBJECT':\n",
    "                break\n",
    "            try:\n",
    "                d[tokens[0].strip()] = tokens[1].strip()\n",
    "            except IndexError:\n",
    "                continue\n",
    "            i += 1\n",
    "        self.d = d"
   ]
  },
  {
   "cell_type": "code",
   "execution_count": 125,
   "metadata": {
    "collapsed": false
   },
   "outputs": [
    {
     "ename": "ValueError",
     "evalue": "Length mismatch: Expected axis has 139 elements, new values have 52 elements",
     "output_type": "error",
     "traceback": [
      "\u001b[0;31m---------------------------------------------------------------------------\u001b[0m",
      "\u001b[0;31mValueError\u001b[0m                                Traceback (most recent call last)",
      "\u001b[0;32m<ipython-input-125-351f0c4abeb0>\u001b[0m in \u001b[0;36m<module>\u001b[0;34m()\u001b[0m\n\u001b[1;32m     34\u001b[0m         \u001b[0mself\u001b[0m\u001b[0;34m.\u001b[0m\u001b[0mfinal_cols\u001b[0m \u001b[0;34m=\u001b[0m \u001b[0mfinal_cols\u001b[0m\u001b[0;34m\u001b[0m\u001b[0m\n\u001b[1;32m     35\u001b[0m \u001b[0mlabelfile\u001b[0m \u001b[0;34m=\u001b[0m \u001b[0mPDSLabelReader\u001b[0m\u001b[0;34m(\u001b[0m\u001b[0mlabelfname\u001b[0m\u001b[0;34m)\u001b[0m\u001b[0;34m\u001b[0m\u001b[0m\n\u001b[0;32m---> 36\u001b[0;31m \u001b[0mdf\u001b[0m\u001b[0;34m.\u001b[0m\u001b[0mcolumns\u001b[0m \u001b[0;34m=\u001b[0m \u001b[0mlabelfile\u001b[0m\u001b[0;34m.\u001b[0m\u001b[0mfinal_cols\u001b[0m\u001b[0;34m\u001b[0m\u001b[0m\n\u001b[0m",
      "\u001b[0;32m/Users/klay6683/miniconda3/lib/python3.4/site-packages/pandas/core/generic.py\u001b[0m in \u001b[0;36m__setattr__\u001b[0;34m(self, name, value)\u001b[0m\n\u001b[1;32m   2159\u001b[0m         \u001b[0;32mtry\u001b[0m\u001b[0;34m:\u001b[0m\u001b[0;34m\u001b[0m\u001b[0m\n\u001b[1;32m   2160\u001b[0m             \u001b[0mobject\u001b[0m\u001b[0;34m.\u001b[0m\u001b[0m__getattribute__\u001b[0m\u001b[0;34m(\u001b[0m\u001b[0mself\u001b[0m\u001b[0;34m,\u001b[0m \u001b[0mname\u001b[0m\u001b[0;34m)\u001b[0m\u001b[0;34m\u001b[0m\u001b[0m\n\u001b[0;32m-> 2161\u001b[0;31m             \u001b[0;32mreturn\u001b[0m \u001b[0mobject\u001b[0m\u001b[0;34m.\u001b[0m\u001b[0m__setattr__\u001b[0m\u001b[0;34m(\u001b[0m\u001b[0mself\u001b[0m\u001b[0;34m,\u001b[0m \u001b[0mname\u001b[0m\u001b[0;34m,\u001b[0m \u001b[0mvalue\u001b[0m\u001b[0;34m)\u001b[0m\u001b[0;34m\u001b[0m\u001b[0m\n\u001b[0m\u001b[1;32m   2162\u001b[0m         \u001b[0;32mexcept\u001b[0m \u001b[0mAttributeError\u001b[0m\u001b[0;34m:\u001b[0m\u001b[0;34m\u001b[0m\u001b[0m\n\u001b[1;32m   2163\u001b[0m             \u001b[0;32mpass\u001b[0m\u001b[0;34m\u001b[0m\u001b[0m\n",
      "\u001b[0;32mpandas/src/properties.pyx\u001b[0m in \u001b[0;36mpandas.lib.AxisProperty.__set__ (pandas/lib.c:42548)\u001b[0;34m()\u001b[0m\n",
      "\u001b[0;32m/Users/klay6683/miniconda3/lib/python3.4/site-packages/pandas/core/generic.py\u001b[0m in \u001b[0;36m_set_axis\u001b[0;34m(self, axis, labels)\u001b[0m\n\u001b[1;32m    411\u001b[0m \u001b[0;34m\u001b[0m\u001b[0m\n\u001b[1;32m    412\u001b[0m     \u001b[0;32mdef\u001b[0m \u001b[0m_set_axis\u001b[0m\u001b[0;34m(\u001b[0m\u001b[0mself\u001b[0m\u001b[0;34m,\u001b[0m \u001b[0maxis\u001b[0m\u001b[0;34m,\u001b[0m \u001b[0mlabels\u001b[0m\u001b[0;34m)\u001b[0m\u001b[0;34m:\u001b[0m\u001b[0;34m\u001b[0m\u001b[0m\n\u001b[0;32m--> 413\u001b[0;31m         \u001b[0mself\u001b[0m\u001b[0;34m.\u001b[0m\u001b[0m_data\u001b[0m\u001b[0;34m.\u001b[0m\u001b[0mset_axis\u001b[0m\u001b[0;34m(\u001b[0m\u001b[0maxis\u001b[0m\u001b[0;34m,\u001b[0m \u001b[0mlabels\u001b[0m\u001b[0;34m)\u001b[0m\u001b[0;34m\u001b[0m\u001b[0m\n\u001b[0m\u001b[1;32m    414\u001b[0m         \u001b[0mself\u001b[0m\u001b[0;34m.\u001b[0m\u001b[0m_clear_item_cache\u001b[0m\u001b[0;34m(\u001b[0m\u001b[0;34m)\u001b[0m\u001b[0;34m\u001b[0m\u001b[0m\n\u001b[1;32m    415\u001b[0m \u001b[0;34m\u001b[0m\u001b[0m\n",
      "\u001b[0;32m/Users/klay6683/miniconda3/lib/python3.4/site-packages/pandas/core/internals.py\u001b[0m in \u001b[0;36mset_axis\u001b[0;34m(self, axis, new_labels)\u001b[0m\n\u001b[1;32m   2217\u001b[0m         \u001b[0;32mif\u001b[0m \u001b[0mnew_len\u001b[0m \u001b[0;34m!=\u001b[0m \u001b[0mold_len\u001b[0m\u001b[0;34m:\u001b[0m\u001b[0;34m\u001b[0m\u001b[0m\n\u001b[1;32m   2218\u001b[0m             raise ValueError('Length mismatch: Expected axis has %d elements, '\n\u001b[0;32m-> 2219\u001b[0;31m                              'new values have %d elements' % (old_len, new_len))\n\u001b[0m\u001b[1;32m   2220\u001b[0m \u001b[0;34m\u001b[0m\u001b[0m\n\u001b[1;32m   2221\u001b[0m         \u001b[0mself\u001b[0m\u001b[0;34m.\u001b[0m\u001b[0maxes\u001b[0m\u001b[0;34m[\u001b[0m\u001b[0maxis\u001b[0m\u001b[0;34m]\u001b[0m \u001b[0;34m=\u001b[0m \u001b[0mnew_labels\u001b[0m\u001b[0;34m\u001b[0m\u001b[0m\n",
      "\u001b[0;31mValueError\u001b[0m: Length mismatch: Expected axis has 139 elements, new values have 52 elements"
     ]
    }
   ],
   "source": [
    "class PDSLabelReader:\n",
    "    def __init__(self, fname):\n",
    "        f = open(fname)\n",
    "        # pre-parse the stuff away we don't need\n",
    "        while True:\n",
    "            tokens = tokenize(f.readline())\n",
    "            try:\n",
    "                if tokens[1] == 'COLUMN':\n",
    "                    break\n",
    "            except IndexError:\n",
    "                continue\n",
    "        self.f = f\n",
    "        self.parse_columns()\n",
    "        self.expand_columns()\n",
    "    def parse_columns(self):\n",
    "        columns = []\n",
    "        while True:\n",
    "            col = PDSColumn(self.f)\n",
    "            if len(col.d) != 0:\n",
    "                columns.append(col)\n",
    "            else:\n",
    "                break\n",
    "        self.columns = columns\n",
    "    def expand_columns(self):\n",
    "        final_cols = []\n",
    "        for pdscol in self.columns:\n",
    "            dic = pdscol.d\n",
    "            if 'ITEMS' in dic:\n",
    "                no_items = int(dic['ITEMS'])\n",
    "                for i in range(no_items):\n",
    "                    final_cols.append(\"{}_{}\".format(dic['NAME'],i))\n",
    "            else:\n",
    "                final_cols.append(dic['NAME'])\n",
    "        self.final_cols = final_cols\n",
    "labelfile = PDSLabelReader(labelfname)\n",
    "df.columns = labelfile.final_cols"
   ]
  },
  {
   "cell_type": "code",
   "execution_count": 132,
   "metadata": {
    "collapsed": false,
    "scrolled": true
   },
   "outputs": [
    {
     "data": {
      "text/plain": [
       "['FILE_NAME',\n",
       " 'FILE_SPECIFICATION_NAME',\n",
       " 'VOLUME_ID',\n",
       " 'ANTIBLOOMING_STATE_FLAG',\n",
       " 'BIAS_STRIP_MEAN',\n",
       " 'CALIBRATION_LAMP_STATE_FLAG',\n",
       " 'COMMAND_FILE_NAME',\n",
       " 'COMMAND_SEQUENCE_NUMBER',\n",
       " 'DARK_STRIP_MEAN',\n",
       " 'DATA_CONVERSION_TYPE',\n",
       " 'DATA_SET_ID',\n",
       " 'DELAYED_READOUT_FLAG',\n",
       " 'DESCRIPTION',\n",
       " 'DETECTOR_TEMPERATURE',\n",
       " 'EARTH_RECEIVED_START_TIME',\n",
       " 'EARTH_RECEIVED_STOP_TIME',\n",
       " 'ELECTRONICS_BIAS',\n",
       " 'EXPECTED_MAXIMUM_0',\n",
       " 'EXPECTED_PACKETS',\n",
       " 'EXPOSURE_DURATION',\n",
       " 'FILTER_NAME_0',\n",
       " 'FILTER_TEMPERATURE',\n",
       " 'FLIGHT_SOFTWARE_VERSION_ID',\n",
       " 'GAIN_MODE_ID',\n",
       " 'IMAGE_MID_TIME',\n",
       " 'IMAGE_NUMBER',\n",
       " 'IMAGE_OBSERVATION_TYPE',\n",
       " 'IMAGE_TIME',\n",
       " 'INSTRUMENT_DATA_RATE',\n",
       " 'INSTRUMENT_HOST_NAME',\n",
       " 'INSTRUMENT_ID',\n",
       " 'INSTRUMENT_MODE_ID',\n",
       " 'INSTRUMENT_NAME',\n",
       " 'INST_CMPRS_PARAM_0',\n",
       " 'INST_CMPRS_PARAM_2',\n",
       " 'INST_CMPRS_PARAM_3',\n",
       " 'INST_CMPRS_RATE_0',\n",
       " 'INST_CMPRS_RATIO',\n",
       " 'INST_CMPRS_TYPE',\n",
       " 'LIGHT_FLOOD_STATE_FLAG',\n",
       " 'METHOD_DESC',\n",
       " 'MISSING_LINES',\n",
       " 'MISSING_PACKET_FLAG',\n",
       " 'MISSION_NAME',\n",
       " 'MISSION_PHASE_NAME',\n",
       " 'OBSERVATION_ID',\n",
       " 'OPTICS_TEMPERATURE_0']"
      ]
     },
     "execution_count": 132,
     "metadata": {},
     "output_type": "execute_result"
    }
   ],
   "source": [
    "cleaned_colnames = [i for i in labelfile.final_cols]\n",
    "cleaned_colnames"
   ]
  },
  {
   "cell_type": "code",
   "execution_count": 133,
   "metadata": {
    "collapsed": false,
    "scrolled": false
   },
   "outputs": [
    {
     "name": "stdout",
     "output_type": "stream",
     "text": [
      "FILE_NAME\n",
      "FILE_NAME\n",
      "\n",
      "FILE_SPECIFICATION_NAME\n",
      "FILE_SPECIFICATION_NAME\n",
      "\n",
      "VOLUME_ID\n",
      "VOLUME_ID\n",
      "\n",
      "ANTIBLOOMING_STATE_FLAG\n",
      "ANTIBLOOMING_STATE_FLAG\n",
      "\n",
      "BIAS_STRIP_MEAN\n",
      "BIAS_STRIP_MEAN\n",
      "\n",
      "CALIBRATION_LAMP_STATE_FLAG\n",
      "CALIBRATION_LAMP_STATE_FLAG\n",
      "\n",
      "COMMAND_FILE_NAME\n",
      "COMMAND_FILE_NAME\n",
      "\n",
      "COMMAND_SEQUENCE_NUMBER\n",
      "COMMAND_SEQUENCE_NUMBER\n",
      "\n",
      "DARK_STRIP_MEAN\n",
      "DARK_STRIP_MEAN\n",
      "\n",
      "DATA_CONVERSION_TYPE\n",
      "DATA_CONVERSION_TYPE\n",
      "\n",
      "DATA_SET_ID\n",
      "DATA_SET_ID\n",
      "\n",
      "DELAYED_READOUT_FLAG\n",
      "DELAYED_READOUT_FLAG\n",
      "\n",
      "DESCRIPTION\n",
      "DESCRIPTION\n",
      "\n",
      "DETECTOR_TEMPERATURE\n",
      "DETECTOR_TEMPERATURE\n",
      "\n",
      "EARTH_RECEIVED_START_TIME\n",
      "EARTH_RECEIVED_START_TIME\n",
      "\n",
      "EARTH_RECEIVED_STOP_TIME\n",
      "EARTH_RECEIVED_STOP_TIME\n",
      "\n",
      "ELECTRONICS_BIAS\n",
      "ELECTRONICS_BIAS\n",
      "\n",
      "EXPECTED_MAXIMUM\n",
      "EXPECTED_MAXIMUM_0\n",
      "\n",
      "EXPECTED_PACKETS\n",
      "EXPECTED_PACKETS\n",
      "\n",
      "EXPOSURE_DURATION\n",
      "EXPOSURE_DURATION\n",
      "\n",
      "FILTER_NAME\n",
      "FILTER_NAME_0\n",
      "\n",
      "FILTER_TEMPERATURE\n",
      "FILTER_TEMPERATURE\n",
      "\n",
      "FLIGHT_SOFTWARE_VERSION_ID\n",
      "FLIGHT_SOFTWARE_VERSION_ID\n",
      "\n",
      "GAIN_MODE_ID\n",
      "GAIN_MODE_ID\n",
      "\n",
      "IMAGE_MID_TIME\n",
      "IMAGE_MID_TIME\n",
      "\n",
      "IMAGE_NUMBER\n",
      "IMAGE_NUMBER\n",
      "\n",
      "IMAGE_OBSERVATION_TYPE\n",
      "IMAGE_OBSERVATION_TYPE\n",
      "\n",
      "IMAGE_TIME\n",
      "IMAGE_TIME\n",
      "\n",
      "INSTRUMENT_DATA_RATE\n",
      "INSTRUMENT_DATA_RATE\n",
      "\n",
      "INSTRUMENT_HOST_NAME\n",
      "INSTRUMENT_HOST_NAME\n",
      "\n",
      "INSTRUMENT_ID\n",
      "INSTRUMENT_ID\n",
      "\n",
      "INSTRUMENT_MODE_ID\n",
      "INSTRUMENT_MODE_ID\n",
      "\n",
      "INSTRUMENT_NAME\n",
      "INSTRUMENT_NAME\n",
      "\n",
      "INST_CMPRS_PARAM\n",
      "INST_CMPRS_PARAM_0\n",
      "\n",
      "INST_CMPRS_RATE\n",
      "INST_CMPRS_PARAM_2\n",
      "\n",
      "INST_CMPRS_RATIO\n",
      "INST_CMPRS_PARAM_3\n",
      "\n",
      "INST_CMPRS_TYPE\n",
      "INST_CMPRS_RATE_0\n",
      "\n",
      "LIGHT_FLOOD_STATE_FLAG\n",
      "INST_CMPRS_RATIO\n",
      "\n",
      "METHOD_DESC\n",
      "INST_CMPRS_TYPE\n",
      "\n",
      "MISSING_LINES\n",
      "LIGHT_FLOOD_STATE_FLAG\n",
      "\n",
      "MISSING_PACKET_FLAG\n",
      "METHOD_DESC\n",
      "\n",
      "MISSION_NAME\n",
      "MISSING_LINES\n",
      "\n",
      "MISSION_PHASE_NAME\n",
      "MISSING_PACKET_FLAG\n",
      "\n",
      "OBSERVATION_ID\n",
      "MISSION_NAME\n",
      "\n",
      "OPTICS_TEMPERATURE\n",
      "MISSION_PHASE_NAME\n",
      "\n",
      "ORDER_NUMBER\n",
      "OBSERVATION_ID\n",
      "\n",
      "PARALLEL_CLOCK_VOLTAGE_INDEX\n",
      "OPTICS_TEMPERATURE_0\n",
      "\n",
      "PREPARE_CYCLE_INDEX\n",
      "None\n",
      "\n",
      "PRODUCT_CREATION_TIME\n",
      "None\n",
      "\n",
      "PRODUCT_ID\n",
      "None\n",
      "\n",
      "PRODUCT_VERSION_TYPE\n",
      "None\n",
      "\n",
      "READOUT_CYCLE_INDEX\n",
      "None\n",
      "\n",
      "RECEIVED_PACKETS\n",
      "None\n",
      "\n",
      "SENSOR_HEAD_ELEC_TEMPERATURE\n",
      "None\n",
      "\n",
      "SEQUENCE_ID\n",
      "None\n",
      "\n",
      "SEQUENCE_NUMBER\n",
      "None\n",
      "\n",
      "SEQUENCE_TITLE\n",
      "None\n",
      "\n",
      "SHUTTER_MODE_ID\n",
      "None\n",
      "\n",
      "SHUTTER_STATE_ID\n",
      "None\n",
      "\n",
      "SOFTWARE_VERSION_ID\n",
      "None\n",
      "\n",
      "SPACECRAFT_CLOCK_CNT_PARTITION\n",
      "None\n",
      "\n",
      "SPACECRAFT_CLOCK_START_COUNT\n",
      "None\n",
      "\n",
      "SPACECRAFT_CLOCK_STOP_COUNT\n",
      "None\n",
      "\n",
      "START_TIME\n",
      "None\n",
      "\n",
      "STOP_TIME\n",
      "None\n",
      "\n",
      "TARGET_DESC\n",
      "None\n",
      "\n",
      "TARGET_NAME\n",
      "None\n",
      "\n",
      "TELEMETRY_FORMAT_ID\n",
      "None\n",
      "\n",
      "VALID_MAXIMUM\n",
      "None\n",
      "\n",
      "CENTRAL_BODY_DISTANCE\n",
      "None\n",
      "\n",
      "COORDINATE_SYSTEM_NAME\n",
      "None\n",
      "\n",
      "DECLINATION\n",
      "None\n",
      "\n",
      "EMISSION_ANGLE\n",
      "None\n",
      "\n",
      "INCIDENCE_ANGLE\n",
      "None\n",
      "\n",
      "LOWER_LEFT_LATITUDE\n",
      "None\n",
      "\n",
      "LOWER_LEFT_LONGITUDE\n",
      "None\n",
      "\n",
      "LOWER_RIGHT_LATITUDE\n",
      "None\n",
      "\n",
      "LOWER_RIGHT_LONGITUDE\n",
      "None\n",
      "\n",
      "MAXIMUM_RING_RADIUS\n",
      "None\n",
      "\n",
      "MINIMUM_RING_RADIUS\n",
      "None\n",
      "\n",
      "NORTH_AZIMUTH_CLOCK_ANGLE\n",
      "None\n",
      "\n",
      "PHASE_ANGLE\n",
      "None\n",
      "\n",
      "PIXEL_SCALE\n",
      "None\n",
      "\n",
      "PLANET_CENTER\n",
      "None\n",
      "\n",
      "RIGHT_ASCENSION\n",
      "None\n",
      "\n",
      "RING_CENTER_LATITUDE\n",
      "None\n",
      "\n",
      "RING_CENTER_LONGITUDE\n",
      "None\n",
      "\n",
      "RING_EMISSION_ANGLE\n",
      "None\n",
      "\n",
      "RING_INCIDENCE_ANGLE\n",
      "None\n",
      "\n",
      "RINGS_FLAG\n",
      "None\n",
      "\n",
      "SC_PLANET_POSITION_VECTOR\n",
      "None\n",
      "\n",
      "SC_PLANET_VELOCITY_VECTOR\n",
      "None\n",
      "\n",
      "SC_SUN_POSITION_VECTOR\n",
      "None\n",
      "\n",
      "SC_SUN_VELOCITY_VECTOR\n",
      "None\n",
      "\n",
      "SC_TARGET_POSITION_VECTOR\n",
      "None\n",
      "\n",
      "SC_TARGET_VELOCITY_VECTOR\n",
      "None\n",
      "\n",
      "SPICE_PRODUCT_ID\n",
      "None\n",
      "\n",
      "SUB_SOLAR_LATITUDE\n",
      "None\n",
      "\n",
      "SUB_SOLAR_LONGITUDE\n",
      "None\n",
      "\n",
      "SUB_SPACECRAFT_LATITUDE\n",
      "None\n",
      "\n",
      "SUB_SPACECRAFT_LONGITUDE\n",
      "None\n",
      "\n",
      "CENTER_LATITUDE\n",
      "None\n",
      "\n",
      "CENTER_LONGITUDE\n",
      "None\n",
      "\n",
      "TARGET_DISTANCE\n",
      "None\n",
      "\n",
      "TARGET_EASTERNMOST_LONGITUDE\n",
      "None\n",
      "\n",
      "TARGET_NORTHERNMOST_LATITUDE\n",
      "None\n",
      "\n",
      "TARGET_SOUTHERNMOST_LATITUDE\n",
      "None\n",
      "\n",
      "TARGET_WESTERNMOST_LONGITUDE\n",
      "None\n",
      "\n",
      "TWIST_ANGLE\n",
      "None\n",
      "\n",
      "TARGET_LIST\n",
      "None\n",
      "\n",
      "UPPER_LEFT_LATITUDE\n",
      "None\n",
      "\n",
      "UPPER_LEFT_LONGITUDE\n",
      "None\n",
      "\n",
      "UPPER_RIGHT_LATITUDE\n",
      "None\n",
      "\n",
      "UPPER_RIGHT_LONGITUDE\n",
      "None\n",
      "\n",
      "DATA_SET_NAME\n",
      "None\n",
      "\n",
      "INSTRUMENT_HOST_ID\n",
      "None\n",
      "\n",
      "PRODUCT_TYPE\n",
      "None\n",
      "\n",
      "STANDARD_DATA_PRODUCT_ID\n",
      "None\n",
      "\n"
     ]
    }
   ],
   "source": [
    "for i, j in zip_longest(colnames, cleaned_colnames):\n",
    "    print(i)\n",
    "    print(j)\n",
    "    print()"
   ]
  },
  {
   "cell_type": "code",
   "execution_count": 13,
   "metadata": {
    "collapsed": true
   },
   "outputs": [],
   "source": [
    "def map_string_to_bool(x):\n",
    "    if x.strip() == 'YES':\n",
    "        return True\n",
    "    else:\n",
    "        return False"
   ]
  },
  {
   "cell_type": "code",
   "execution_count": 14,
   "metadata": {
    "collapsed": false
   },
   "outputs": [],
   "source": [
    "df.RINGS_FLAG = df.RINGS_FLAG.map(map_string_to_bool)"
   ]
  },
  {
   "cell_type": "code",
   "execution_count": 15,
   "metadata": {
    "collapsed": true
   },
   "outputs": [],
   "source": [
    "rings = df[df.RINGS_FLAG]"
   ]
  },
  {
   "cell_type": "code",
   "execution_count": 16,
   "metadata": {
    "collapsed": false
   },
   "outputs": [
    {
     "data": {
      "text/plain": [
       "SATURN                      2935\n",
       "SKY                           43\n",
       "EPIMETHEUS                     7\n",
       "ATLAS                          7\n",
       "ENCELADUS                      7\n",
       "JANUS                          6\n",
       "PANDORA                        6\n",
       "PROMETHEUS                     5\n",
       "DIONE                          3\n",
       "CALYPSO                        2\n",
       "HELENE                         1\n",
       "dtype: int64"
      ]
     },
     "execution_count": 16,
     "metadata": {},
     "output_type": "execute_result"
    }
   ],
   "source": [
    "rings.TARGET_NAME.value_counts()"
   ]
  },
  {
   "cell_type": "code",
   "execution_count": 86,
   "metadata": {
    "collapsed": false
   },
   "outputs": [],
   "source": [
    "s = str(res.read())"
   ]
  },
  {
   "cell_type": "code",
   "execution_count": 87,
   "metadata": {
    "collapsed": false
   },
   "outputs": [],
   "source": [
    "from html.parser import HTMLParser"
   ]
  },
  {
   "cell_type": "code",
   "execution_count": 93,
   "metadata": {
    "collapsed": false
   },
   "outputs": [],
   "source": [
    "class MyHTMLParser(HTMLParser):\n",
    "    pdfs = []\n",
    "    def handle_data(self, data):\n",
    "        if data.endswith('.pdf'):\n",
    "            self.pdfs.append(data)\n",
    "parser = MyHTMLParser()\n",
    "parser.feed(s)"
   ]
  },
  {
   "cell_type": "code",
   "execution_count": 103,
   "metadata": {
    "collapsed": false
   },
   "outputs": [],
   "source": [
    "from urllib.request import urlretrieve\n",
    "import sys\n",
    "def report(blocknr, blocksize, size):\n",
    "    current = blocknr*blocksize\n",
    "    sys.stdout.write(\"\\r{0:.2f}%\".format(100.0*current/size))\n",
    "\n",
    "def downloadFile(url):\n",
    "    print(\"\\n\",url)\n",
    "    fname = url.split('/')[-1]\n",
    "    print(fname)\n",
    "    urlretrieve(url, fname, report)"
   ]
  },
  {
   "cell_type": "code",
   "execution_count": 106,
   "metadata": {
    "collapsed": false
   },
   "outputs": [
    {
     "name": "stdout",
     "output_type": "stream",
     "text": [
      "\n",
      " http://lasp.colorado.edu/media/projects/workshops/2014planetaryrings/Presentations/Albers-NewMoonInducedStructure.pdf\n",
      "Albers-NewMoonInducedStructure.pdf\n",
      "100.13%\n",
      " http://lasp.colorado.edu/media/projects/workshops/2014planetaryrings/Presentations/Becker-MeasuringSubCentimeterParticles.pdf\n",
      "Becker-MeasuringSubCentimeterParticles.pdf\n",
      "100.01%\n",
      " http://lasp.colorado.edu/media/projects/workshops/2014planetaryrings/Presentations/Bloom-HousekeepingAnnouncement.pdf\n",
      "Bloom-HousekeepingAnnouncement.pdf\n",
      "100.41%\n",
      " http://lasp.colorado.edu/media/projects/workshops/2014planetaryrings/Presentations/Bradley-UVISReflectanceSpectraComparison.pdf\n",
      "Bradley-UVISReflectanceSpectraComparison.pdf\n",
      "100.33%\n",
      " http://lasp.colorado.edu/media/projects/workshops/2014planetaryrings/Presentations/Brooks-TowardsUnderstandingThermalThroughput.pdf\n",
      "Brooks-TowardsUnderstandingThermalThroughput.pdf\n",
      "100.03%\n",
      " http://lasp.colorado.edu/media/projects/workshops/2014planetaryrings/Presentations/Colwell-Studying_Sizes_and_Shapes.pdf\n",
      "Colwell-Studying_Sizes_and_Shapes.pdf\n",
      "100.08%\n",
      " http://lasp.colorado.edu/media/projects/workshops/2014planetaryrings/Presentations/Crary-SaturnsOtherRingCurrent.pdf\n",
      "Crary-SaturnsOtherRingCurrent.pdf\n",
      "100.27%\n",
      " http://lasp.colorado.edu/media/projects/workshops/2014planetaryrings/Presentations/Cuzzi-SaturnsFRingCore.pdf\n",
      "Cuzzi-SaturnsFRingCore.pdf\n",
      "100.02%\n",
      " http://lasp.colorado.edu/media/projects/workshops/2014planetaryrings/Presentations/Deau-ConstrainingMicroMacroCRing.pdf\n",
      "Deau-ConstrainingMicroMacroCRing.pdf\n",
      "100.04%\n",
      " http://lasp.colorado.edu/media/projects/workshops/2014planetaryrings/Presentations/ElMoutamid-Chariklo.pdf\n",
      "ElMoutamid-Chariklo.pdf\n",
      "100.08%\n",
      " http://lasp.colorado.edu/media/projects/workshops/2014planetaryrings/Presentations/Esposito-PredatorPreyModel.pdf\n",
      "Esposito-PredatorPreyModel.pdf\n",
      "100.36%\n",
      " http://lasp.colorado.edu/media/projects/workshops/2014planetaryrings/Presentations/Estrada-EvolutionOfStructureComposition.pdf\n",
      "Estrada-EvolutionOfStructureComposition.pdf\n",
      "100.28%\n",
      " http://lasp.colorado.edu/media/projects/workshops/2014planetaryrings/Presentations/EvansforMurray_GravitationalCollisionalProcesses.pdf\n",
      "EvansforMurray_GravitationalCollisionalProcesses.pdf\n",
      "100.01%\n",
      " http://lasp.colorado.edu/media/projects/workshops/2014planetaryrings/Presentations/French_Richard-DecipheringEmbeddedWave.pdf\n",
      "French_Richard-DecipheringEmbeddedWave.pdf\n",
      "100.14%\n",
      " http://lasp.colorado.edu/media/projects/workshops/2014planetaryrings/Presentations/French_Robert-AnalysisOfRingClumps.pdf\n",
      "French_Robert-AnalysisOfRingClumps.pdf\n",
      "100.25%\n",
      " http://lasp.colorado.edu/media/projects/workshops/2014planetaryrings/Presentations/Gordon-OPUS.pdf\n",
      "Gordon-OPUS.pdf\n",
      "100.08%\n",
      " http://lasp.colorado.edu/media/projects/workshops/2014planetaryrings/Presentations/Harbison-StellarOccultationsMeasurements.pdf\n",
      "Harbison-StellarOccultationsMeasurements.pdf\n",
      "100.34%\n",
      " http://lasp.colorado.edu/media/projects/workshops/2014planetaryrings/Presentations/Hedman-FewThingsDRing.pdf\n",
      "Hedman-FewThingsDRing.pdf\n",
      "100.03%\n",
      " http://lasp.colorado.edu/media/projects/workshops/2014planetaryrings/Presentations/Hsu-UranusDustyRings.pdf\n",
      "Hsu-UranusDustyRings.pdf\n",
      "100.08%\n",
      " http://lasp.colorado.edu/media/projects/workshops/2014planetaryrings/Presentations/Hyodo-CollisionsBetweenGravitationalAggregates.pdf\n",
      "Hyodo-CollisionsBetweenGravitationalAggregates.pdf\n",
      "100.01%\n",
      " http://lasp.colorado.edu/media/projects/workshops/2014planetaryrings/Presentations/Hyodo-Satellite_formation_from_C-P_disks.pdf\n",
      "Hyodo-Satellite_formation_from_C-P_disks.pdf\n",
      "100.09%\n",
      " http://lasp.colorado.edu/media/projects/workshops/2014planetaryrings/Presentations/Jerousek-Small_Particle_Population.pdf\n",
      "Jerousek-Small_Particle_Population.pdf\n",
      "100.17%\n",
      " http://lasp.colorado.edu/media/projects/workshops/2014planetaryrings/Presentations/McGhee-French-StandingWave.pdf\n",
      "McGhee-French-StandingWave.pdf\n",
      "100.08%\n",
      " http://lasp.colorado.edu/media/projects/workshops/2014planetaryrings/Presentations/Morishima-CoolingDownOfARing.pdf\n",
      "Morishima-CoolingDownOfARing.pdf\n",
      "100.11%\n",
      " http://lasp.colorado.edu/media/projects/workshops/2014planetaryrings/Presentations/Nicholson-Kronoseismology_II.pdf\n",
      "Nicholson-Kronoseismology_II.pdf\n",
      "100.08%\n",
      " http://lasp.colorado.edu/media/projects/workshops/2014planetaryrings/Presentations/Nicholson-RingsWorkshopWrap-up.pdf\n",
      "Nicholson-RingsWorkshopWrap-up.pdf\n",
      "109.93%\n",
      " http://lasp.colorado.edu/media/projects/workshops/2014planetaryrings/Presentations/Pilorz_ThermalTransportBRing.pdf\n",
      "Pilorz_ThermalTransportBRing.pdf\n",
      "100.28%\n",
      " http://lasp.colorado.edu/media/projects/workshops/2014planetaryrings/Presentations/Rehnberg-FeaturesARingDensityWaves.pdf\n",
      "Rehnberg-FeaturesARingDensityWaves.pdf\n",
      "100.26%\n",
      " http://lasp.colorado.edu/media/projects/workshops/2014planetaryrings/Presentations/Robbins-ParticleClustering.pdf\n",
      "Robbins-ParticleClustering.pdf\n",
      "100.00%\n",
      " http://lasp.colorado.edu/media/projects/workshops/2014planetaryrings/Presentations/Scharringhausen-UnveilingSaturnsFRing.pdf\n",
      "Scharringhausen-UnveilingSaturnsFRing.pdf\n",
      "100.13%\n",
      " http://lasp.colorado.edu/media/projects/workshops/2014planetaryrings/Presentations/Spilker-10-YearCassini.pdf\n",
      "Spilker-10-YearCassini.pdf\n",
      "100.01%\n",
      " http://lasp.colorado.edu/media/projects/workshops/2014planetaryrings/Presentations/Sremcevic_PropellersInSaturnsRings.pdf\n",
      "Sremcevic_PropellersInSaturnsRings.pdf\n",
      "100.13%\n",
      " http://lasp.colorado.edu/media/projects/workshops/2014planetaryrings/Presentations/Sremcevic-daphnis_wandering.pdf\n",
      "Sremcevic-daphnis_wandering.pdf\n",
      "100.62%\n",
      " http://lasp.colorado.edu/media/projects/workshops/2014planetaryrings/Presentations/Stewart-OriginEccentricNarrowRings.pdf\n",
      "Stewart-OriginEccentricNarrowRings.pdf\n",
      "100.14%\n",
      " http://lasp.colorado.edu/media/projects/workshops/2014planetaryrings/Presentations/Tajeddine_KeelerGapDaphnis.pdf\n",
      "Tajeddine_KeelerGapDaphnis.pdf\n",
      "100.30%\n",
      " http://lasp.colorado.edu/media/projects/workshops/2014planetaryrings/Presentations/Tiscareno_OrbitEvolutionDiskEmbeddedMasses.pdf\n",
      "Tiscareno_OrbitEvolutionDiskEmbeddedMasses.pdf\n",
      "100.07%\n",
      " http://lasp.colorado.edu/media/projects/workshops/2014planetaryrings/Presentations/Tiscareno_PlanetaryRingSystemsBook.pdf\n",
      "Tiscareno_PlanetaryRingSystemsBook.pdf\n",
      "103.67%\n",
      " http://lasp.colorado.edu/media/projects/workshops/2014planetaryrings/Presentations/Yasui-Gravitational_Accretion_of_Particles.pdf\n",
      "Yasui-Gravitational_Accretion_of_Particles.pdf\n",
      "100.49%\n",
      " http://lasp.colorado.edu/media/projects/workshops/2014planetaryrings/Presentations/Ye-DustImpactSignalsRPWS.pdf\n",
      "Ye-DustImpactSignalsRPWS.pdf\n",
      "100.05%\n",
      " http://lasp.colorado.edu/media/projects/workshops/2014planetaryrings/Presentations/Zhang-CleaningUpSaturnsRings.pdf\n",
      "Zhang-CleaningUpSaturnsRings.pdf\n",
      "100.03%"
     ]
    }
   ],
   "source": [
    "for url in parser.pdfs:\n",
    "    dlurl = \"http://lasp.colorado.edu/media/projects/workshops/2014planetaryrings/Presentations/\"\n",
    "    downloadFile(dlurl + url)"
   ]
  },
  {
   "cell_type": "markdown",
   "metadata": {
    "collapsed": true
   },
   "source": [
    "# Using JSON"
   ]
  },
  {
   "cell_type": "code",
   "execution_count": 1,
   "metadata": {
    "collapsed": false
   },
   "outputs": [],
   "source": [
    "from pyciss import io, opusapi"
   ]
  },
  {
   "cell_type": "code",
   "execution_count": 51,
   "metadata": {
    "collapsed": false
   },
   "outputs": [],
   "source": [
    "opus = opusapi.OPUS()"
   ]
  },
  {
   "cell_type": "code",
   "execution_count": 52,
   "metadata": {
    "collapsed": false
   },
   "outputs": [],
   "source": [
    "opus.get_between_resolutions(res1=0.5, res2=0.6)"
   ]
  },
  {
   "cell_type": "code",
   "execution_count": 55,
   "metadata": {
    "collapsed": false,
    "scrolled": false
   },
   "outputs": [
    {
     "data": {
      "text/html": [
       "<img style='width: 512px; margin: 0px; float: left; border: 1px solid black;' src='http://pds-rings.seti.org/browse/COISS_2xxx/COISS_2068/data/1683728008_1683934351/W1683902515_1_med.jpg' /><img style='width: 512px; margin: 0px; float: left; border: 1px solid black;' src='http://pds-rings.seti.org/browse/COISS_2xxx/COISS_2062/data/1654219588_1654265459/N1654250545_1_med.jpg' /><img style='width: 512px; margin: 0px; float: left; border: 1px solid black;' src='http://pds-rings.seti.org/browse/COISS_2xxx/COISS_2047/data/1595302104_1595345092/N1595328621_1_med.jpg' /><img style='width: 512px; margin: 0px; float: left; border: 1px solid black;' src='http://pds-rings.seti.org/browse/COISS_2xxx/COISS_2034/data/1563633955_1563701709/W1563636833_1_med.jpg' /><img style='width: 512px; margin: 0px; float: left; border: 1px solid black;' src='http://pds-rings.seti.org/browse/COISS_2xxx/COISS_2034/data/1563854581_1563879674/W1563858060_1_med.jpg' /><img style='width: 512px; margin: 0px; float: left; border: 1px solid black;' src='http://pds-rings.seti.org/browse/COISS_2xxx/COISS_2047/data/1595302104_1595345092/N1595336880_1_med.jpg' /><img style='width: 512px; margin: 0px; float: left; border: 1px solid black;' src='http://pds-rings.seti.org/browse/COISS_2xxx/COISS_2017/data/1512175979_1512194653/N1512191062_1_med.jpg' /><img style='width: 512px; margin: 0px; float: left; border: 1px solid black;' src='http://pds-rings.seti.org/browse/COISS_2xxx/COISS_2047/data/1595302104_1595345092/N1595336397_1_med.jpg' /><img style='width: 512px; margin: 0px; float: left; border: 1px solid black;' src='http://pds-rings.seti.org/browse/COISS_2xxx/COISS_2047/data/1595302104_1595345092/N1595328477_1_med.jpg' /><img style='width: 512px; margin: 0px; float: left; border: 1px solid black;' src='http://pds-rings.seti.org/browse/COISS_2xxx/COISS_2047/data/1595302104_1595345092/N1595337041_1_med.jpg' /><img style='width: 512px; margin: 0px; float: left; border: 1px solid black;' src='http://pds-rings.seti.org/browse/COISS_2xxx/COISS_2034/data/1563854581_1563879674/W1563857545_1_med.jpg' /><img style='width: 512px; margin: 0px; float: left; border: 1px solid black;' src='http://pds-rings.seti.org/browse/COISS_2xxx/COISS_2047/data/1595302104_1595345092/N1595328549_1_med.jpg' /><img style='width: 512px; margin: 0px; float: left; border: 1px solid black;' src='http://pds-rings.seti.org/browse/COISS_2xxx/COISS_2017/data/1512175979_1512194653/W1512191728_1_med.jpg' /><img style='width: 512px; margin: 0px; float: left; border: 1px solid black;' src='http://pds-rings.seti.org/browse/COISS_2xxx/COISS_2047/data/1595302104_1595345092/N1595328405_1_med.jpg' /><img style='width: 512px; margin: 0px; float: left; border: 1px solid black;' src='http://pds-rings.seti.org/browse/COISS_2xxx/COISS_2047/data/1595302104_1595345092/N1595337202_1_med.jpg' /><img style='width: 512px; margin: 0px; float: left; border: 1px solid black;' src='http://pds-rings.seti.org/browse/COISS_2xxx/COISS_2034/data/1563854581_1563879674/W1563857873_1_med.jpg' /><img style='width: 512px; margin: 0px; float: left; border: 1px solid black;' src='http://pds-rings.seti.org/browse/COISS_2xxx/COISS_2047/data/1595302104_1595345092/N1595336558_1_med.jpg' /><img style='width: 512px; margin: 0px; float: left; border: 1px solid black;' src='http://pds-rings.seti.org/browse/COISS_2xxx/COISS_2017/data/1512175979_1512194653/W1512190938_1_med.jpg' /><img style='width: 512px; margin: 0px; float: left; border: 1px solid black;' src='http://pds-rings.seti.org/browse/COISS_2xxx/COISS_2034/data/1563633955_1563701709/N1563636983_1_med.jpg' /><img style='width: 512px; margin: 0px; float: left; border: 1px solid black;' src='http://pds-rings.seti.org/browse/COISS_2xxx/COISS_2047/data/1595302104_1595345092/N1595336719_1_med.jpg' />"
      ],
      "text/plain": [
       "<IPython.core.display.HTML object>"
      ]
     },
     "execution_count": 55,
     "metadata": {},
     "output_type": "execute_result"
    }
   ],
   "source": [
    "opus.show_images('med')"
   ]
  },
  {
   "cell_type": "code",
   "execution_count": 56,
   "metadata": {
    "collapsed": false
   },
   "outputs": [
    {
     "data": {
      "text/plain": [
       "[Raw:\n",
       " Label:\n",
       " http://pds-rings.seti.org/volumes/COISS_2xxx/COISS_2031/data/1554726575_1554802203/N1554730872_1.LBL\n",
       " Image:\n",
       " http://pds-rings.seti.org/volumes/COISS_2xxx/COISS_2031/data/1554726575_1554802203/N1554730872_1.IMG\n",
       " Calibrated:\n",
       " Label:\n",
       " http://pds-rings.seti.org/derived/COISS_2xxx/COISS_2031/data/1554726575_1554802203/N1554730872_1_CALIB.LBL\n",
       " Image:\n",
       " http://pds-rings.seti.org/derived/COISS_2xxx/COISS_2031/data/1554726575_1554802203/N1554730872_1_CALIB.IMG]"
      ]
     },
     "execution_count": 56,
     "metadata": {},
     "output_type": "execute_result"
    }
   ],
   "source": [
    "opus.get_filename('N1554730872')"
   ]
  },
  {
   "cell_type": "code",
   "execution_count": 48,
   "metadata": {
    "collapsed": false
   },
   "outputs": [
    {
     "data": {
      "text/html": [
       "<img style='width: 512px; margin: 0px; float: left; border: 1px solid black;' src='http://pds-rings.seti.org/browse/COISS_2xxx/COISS_2031/data/1554726575_1554802203/N1554730872_1_med.jpg' />"
      ],
      "text/plain": [
       "<IPython.core.display.HTML object>"
      ]
     },
     "execution_count": 48,
     "metadata": {},
     "output_type": "execute_result"
    }
   ],
   "source": [
    "opus.show_images('med')"
   ]
  },
  {
   "cell_type": "code",
   "execution_count": 49,
   "metadata": {
    "collapsed": false
   },
   "outputs": [
    {
     "name": "stdout",
     "output_type": "stream",
     "text": [
      "Downloading N1554730872_1_med.jpg\n"
     ]
    }
   ],
   "source": [
    "opus.download_previews()"
   ]
  },
  {
   "cell_type": "code",
   "execution_count": 50,
   "metadata": {
    "collapsed": false
   },
   "outputs": [
    {
     "name": "stdout",
     "output_type": "stream",
     "text": [
      "Downloading N1554730872_1.IMG\n",
      "Downloading N1554730872_1.LBL\n"
     ]
    }
   ],
   "source": [
    "opus.download_results()"
   ]
  },
  {
   "cell_type": "code",
   "execution_count": null,
   "metadata": {
    "collapsed": true
   },
   "outputs": [],
   "source": []
  }
 ],
 "metadata": {
  "kernelspec": {
   "display_name": "Python 3",
   "language": "python",
   "name": "python3"
  },
  "language_info": {
   "codemirror_mode": {
    "name": "ipython",
    "version": 3
   },
   "file_extension": ".py",
   "mimetype": "text/x-python",
   "name": "python",
   "nbconvert_exporter": "python",
   "pygments_lexer": "ipython3",
   "version": "3.4.3"
  }
 },
 "nbformat": 4,
 "nbformat_minor": 0
}
