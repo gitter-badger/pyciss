{
 "cells": [
  {
   "cell_type": "code",
   "execution_count": 1,
   "metadata": {
    "collapsed": false
   },
   "outputs": [],
   "source": [
    "from urllib.request import urlopen\n",
    "import pandas as pd\n",
    "import os\n",
    "HOME = os.environ['HOME']"
   ]
  },
  {
   "cell_type": "code",
   "execution_count": 2,
   "metadata": {
    "collapsed": false
   },
   "outputs": [],
   "source": [
    "url = 'http://pds-rings.seti.org/volumes/COISS_2xxx/COISS_2001/index/index.tab'\n",
    "base_url = 'http://pds-rings.seti.org/volumes/COISS_2xxx/'"
   ]
  },
  {
   "cell_type": "code",
   "execution_count": 6,
   "metadata": {
    "collapsed": false
   },
   "outputs": [],
   "source": [
    "labelfname = os.path.join(HOME, 'data/ciss/index.lbl')\n",
    "tabfname = os.path.join(HOME, 'data/ciss/index.tab')"
   ]
  },
  {
   "cell_type": "code",
   "execution_count": 8,
   "metadata": {
    "collapsed": false,
    "scrolled": true
   },
   "outputs": [],
   "source": [
    "df = pd.read_csv(tabfname, sep=',', skipinitialspace=True, header=None)"
   ]
  },
  {
   "cell_type": "code",
   "execution_count": 9,
   "metadata": {
    "collapsed": false
   },
   "outputs": [
    {
     "name": "stdout",
     "output_type": "stream",
     "text": [
      "<class 'pandas.core.frame.DataFrame'>\n",
      "Int64Index: 3745 entries, 0 to 3744\n",
      "Columns: 139 entries, 0 to 138\n",
      "dtypes: float64(64), int64(25), object(50)\n",
      "memory usage: 4.0+ MB\n"
     ]
    }
   ],
   "source": [
    "df.info()"
   ]
  },
  {
   "cell_type": "markdown",
   "metadata": {},
   "source": [
    "# Parsing label file"
   ]
  },
  {
   "cell_type": "code",
   "execution_count": 10,
   "metadata": {
    "collapsed": true
   },
   "outputs": [],
   "source": [
    "def tokenize(line):\n",
    "    tokens = line.split('=')\n",
    "    return [i.strip() for i in tokens]"
   ]
  },
  {
   "cell_type": "code",
   "execution_count": 11,
   "metadata": {
    "collapsed": false
   },
   "outputs": [],
   "source": [
    "class PDSColumn:\n",
    "    def __init__(self, buffer):\n",
    "        d = {}\n",
    "        i = 0\n",
    "        for line in buffer:\n",
    "            if i > 10:\n",
    "                break\n",
    "            tokens = tokenize(line)\n",
    "            if tokens[0] == 'OBJECT':\n",
    "                continue\n",
    "            elif tokens[0] == 'END_OBJECT':\n",
    "                break\n",
    "            try:\n",
    "                d[tokens[0].strip()] = tokens[1].strip()\n",
    "            except IndexError:\n",
    "                continue\n",
    "            i += 1\n",
    "        self.d = d"
   ]
  },
  {
   "cell_type": "code",
   "execution_count": 12,
   "metadata": {
    "collapsed": true
   },
   "outputs": [],
   "source": [
    "class PDSLabelReader:\n",
    "    def __init__(self, fname):\n",
    "        f = open(fname)\n",
    "        # pre-parse the stuff away we don't need\n",
    "        while True:\n",
    "            tokens = tokenize(f.readline())\n",
    "            try:\n",
    "                if tokens[1] == 'COLUMN':\n",
    "                    break\n",
    "            except IndexError:\n",
    "                continue\n",
    "        self.f = f\n",
    "        self.parse_columns()\n",
    "        self.expand_columns()\n",
    "    def parse_columns(self):\n",
    "        columns = []\n",
    "        while True:\n",
    "            col = PDSColumn(self.f)\n",
    "            if len(col.d) != 0:\n",
    "                columns.append(col)\n",
    "            else:\n",
    "                break\n",
    "        self.columns = columns\n",
    "    def expand_columns(self):\n",
    "        final_cols = []\n",
    "        for pdscol in self.columns:\n",
    "            dic = pdscol.d\n",
    "            if 'ITEMS' in dic:\n",
    "                no_items = int(dic['ITEMS'])\n",
    "                for i in range(no_items):\n",
    "                    final_cols.append(\"{}_{}\".format(dic['NAME'],i))\n",
    "            else:\n",
    "                final_cols.append(dic['NAME'])\n",
    "        self.final_cols = final_cols\n",
    "labelfile = PDSLabelReader(labelfname)\n",
    "df.columns = labelfile.final_cols"
   ]
  },
  {
   "cell_type": "code",
   "execution_count": 13,
   "metadata": {
    "collapsed": true
   },
   "outputs": [],
   "source": [
    "def map_string_to_bool(x):\n",
    "    if x.strip() == 'YES':\n",
    "        return True\n",
    "    else:\n",
    "        return False"
   ]
  },
  {
   "cell_type": "code",
   "execution_count": 14,
   "metadata": {
    "collapsed": false
   },
   "outputs": [],
   "source": [
    "df.RINGS_FLAG = df.RINGS_FLAG.map(map_string_to_bool)"
   ]
  },
  {
   "cell_type": "code",
   "execution_count": 15,
   "metadata": {
    "collapsed": true
   },
   "outputs": [],
   "source": [
    "rings = df[df.RINGS_FLAG]"
   ]
  },
  {
   "cell_type": "code",
   "execution_count": 16,
   "metadata": {
    "collapsed": false
   },
   "outputs": [
    {
     "data": {
      "text/plain": [
       "SATURN                      2935\n",
       "SKY                           43\n",
       "EPIMETHEUS                     7\n",
       "ATLAS                          7\n",
       "ENCELADUS                      7\n",
       "JANUS                          6\n",
       "PANDORA                        6\n",
       "PROMETHEUS                     5\n",
       "DIONE                          3\n",
       "CALYPSO                        2\n",
       "HELENE                         1\n",
       "dtype: int64"
      ]
     },
     "execution_count": 16,
     "metadata": {},
     "output_type": "execute_result"
    }
   ],
   "source": [
    "rings.TARGET_NAME.value_counts()"
   ]
  },
  {
   "cell_type": "code",
   "execution_count": 86,
   "metadata": {
    "collapsed": false
   },
   "outputs": [],
   "source": [
    "s = str(res.read())"
   ]
  },
  {
   "cell_type": "code",
   "execution_count": 87,
   "metadata": {
    "collapsed": false
   },
   "outputs": [],
   "source": [
    "from html.parser import HTMLParser"
   ]
  },
  {
   "cell_type": "code",
   "execution_count": 93,
   "metadata": {
    "collapsed": false
   },
   "outputs": [],
   "source": [
    "class MyHTMLParser(HTMLParser):\n",
    "    pdfs = []\n",
    "    def handle_data(self, data):\n",
    "        if data.endswith('.pdf'):\n",
    "            self.pdfs.append(data)\n",
    "parser = MyHTMLParser()\n",
    "parser.feed(s)"
   ]
  },
  {
   "cell_type": "code",
   "execution_count": 103,
   "metadata": {
    "collapsed": false
   },
   "outputs": [],
   "source": [
    "from urllib.request import urlretrieve\n",
    "import sys\n",
    "def report(blocknr, blocksize, size):\n",
    "    current = blocknr*blocksize\n",
    "    sys.stdout.write(\"\\r{0:.2f}%\".format(100.0*current/size))\n",
    "\n",
    "def downloadFile(url):\n",
    "    print(\"\\n\",url)\n",
    "    fname = url.split('/')[-1]\n",
    "    print(fname)\n",
    "    urlretrieve(url, fname, report)"
   ]
  },
  {
   "cell_type": "code",
   "execution_count": 106,
   "metadata": {
    "collapsed": false
   },
   "outputs": [
    {
     "name": "stdout",
     "output_type": "stream",
     "text": [
      "\n",
      " http://lasp.colorado.edu/media/projects/workshops/2014planetaryrings/Presentations/Albers-NewMoonInducedStructure.pdf\n",
      "Albers-NewMoonInducedStructure.pdf\n",
      "100.13%\n",
      " http://lasp.colorado.edu/media/projects/workshops/2014planetaryrings/Presentations/Becker-MeasuringSubCentimeterParticles.pdf\n",
      "Becker-MeasuringSubCentimeterParticles.pdf\n",
      "100.01%\n",
      " http://lasp.colorado.edu/media/projects/workshops/2014planetaryrings/Presentations/Bloom-HousekeepingAnnouncement.pdf\n",
      "Bloom-HousekeepingAnnouncement.pdf\n",
      "100.41%\n",
      " http://lasp.colorado.edu/media/projects/workshops/2014planetaryrings/Presentations/Bradley-UVISReflectanceSpectraComparison.pdf\n",
      "Bradley-UVISReflectanceSpectraComparison.pdf\n",
      "100.33%\n",
      " http://lasp.colorado.edu/media/projects/workshops/2014planetaryrings/Presentations/Brooks-TowardsUnderstandingThermalThroughput.pdf\n",
      "Brooks-TowardsUnderstandingThermalThroughput.pdf\n",
      "100.03%\n",
      " http://lasp.colorado.edu/media/projects/workshops/2014planetaryrings/Presentations/Colwell-Studying_Sizes_and_Shapes.pdf\n",
      "Colwell-Studying_Sizes_and_Shapes.pdf\n",
      "100.08%\n",
      " http://lasp.colorado.edu/media/projects/workshops/2014planetaryrings/Presentations/Crary-SaturnsOtherRingCurrent.pdf\n",
      "Crary-SaturnsOtherRingCurrent.pdf\n",
      "100.27%\n",
      " http://lasp.colorado.edu/media/projects/workshops/2014planetaryrings/Presentations/Cuzzi-SaturnsFRingCore.pdf\n",
      "Cuzzi-SaturnsFRingCore.pdf\n",
      "100.02%\n",
      " http://lasp.colorado.edu/media/projects/workshops/2014planetaryrings/Presentations/Deau-ConstrainingMicroMacroCRing.pdf\n",
      "Deau-ConstrainingMicroMacroCRing.pdf\n",
      "100.04%\n",
      " http://lasp.colorado.edu/media/projects/workshops/2014planetaryrings/Presentations/ElMoutamid-Chariklo.pdf\n",
      "ElMoutamid-Chariklo.pdf\n",
      "100.08%\n",
      " http://lasp.colorado.edu/media/projects/workshops/2014planetaryrings/Presentations/Esposito-PredatorPreyModel.pdf\n",
      "Esposito-PredatorPreyModel.pdf\n",
      "100.36%\n",
      " http://lasp.colorado.edu/media/projects/workshops/2014planetaryrings/Presentations/Estrada-EvolutionOfStructureComposition.pdf\n",
      "Estrada-EvolutionOfStructureComposition.pdf\n",
      "100.28%\n",
      " http://lasp.colorado.edu/media/projects/workshops/2014planetaryrings/Presentations/EvansforMurray_GravitationalCollisionalProcesses.pdf\n",
      "EvansforMurray_GravitationalCollisionalProcesses.pdf\n",
      "100.01%\n",
      " http://lasp.colorado.edu/media/projects/workshops/2014planetaryrings/Presentations/French_Richard-DecipheringEmbeddedWave.pdf\n",
      "French_Richard-DecipheringEmbeddedWave.pdf\n",
      "100.14%\n",
      " http://lasp.colorado.edu/media/projects/workshops/2014planetaryrings/Presentations/French_Robert-AnalysisOfRingClumps.pdf\n",
      "French_Robert-AnalysisOfRingClumps.pdf\n",
      "100.25%\n",
      " http://lasp.colorado.edu/media/projects/workshops/2014planetaryrings/Presentations/Gordon-OPUS.pdf\n",
      "Gordon-OPUS.pdf\n",
      "100.08%\n",
      " http://lasp.colorado.edu/media/projects/workshops/2014planetaryrings/Presentations/Harbison-StellarOccultationsMeasurements.pdf\n",
      "Harbison-StellarOccultationsMeasurements.pdf\n",
      "100.34%\n",
      " http://lasp.colorado.edu/media/projects/workshops/2014planetaryrings/Presentations/Hedman-FewThingsDRing.pdf\n",
      "Hedman-FewThingsDRing.pdf\n",
      "100.03%\n",
      " http://lasp.colorado.edu/media/projects/workshops/2014planetaryrings/Presentations/Hsu-UranusDustyRings.pdf\n",
      "Hsu-UranusDustyRings.pdf\n",
      "100.08%\n",
      " http://lasp.colorado.edu/media/projects/workshops/2014planetaryrings/Presentations/Hyodo-CollisionsBetweenGravitationalAggregates.pdf\n",
      "Hyodo-CollisionsBetweenGravitationalAggregates.pdf\n",
      "100.01%\n",
      " http://lasp.colorado.edu/media/projects/workshops/2014planetaryrings/Presentations/Hyodo-Satellite_formation_from_C-P_disks.pdf\n",
      "Hyodo-Satellite_formation_from_C-P_disks.pdf\n",
      "100.09%\n",
      " http://lasp.colorado.edu/media/projects/workshops/2014planetaryrings/Presentations/Jerousek-Small_Particle_Population.pdf\n",
      "Jerousek-Small_Particle_Population.pdf\n",
      "100.17%\n",
      " http://lasp.colorado.edu/media/projects/workshops/2014planetaryrings/Presentations/McGhee-French-StandingWave.pdf\n",
      "McGhee-French-StandingWave.pdf\n",
      "100.08%\n",
      " http://lasp.colorado.edu/media/projects/workshops/2014planetaryrings/Presentations/Morishima-CoolingDownOfARing.pdf\n",
      "Morishima-CoolingDownOfARing.pdf\n",
      "100.11%\n",
      " http://lasp.colorado.edu/media/projects/workshops/2014planetaryrings/Presentations/Nicholson-Kronoseismology_II.pdf\n",
      "Nicholson-Kronoseismology_II.pdf\n",
      "100.08%\n",
      " http://lasp.colorado.edu/media/projects/workshops/2014planetaryrings/Presentations/Nicholson-RingsWorkshopWrap-up.pdf\n",
      "Nicholson-RingsWorkshopWrap-up.pdf\n",
      "109.93%\n",
      " http://lasp.colorado.edu/media/projects/workshops/2014planetaryrings/Presentations/Pilorz_ThermalTransportBRing.pdf\n",
      "Pilorz_ThermalTransportBRing.pdf\n",
      "100.28%\n",
      " http://lasp.colorado.edu/media/projects/workshops/2014planetaryrings/Presentations/Rehnberg-FeaturesARingDensityWaves.pdf\n",
      "Rehnberg-FeaturesARingDensityWaves.pdf\n",
      "100.26%\n",
      " http://lasp.colorado.edu/media/projects/workshops/2014planetaryrings/Presentations/Robbins-ParticleClustering.pdf\n",
      "Robbins-ParticleClustering.pdf\n",
      "100.00%\n",
      " http://lasp.colorado.edu/media/projects/workshops/2014planetaryrings/Presentations/Scharringhausen-UnveilingSaturnsFRing.pdf\n",
      "Scharringhausen-UnveilingSaturnsFRing.pdf\n",
      "100.13%\n",
      " http://lasp.colorado.edu/media/projects/workshops/2014planetaryrings/Presentations/Spilker-10-YearCassini.pdf\n",
      "Spilker-10-YearCassini.pdf\n",
      "100.01%\n",
      " http://lasp.colorado.edu/media/projects/workshops/2014planetaryrings/Presentations/Sremcevic_PropellersInSaturnsRings.pdf\n",
      "Sremcevic_PropellersInSaturnsRings.pdf\n",
      "100.13%\n",
      " http://lasp.colorado.edu/media/projects/workshops/2014planetaryrings/Presentations/Sremcevic-daphnis_wandering.pdf\n",
      "Sremcevic-daphnis_wandering.pdf\n",
      "100.62%\n",
      " http://lasp.colorado.edu/media/projects/workshops/2014planetaryrings/Presentations/Stewart-OriginEccentricNarrowRings.pdf\n",
      "Stewart-OriginEccentricNarrowRings.pdf\n",
      "100.14%\n",
      " http://lasp.colorado.edu/media/projects/workshops/2014planetaryrings/Presentations/Tajeddine_KeelerGapDaphnis.pdf\n",
      "Tajeddine_KeelerGapDaphnis.pdf\n",
      "100.30%\n",
      " http://lasp.colorado.edu/media/projects/workshops/2014planetaryrings/Presentations/Tiscareno_OrbitEvolutionDiskEmbeddedMasses.pdf\n",
      "Tiscareno_OrbitEvolutionDiskEmbeddedMasses.pdf\n",
      "100.07%\n",
      " http://lasp.colorado.edu/media/projects/workshops/2014planetaryrings/Presentations/Tiscareno_PlanetaryRingSystemsBook.pdf\n",
      "Tiscareno_PlanetaryRingSystemsBook.pdf\n",
      "103.67%\n",
      " http://lasp.colorado.edu/media/projects/workshops/2014planetaryrings/Presentations/Yasui-Gravitational_Accretion_of_Particles.pdf\n",
      "Yasui-Gravitational_Accretion_of_Particles.pdf\n",
      "100.49%\n",
      " http://lasp.colorado.edu/media/projects/workshops/2014planetaryrings/Presentations/Ye-DustImpactSignalsRPWS.pdf\n",
      "Ye-DustImpactSignalsRPWS.pdf\n",
      "100.05%\n",
      " http://lasp.colorado.edu/media/projects/workshops/2014planetaryrings/Presentations/Zhang-CleaningUpSaturnsRings.pdf\n",
      "Zhang-CleaningUpSaturnsRings.pdf\n",
      "100.03%"
     ]
    }
   ],
   "source": [
    "for url in parser.pdfs:\n",
    "    dlurl = \"http://lasp.colorado.edu/media/projects/workshops/2014planetaryrings/Presentations/\"\n",
    "    downloadFile(dlurl + url)"
   ]
  },
  {
   "cell_type": "markdown",
   "metadata": {
    "collapsed": true
   },
   "source": [
    "# Using JSON"
   ]
  },
  {
   "cell_type": "code",
   "execution_count": 185,
   "metadata": {
    "collapsed": true
   },
   "outputs": [],
   "source": [
    "import json"
   ]
  },
  {
   "cell_type": "code",
   "execution_count": 186,
   "metadata": {
    "collapsed": false
   },
   "outputs": [
    {
     "data": {
      "text/plain": [
       "'2.0.9'"
      ]
     },
     "execution_count": 186,
     "metadata": {},
     "output_type": "execute_result"
    }
   ],
   "source": [
    "json.__version__"
   ]
  },
  {
   "cell_type": "code",
   "execution_count": 5,
   "metadata": {
    "collapsed": false
   },
   "outputs": [],
   "source": [
    "url = 'http://pds-rings-tools.seti.org/opus/api/files.json?&primaryfilespec=N1695760475_1'"
   ]
  },
  {
   "cell_type": "code",
   "execution_count": 12,
   "metadata": {
    "collapsed": false
   },
   "outputs": [],
   "source": [
    "from urllib.request import urlopen"
   ]
  },
  {
   "cell_type": "code",
   "execution_count": 22,
   "metadata": {
    "collapsed": false
   },
   "outputs": [
    {
     "data": {
      "text/plain": [
       "'{\"data\": {\"S_IMG_CO_ISS_1695760475_N\": {\"RAW_IMAGE\": [\"http://pds-rings.seti.org/volumes/COISS_2xxx/COISS_2069/data/1695427520_1695761375/N1695760475_1.LBL\", \"http://pds-rings.seti.org/volumes/COISS_2xxx/COISS_2069/data/1695427520_1695761375/N1695760475_1.IMG\", \"http://pds-rings.seti.org/volumes/COISS_2xxx//COISS_2069/data/1695427520_1695761375/N1695760475_1.IMG\", \"http://pds-rings.seti.org/volumes/COISS_2069/LABEL/TLMTAB.FMT\", \"http://pds-rings.seti.org/volumes/COISS_2069/LABEL/PREFIX3.FMT\"], \"CALIBRATED\": [\"http://pds-rings.seti.org/volumes/COISS_2xxx/COISS_2069/LABEL/TLMTAB.FMT\", \"http://pds-rings.seti.org/volumes/COISS_2xxx/COISS_2069/LABEL/PREFIX3.FMT\", \"http://pds-rings.seti.org/derived/COISS_2xxx/COISS_2069/data/1695427520_1695761375/N1695760475_1_CALIB.LBL\", \"http://pds-rings.seti.org/derived/COISS_2xxx/COISS_2069/data/1695427520_1695761375/N1695760475_1_CALIB.IMG\", \"http://pds-rings.seti.org/derived/COISS_2xxx//COISS_2069/data/1695427520_1695761375/N1695760475_1_CALIB.IMG\"]}}}'"
      ]
     },
     "execution_count": 22,
     "metadata": {},
     "output_type": "execute_result"
    }
   ],
   "source": [
    "urlopen(url).read().decode()"
   ]
  },
  {
   "cell_type": "code",
   "execution_count": 190,
   "metadata": {
    "collapsed": false
   },
   "outputs": [],
   "source": [
    "import json\n",
    "from urllib.request import urlopen\n",
    "from urllib.parse import urlparse\n",
    "\n",
    "class OPUSImage(object):\n",
    "\n",
    "  def __init__(self, jsonlist):\n",
    "    self.jsonlist = jsonlist\n",
    "    for item in jsonlist:\n",
    "      parsed = urlparse(item)\n",
    "      if '//' in parsed.path:\n",
    "        continue\n",
    "      if item.upper().endswith(\".LBL\"):\n",
    "        self.label_url = item\n",
    "      elif item.upper().endswith('.IMG'):\n",
    "        self.image_url = item\n",
    "  def __repr__(self):\n",
    "    s = \"Label:\\n{}\\nImage:\\n{}\".format(self.label_url,\n",
    "                                      self.image_url)\n",
    "    return s\n",
    "  \n",
    "class OPUSObsID(object):\n",
    "\n",
    "  def __init__(self, jsondic):\n",
    "    self.jsondic = jsondic\n",
    "    self.raw = OPUSImage(jsondic['RAW_IMAGE'])\n",
    "    self.calib = OPUSImage(jsondic['CALIBRATED'])\n",
    "\n",
    "  def __call__(self):\n",
    "    s = \"Raw:\\n{}\\nCalibrated:\\n{}\".format(self.raw, self.calib)\n",
    "    return s\n",
    "\n",
    "  def __repr__(self):\n",
    "    return self.__call__()\n",
    "\n",
    "  \n",
    "class OPUS(object):\n",
    "  scheme = 'http'\n",
    "  netloc = 'pds-rings.seti.org'\n",
    "  base_api = '/opus/api'\n",
    "\n",
    "  def __init__(self, url):\n",
    "    self.data = json.loads(urlopen(url).read().decode())['data']\n",
    "    "
   ]
  },
  {
   "cell_type": "code",
   "execution_count": 135,
   "metadata": {
    "collapsed": false,
    "scrolled": false
   },
   "outputs": [
    {
     "name": "stdout",
     "output_type": "stream",
     "text": [
      "ParseResult(scheme='http', netloc='pds-rings.seti.org', path='/volumes/COISS_2xxx/COISS_2017/data/1512175979_1512194653/N1512191062_1.LBL', params='', query='', fragment='')\n",
      "ParseResult(scheme='http', netloc='pds-rings.seti.org', path='/volumes/COISS_2xxx/COISS_2017/data/1512175979_1512194653/N1512191062_1.IMG', params='', query='', fragment='')\n",
      "ParseResult(scheme='http', netloc='pds-rings.seti.org', path='/volumes/COISS_2xxx//COISS_2017/data/1512175979_1512194653/N1512191062_1.IMG', params='', query='', fragment='')\n",
      "ParseResult(scheme='http', netloc='pds-rings.seti.org', path='/derived/COISS_2xxx/COISS_2017/LABEL/TLMTAB.FMT', params='', query='', fragment='')\n",
      "ParseResult(scheme='http', netloc='pds-rings.seti.org', path='/derived/COISS_2xxx/COISS_2017/LABEL/PREFIX3.FMT', params='', query='', fragment='')\n"
     ]
    }
   ],
   "source": [
    "for i in imgdata['raw_image'.upper()]:\n",
    "  print(urlparse(i))"
   ]
  },
  {
   "cell_type": "code",
   "execution_count": 86,
   "metadata": {
    "collapsed": false
   },
   "outputs": [
    {
     "data": {
      "text/plain": [
       "'http://pds-rings-tools.seti.org/opus/api/image/small/S_IMG_CO_ISS_1695760475_N.html'"
      ]
     },
     "execution_count": 86,
     "metadata": {},
     "output_type": "execute_result"
    }
   ],
   "source": [
    "url"
   ]
  },
  {
   "cell_type": "code",
   "execution_count": 87,
   "metadata": {
    "collapsed": false
   },
   "outputs": [],
   "source": [
    "from IPython.display import HTML"
   ]
  },
  {
   "cell_type": "code",
   "execution_count": 91,
   "metadata": {
    "collapsed": false
   },
   "outputs": [
    {
     "data": {
      "text/html": [
       "<body>\n",
       "\n",
       "\n",
       "\t<li><img  id = \"thumb__\"\n",
       "\n",
       "        \n",
       "\n",
       "            src = \"http://pds-rings.seti.org/browse/COISS_2xxx/COISS_2069/data/1695427520_1695761375/N1695760475_1_thumb.jpg\">\n",
       "\n",
       "        \n",
       "    </li>\n",
       "\n",
       "\n",
       "\n",
       "</body>"
      ],
      "text/plain": [
       "<IPython.core.display.HTML object>"
      ]
     },
     "execution_count": 91,
     "metadata": {},
     "output_type": "execute_result"
    }
   ],
   "source": [
    "HTML(url)"
   ]
  },
  {
   "cell_type": "code",
   "execution_count": 103,
   "metadata": {
    "collapsed": false
   },
   "outputs": [],
   "source": [
    "url = 'http://pds-rings-tools.seti.org/opus/api/files.json?&target=S+RINGS&instrumentid=Cassini+ISS&projectedradialresolution1=&projectedradialresolution2=0.5'"
   ]
  },
  {
   "cell_type": "code",
   "execution_count": 110,
   "metadata": {
    "collapsed": false
   },
   "outputs": [],
   "source": [
    "data = get_url(url)"
   ]
  },
  {
   "cell_type": "code",
   "execution_count": 198,
   "metadata": {
    "collapsed": false
   },
   "outputs": [
    {
     "name": "stdout",
     "output_type": "stream",
     "text": [
      "{'RAW_IMAGE': ['http://pds-rings.seti.org/volumes/COISS_2xxx/COISS_2017/data/1512175979_1512194653/N1512191062_1.LBL', 'http://pds-rings.seti.org/volumes/COISS_2xxx/COISS_2017/data/1512175979_1512194653/N1512191062_1.IMG', 'http://pds-rings.seti.org/volumes/COISS_2xxx//COISS_2017/data/1512175979_1512194653/N1512191062_1.IMG', 'http://pds-rings.seti.org/derived/COISS_2xxx/COISS_2017/LABEL/TLMTAB.FMT', 'http://pds-rings.seti.org/derived/COISS_2xxx/COISS_2017/LABEL/PREFIX3.FMT'], 'CALIBRATED': ['http://pds-rings.seti.org/volumes/COISS_2xxx/COISS_2017/LABEL/TLMTAB.FMT', 'http://pds-rings.seti.org/volumes/COISS_2xxx/COISS_2017/LABEL/PREFIX3.FMT', 'http://pds-rings.seti.org/derived/COISS_2xxx/COISS_2017/data/1512175979_1512194653/N1512191062_1_CALIB.LBL', 'http://pds-rings.seti.org/derived/COISS_2xxx/COISS_2017/data/1512175979_1512194653/N1512191062_1_CALIB.IMG', 'http://pds-rings.seti.org/derived/COISS_2xxx//COISS_2017/data/1512175979_1512194653/N1512191062_1_CALIB.IMG']}\n",
      "{'RAW_IMAGE': ['http://pds-rings.seti.org/volumes/COISS_2xxx/COISS_2047/data/1595302104_1595345092/N1595329125_1.LBL', 'http://pds-rings.seti.org/volumes/COISS_2xxx/COISS_2047/data/1595302104_1595345092/N1595329125_1.IMG', 'http://pds-rings.seti.org/volumes/COISS_2xxx//COISS_2047/data/1595302104_1595345092/N1595329125_1.IMG', 'http://pds-rings.seti.org/derived/COISS_2xxx/COISS_2047/LABEL/TLMTAB.FMT', 'http://pds-rings.seti.org/derived/COISS_2xxx/COISS_2047/LABEL/PREFIX3.FMT'], 'CALIBRATED': ['http://pds-rings.seti.org/volumes/COISS_2xxx/COISS_2047/LABEL/TLMTAB.FMT', 'http://pds-rings.seti.org/volumes/COISS_2xxx/COISS_2047/LABEL/PREFIX3.FMT', 'http://pds-rings.seti.org/derived/COISS_2xxx/COISS_2047/data/1595302104_1595345092/N1595329125_1_CALIB.LBL', 'http://pds-rings.seti.org/derived/COISS_2xxx/COISS_2047/data/1595302104_1595345092/N1595329125_1_CALIB.IMG', 'http://pds-rings.seti.org/derived/COISS_2xxx//COISS_2047/data/1595302104_1595345092/N1595329125_1_CALIB.IMG']}\n",
      "{'RAW_IMAGE': ['http://pds-rings.seti.org/volumes/COISS_2xxx/COISS_2047/data/1595780006_1595992894/N1595944266_1.LBL', 'http://pds-rings.seti.org/volumes/COISS_2xxx/COISS_2047/data/1595780006_1595992894/N1595944266_1.IMG', 'http://pds-rings.seti.org/volumes/COISS_2xxx//COISS_2047/data/1595780006_1595992894/N1595944266_1.IMG', 'http://pds-rings.seti.org/derived/COISS_2xxx/COISS_2047/LABEL/TLMTAB.FMT', 'http://pds-rings.seti.org/derived/COISS_2xxx/COISS_2047/LABEL/PREFIX3.FMT'], 'CALIBRATED': ['http://pds-rings.seti.org/volumes/COISS_2xxx/COISS_2047/LABEL/TLMTAB.FMT', 'http://pds-rings.seti.org/volumes/COISS_2xxx/COISS_2047/LABEL/PREFIX3.FMT', 'http://pds-rings.seti.org/derived/COISS_2xxx/COISS_2047/data/1595780006_1595992894/N1595944266_1_CALIB.LBL', 'http://pds-rings.seti.org/derived/COISS_2xxx/COISS_2047/data/1595780006_1595992894/N1595944266_1_CALIB.IMG', 'http://pds-rings.seti.org/derived/COISS_2xxx//COISS_2047/data/1595780006_1595992894/N1595944266_1_CALIB.IMG']}\n",
      "{'RAW_IMAGE': ['http://pds-rings.seti.org/volumes/COISS_2xxx/COISS_2047/data/1595302104_1595345092/N1595328693_1.LBL', 'http://pds-rings.seti.org/volumes/COISS_2xxx/COISS_2047/data/1595302104_1595345092/N1595328693_1.IMG', 'http://pds-rings.seti.org/volumes/COISS_2xxx//COISS_2047/data/1595302104_1595345092/N1595328693_1.IMG', 'http://pds-rings.seti.org/derived/COISS_2xxx/COISS_2047/LABEL/TLMTAB.FMT', 'http://pds-rings.seti.org/derived/COISS_2xxx/COISS_2047/LABEL/PREFIX3.FMT'], 'CALIBRATED': ['http://pds-rings.seti.org/volumes/COISS_2xxx/COISS_2047/LABEL/TLMTAB.FMT', 'http://pds-rings.seti.org/volumes/COISS_2xxx/COISS_2047/LABEL/PREFIX3.FMT', 'http://pds-rings.seti.org/derived/COISS_2xxx/COISS_2047/data/1595302104_1595345092/N1595328693_1_CALIB.LBL', 'http://pds-rings.seti.org/derived/COISS_2xxx/COISS_2047/data/1595302104_1595345092/N1595328693_1_CALIB.IMG', 'http://pds-rings.seti.org/derived/COISS_2xxx//COISS_2047/data/1595302104_1595345092/N1595328693_1_CALIB.IMG']}\n",
      "{'RAW_IMAGE': ['http://pds-rings.seti.org/volumes/COISS_2xxx/COISS_2034/data/1563854581_1563879674/W1563857873_1.LBL', 'http://pds-rings.seti.org/volumes/COISS_2xxx/COISS_2034/data/1563854581_1563879674/W1563857873_1.IMG', 'http://pds-rings.seti.org/volumes/COISS_2xxx//COISS_2034/data/1563854581_1563879674/W1563857873_1.IMG', 'http://pds-rings.seti.org/derived/COISS_2xxx/COISS_2034/LABEL/TLMTAB.FMT', 'http://pds-rings.seti.org/derived/COISS_2xxx/COISS_2034/LABEL/PREFIX3.FMT'], 'CALIBRATED': ['http://pds-rings.seti.org/volumes/COISS_2xxx/COISS_2034/LABEL/TLMTAB.FMT', 'http://pds-rings.seti.org/volumes/COISS_2xxx/COISS_2034/LABEL/PREFIX3.FMT', 'http://pds-rings.seti.org/derived/COISS_2xxx/COISS_2034/data/1563854581_1563879674/W1563857873_1_CALIB.LBL', 'http://pds-rings.seti.org/derived/COISS_2xxx/COISS_2034/data/1563854581_1563879674/W1563857873_1_CALIB.IMG', 'http://pds-rings.seti.org/derived/COISS_2xxx//COISS_2034/data/1563854581_1563879674/W1563857873_1_CALIB.IMG']}\n",
      "{'RAW_IMAGE': ['http://pds-rings.seti.org/volumes/COISS_2xxx/COISS_2047/data/1595302104_1595345092/N1595328837_1.LBL', 'http://pds-rings.seti.org/volumes/COISS_2xxx/COISS_2047/data/1595302104_1595345092/N1595328837_1.IMG', 'http://pds-rings.seti.org/volumes/COISS_2xxx//COISS_2047/data/1595302104_1595345092/N1595328837_1.IMG', 'http://pds-rings.seti.org/derived/COISS_2xxx/COISS_2047/LABEL/TLMTAB.FMT', 'http://pds-rings.seti.org/derived/COISS_2xxx/COISS_2047/LABEL/PREFIX3.FMT'], 'CALIBRATED': ['http://pds-rings.seti.org/volumes/COISS_2xxx/COISS_2047/LABEL/TLMTAB.FMT', 'http://pds-rings.seti.org/volumes/COISS_2xxx/COISS_2047/LABEL/PREFIX3.FMT', 'http://pds-rings.seti.org/derived/COISS_2xxx/COISS_2047/data/1595302104_1595345092/N1595328837_1_CALIB.LBL', 'http://pds-rings.seti.org/derived/COISS_2xxx/COISS_2047/data/1595302104_1595345092/N1595328837_1_CALIB.IMG', 'http://pds-rings.seti.org/derived/COISS_2xxx//COISS_2047/data/1595302104_1595345092/N1595328837_1_CALIB.IMG']}\n",
      "{'RAW_IMAGE': ['http://pds-rings.seti.org/volumes/COISS_2xxx/COISS_2068/data/1683728008_1683934351/W1683902515_1.LBL', 'http://pds-rings.seti.org/volumes/COISS_2xxx/COISS_2068/data/1683728008_1683934351/W1683902515_1.IMG', 'http://pds-rings.seti.org/volumes/COISS_2xxx//COISS_2068/data/1683728008_1683934351/W1683902515_1.IMG', 'http://pds-rings.seti.org/derived/COISS_2xxx/COISS_2068/LABEL/TLMTAB.FMT', 'http://pds-rings.seti.org/derived/COISS_2xxx/COISS_2068/LABEL/PREFIX3.FMT'], 'CALIBRATED': ['http://pds-rings.seti.org/volumes/COISS_2xxx/COISS_2068/LABEL/TLMTAB.FMT', 'http://pds-rings.seti.org/volumes/COISS_2xxx/COISS_2068/LABEL/PREFIX3.FMT', 'http://pds-rings.seti.org/derived/COISS_2xxx/COISS_2068/data/1683728008_1683934351/W1683902515_1_CALIB.LBL', 'http://pds-rings.seti.org/derived/COISS_2xxx/COISS_2068/data/1683728008_1683934351/W1683902515_1_CALIB.IMG', 'http://pds-rings.seti.org/derived/COISS_2xxx//COISS_2068/data/1683728008_1683934351/W1683902515_1_CALIB.IMG']}\n",
      "{'RAW_IMAGE': ['http://pds-rings.seti.org/volumes/COISS_2xxx/COISS_2047/data/1595780006_1595992894/N1595944414_1.LBL', 'http://pds-rings.seti.org/volumes/COISS_2xxx/COISS_2047/data/1595780006_1595992894/N1595944414_1.IMG', 'http://pds-rings.seti.org/volumes/COISS_2xxx//COISS_2047/data/1595780006_1595992894/N1595944414_1.IMG', 'http://pds-rings.seti.org/derived/COISS_2xxx/COISS_2047/LABEL/TLMTAB.FMT', 'http://pds-rings.seti.org/derived/COISS_2xxx/COISS_2047/LABEL/PREFIX3.FMT'], 'CALIBRATED': ['http://pds-rings.seti.org/volumes/COISS_2xxx/COISS_2047/LABEL/TLMTAB.FMT', 'http://pds-rings.seti.org/volumes/COISS_2xxx/COISS_2047/LABEL/PREFIX3.FMT', 'http://pds-rings.seti.org/derived/COISS_2xxx/COISS_2047/data/1595780006_1595992894/N1595944414_1_CALIB.LBL', 'http://pds-rings.seti.org/derived/COISS_2xxx/COISS_2047/data/1595780006_1595992894/N1595944414_1_CALIB.IMG', 'http://pds-rings.seti.org/derived/COISS_2xxx//COISS_2047/data/1595780006_1595992894/N1595944414_1_CALIB.IMG']}\n",
      "{'RAW_IMAGE': ['http://pds-rings.seti.org/volumes/COISS_2xxx/COISS_2047/data/1595780006_1595992894/N1595944554_1.LBL', 'http://pds-rings.seti.org/volumes/COISS_2xxx/COISS_2047/data/1595780006_1595992894/N1595944554_1.IMG', 'http://pds-rings.seti.org/volumes/COISS_2xxx//COISS_2047/data/1595780006_1595992894/N1595944554_1.IMG', 'http://pds-rings.seti.org/derived/COISS_2xxx/COISS_2047/LABEL/TLMTAB.FMT', 'http://pds-rings.seti.org/derived/COISS_2xxx/COISS_2047/LABEL/PREFIX3.FMT'], 'CALIBRATED': ['http://pds-rings.seti.org/volumes/COISS_2xxx/COISS_2047/LABEL/TLMTAB.FMT', 'http://pds-rings.seti.org/volumes/COISS_2xxx/COISS_2047/LABEL/PREFIX3.FMT', 'http://pds-rings.seti.org/derived/COISS_2xxx/COISS_2047/data/1595780006_1595992894/N1595944554_1_CALIB.LBL', 'http://pds-rings.seti.org/derived/COISS_2xxx/COISS_2047/data/1595780006_1595992894/N1595944554_1_CALIB.IMG', 'http://pds-rings.seti.org/derived/COISS_2xxx//COISS_2047/data/1595780006_1595992894/N1595944554_1_CALIB.IMG']}\n",
      "{'RAW_IMAGE': ['http://pds-rings.seti.org/volumes/COISS_2xxx/COISS_2047/data/1595780006_1595992894/N1595944336_1.LBL', 'http://pds-rings.seti.org/volumes/COISS_2xxx/COISS_2047/data/1595780006_1595992894/N1595944336_1.IMG', 'http://pds-rings.seti.org/volumes/COISS_2xxx//COISS_2047/data/1595780006_1595992894/N1595944336_1.IMG', 'http://pds-rings.seti.org/derived/COISS_2xxx/COISS_2047/LABEL/TLMTAB.FMT', 'http://pds-rings.seti.org/derived/COISS_2xxx/COISS_2047/LABEL/PREFIX3.FMT'], 'CALIBRATED': ['http://pds-rings.seti.org/volumes/COISS_2xxx/COISS_2047/LABEL/TLMTAB.FMT', 'http://pds-rings.seti.org/volumes/COISS_2xxx/COISS_2047/LABEL/PREFIX3.FMT', 'http://pds-rings.seti.org/derived/COISS_2xxx/COISS_2047/data/1595780006_1595992894/N1595944336_1_CALIB.LBL', 'http://pds-rings.seti.org/derived/COISS_2xxx/COISS_2047/data/1595780006_1595992894/N1595944336_1_CALIB.IMG', 'http://pds-rings.seti.org/derived/COISS_2xxx//COISS_2047/data/1595780006_1595992894/N1595944336_1_CALIB.IMG']}\n",
      "{'RAW_IMAGE': ['http://pds-rings.seti.org/volumes/COISS_2xxx/COISS_2047/data/1595302104_1595345092/N1595336241_1.LBL', 'http://pds-rings.seti.org/volumes/COISS_2xxx/COISS_2047/data/1595302104_1595345092/N1595336241_1.IMG', 'http://pds-rings.seti.org/volumes/COISS_2xxx//COISS_2047/data/1595302104_1595345092/N1595336241_1.IMG', 'http://pds-rings.seti.org/derived/COISS_2xxx/COISS_2047/LABEL/TLMTAB.FMT', 'http://pds-rings.seti.org/derived/COISS_2xxx/COISS_2047/LABEL/PREFIX3.FMT'], 'CALIBRATED': ['http://pds-rings.seti.org/volumes/COISS_2xxx/COISS_2047/LABEL/TLMTAB.FMT', 'http://pds-rings.seti.org/volumes/COISS_2xxx/COISS_2047/LABEL/PREFIX3.FMT', 'http://pds-rings.seti.org/derived/COISS_2xxx/COISS_2047/data/1595302104_1595345092/N1595336241_1_CALIB.LBL', 'http://pds-rings.seti.org/derived/COISS_2xxx/COISS_2047/data/1595302104_1595345092/N1595336241_1_CALIB.IMG', 'http://pds-rings.seti.org/derived/COISS_2xxx//COISS_2047/data/1595302104_1595345092/N1595336241_1_CALIB.IMG']}\n",
      "{'RAW_IMAGE': ['http://pds-rings.seti.org/volumes/COISS_2xxx/COISS_2047/data/1595302104_1595345092/N1595328909_1.LBL', 'http://pds-rings.seti.org/volumes/COISS_2xxx/COISS_2047/data/1595302104_1595345092/N1595328909_1.IMG', 'http://pds-rings.seti.org/volumes/COISS_2xxx//COISS_2047/data/1595302104_1595345092/N1595328909_1.IMG', 'http://pds-rings.seti.org/derived/COISS_2xxx/COISS_2047/LABEL/TLMTAB.FMT', 'http://pds-rings.seti.org/derived/COISS_2xxx/COISS_2047/LABEL/PREFIX3.FMT'], 'CALIBRATED': ['http://pds-rings.seti.org/volumes/COISS_2xxx/COISS_2047/LABEL/TLMTAB.FMT', 'http://pds-rings.seti.org/volumes/COISS_2xxx/COISS_2047/LABEL/PREFIX3.FMT', 'http://pds-rings.seti.org/derived/COISS_2xxx/COISS_2047/data/1595302104_1595345092/N1595328909_1_CALIB.LBL', 'http://pds-rings.seti.org/derived/COISS_2xxx/COISS_2047/data/1595302104_1595345092/N1595328909_1_CALIB.IMG', 'http://pds-rings.seti.org/derived/COISS_2xxx//COISS_2047/data/1595302104_1595345092/N1595328909_1_CALIB.IMG']}\n",
      "{'RAW_IMAGE': ['http://pds-rings.seti.org/volumes/COISS_2xxx/COISS_2034/data/1563854581_1563879674/W1563858060_1.LBL', 'http://pds-rings.seti.org/volumes/COISS_2xxx/COISS_2034/data/1563854581_1563879674/W1563858060_1.IMG', 'http://pds-rings.seti.org/volumes/COISS_2xxx//COISS_2034/data/1563854581_1563879674/W1563858060_1.IMG', 'http://pds-rings.seti.org/derived/COISS_2xxx/COISS_2034/LABEL/TLMTAB.FMT', 'http://pds-rings.seti.org/derived/COISS_2xxx/COISS_2034/LABEL/PREFIX3.FMT'], 'CALIBRATED': ['http://pds-rings.seti.org/volumes/COISS_2xxx/COISS_2034/LABEL/TLMTAB.FMT', 'http://pds-rings.seti.org/volumes/COISS_2xxx/COISS_2034/LABEL/PREFIX3.FMT', 'http://pds-rings.seti.org/derived/COISS_2xxx/COISS_2034/data/1563854581_1563879674/W1563858060_1_CALIB.LBL', 'http://pds-rings.seti.org/derived/COISS_2xxx/COISS_2034/data/1563854581_1563879674/W1563858060_1_CALIB.IMG', 'http://pds-rings.seti.org/derived/COISS_2xxx//COISS_2034/data/1563854581_1563879674/W1563858060_1_CALIB.IMG']}\n",
      "{'RAW_IMAGE': ['http://pds-rings.seti.org/volumes/COISS_2xxx/COISS_2047/data/1595302104_1595345092/N1595329053_1.LBL', 'http://pds-rings.seti.org/volumes/COISS_2xxx/COISS_2047/data/1595302104_1595345092/N1595329053_1.IMG', 'http://pds-rings.seti.org/volumes/COISS_2xxx//COISS_2047/data/1595302104_1595345092/N1595329053_1.IMG', 'http://pds-rings.seti.org/derived/COISS_2xxx/COISS_2047/LABEL/TLMTAB.FMT', 'http://pds-rings.seti.org/derived/COISS_2xxx/COISS_2047/LABEL/PREFIX3.FMT'], 'CALIBRATED': ['http://pds-rings.seti.org/volumes/COISS_2xxx/COISS_2047/LABEL/TLMTAB.FMT', 'http://pds-rings.seti.org/volumes/COISS_2xxx/COISS_2047/LABEL/PREFIX3.FMT', 'http://pds-rings.seti.org/derived/COISS_2xxx/COISS_2047/data/1595302104_1595345092/N1595329053_1_CALIB.LBL', 'http://pds-rings.seti.org/derived/COISS_2xxx/COISS_2047/data/1595302104_1595345092/N1595329053_1_CALIB.IMG', 'http://pds-rings.seti.org/derived/COISS_2xxx//COISS_2047/data/1595302104_1595345092/N1595329053_1_CALIB.IMG']}\n",
      "{'RAW_IMAGE': ['http://pds-rings.seti.org/volumes/COISS_2xxx/COISS_2047/data/1595302104_1595345092/N1595329197_1.LBL', 'http://pds-rings.seti.org/volumes/COISS_2xxx/COISS_2047/data/1595302104_1595345092/N1595329197_1.IMG', 'http://pds-rings.seti.org/volumes/COISS_2xxx//COISS_2047/data/1595302104_1595345092/N1595329197_1.IMG', 'http://pds-rings.seti.org/derived/COISS_2xxx/COISS_2047/LABEL/TLMTAB.FMT', 'http://pds-rings.seti.org/derived/COISS_2xxx/COISS_2047/LABEL/PREFIX3.FMT'], 'CALIBRATED': ['http://pds-rings.seti.org/volumes/COISS_2xxx/COISS_2047/LABEL/TLMTAB.FMT', 'http://pds-rings.seti.org/volumes/COISS_2xxx/COISS_2047/LABEL/PREFIX3.FMT', 'http://pds-rings.seti.org/derived/COISS_2xxx/COISS_2047/data/1595302104_1595345092/N1595329197_1_CALIB.LBL', 'http://pds-rings.seti.org/derived/COISS_2xxx/COISS_2047/data/1595302104_1595345092/N1595329197_1_CALIB.IMG', 'http://pds-rings.seti.org/derived/COISS_2xxx//COISS_2047/data/1595302104_1595345092/N1595329197_1_CALIB.IMG']}\n",
      "{'RAW_IMAGE': ['http://pds-rings.seti.org/volumes/COISS_2xxx/COISS_2017/data/1512175979_1512194653/W1512190938_1.LBL', 'http://pds-rings.seti.org/volumes/COISS_2xxx/COISS_2017/data/1512175979_1512194653/W1512190938_1.IMG', 'http://pds-rings.seti.org/volumes/COISS_2xxx//COISS_2017/data/1512175979_1512194653/W1512190938_1.IMG', 'http://pds-rings.seti.org/volumes/COISS_2017/LABEL/TLMTAB.FMT', 'http://pds-rings.seti.org/volumes/COISS_2017/LABEL/PREFIX3.FMT'], 'CALIBRATED': ['http://pds-rings.seti.org/volumes/COISS_2xxx/COISS_2017/LABEL/TLMTAB.FMT', 'http://pds-rings.seti.org/volumes/COISS_2xxx/COISS_2017/LABEL/PREFIX3.FMT', 'http://pds-rings.seti.org/derived/COISS_2xxx/COISS_2017/data/1512175979_1512194653/W1512190938_1_CALIB.LBL', 'http://pds-rings.seti.org/derived/COISS_2xxx/COISS_2017/data/1512175979_1512194653/W1512190938_1_CALIB.IMG', 'http://pds-rings.seti.org/derived/COISS_2xxx//COISS_2017/data/1512175979_1512194653/W1512190938_1_CALIB.IMG']}\n",
      "{'RAW_IMAGE': ['http://pds-rings.seti.org/volumes/COISS_2xxx/COISS_2047/data/1595302104_1595345092/N1595328765_1.LBL', 'http://pds-rings.seti.org/volumes/COISS_2xxx/COISS_2047/data/1595302104_1595345092/N1595328765_1.IMG', 'http://pds-rings.seti.org/volumes/COISS_2xxx//COISS_2047/data/1595302104_1595345092/N1595328765_1.IMG', 'http://pds-rings.seti.org/derived/COISS_2xxx/COISS_2047/LABEL/TLMTAB.FMT', 'http://pds-rings.seti.org/derived/COISS_2xxx/COISS_2047/LABEL/PREFIX3.FMT'], 'CALIBRATED': ['http://pds-rings.seti.org/volumes/COISS_2xxx/COISS_2047/LABEL/TLMTAB.FMT', 'http://pds-rings.seti.org/volumes/COISS_2xxx/COISS_2047/LABEL/PREFIX3.FMT', 'http://pds-rings.seti.org/derived/COISS_2xxx/COISS_2047/data/1595302104_1595345092/N1595328765_1_CALIB.LBL', 'http://pds-rings.seti.org/derived/COISS_2xxx/COISS_2047/data/1595302104_1595345092/N1595328765_1_CALIB.IMG', 'http://pds-rings.seti.org/derived/COISS_2xxx//COISS_2047/data/1595302104_1595345092/N1595328765_1_CALIB.IMG']}\n",
      "{'RAW_IMAGE': ['http://pds-rings.seti.org/volumes/COISS_2xxx/COISS_2034/data/1563854581_1563879674/W1563857545_1.LBL', 'http://pds-rings.seti.org/volumes/COISS_2xxx/COISS_2034/data/1563854581_1563879674/W1563857545_1.IMG', 'http://pds-rings.seti.org/volumes/COISS_2xxx//COISS_2034/data/1563854581_1563879674/W1563857545_1.IMG', 'http://pds-rings.seti.org/derived/COISS_2xxx/COISS_2034/LABEL/TLMTAB.FMT', 'http://pds-rings.seti.org/derived/COISS_2xxx/COISS_2034/LABEL/PREFIX3.FMT'], 'CALIBRATED': ['http://pds-rings.seti.org/volumes/COISS_2xxx/COISS_2034/LABEL/TLMTAB.FMT', 'http://pds-rings.seti.org/volumes/COISS_2xxx/COISS_2034/LABEL/PREFIX3.FMT', 'http://pds-rings.seti.org/derived/COISS_2xxx/COISS_2034/data/1563854581_1563879674/W1563857545_1_CALIB.LBL', 'http://pds-rings.seti.org/derived/COISS_2xxx/COISS_2034/data/1563854581_1563879674/W1563857545_1_CALIB.IMG', 'http://pds-rings.seti.org/derived/COISS_2xxx//COISS_2034/data/1563854581_1563879674/W1563857545_1_CALIB.IMG']}\n",
      "{'RAW_IMAGE': ['http://pds-rings.seti.org/volumes/COISS_2xxx/COISS_2047/data/1595780006_1595992894/N1595944484_1.LBL', 'http://pds-rings.seti.org/volumes/COISS_2xxx/COISS_2047/data/1595780006_1595992894/N1595944484_1.IMG', 'http://pds-rings.seti.org/volumes/COISS_2xxx//COISS_2047/data/1595780006_1595992894/N1595944484_1.IMG', 'http://pds-rings.seti.org/derived/COISS_2xxx/COISS_2047/LABEL/TLMTAB.FMT', 'http://pds-rings.seti.org/derived/COISS_2xxx/COISS_2047/LABEL/PREFIX3.FMT'], 'CALIBRATED': ['http://pds-rings.seti.org/volumes/COISS_2xxx/COISS_2047/LABEL/TLMTAB.FMT', 'http://pds-rings.seti.org/volumes/COISS_2xxx/COISS_2047/LABEL/PREFIX3.FMT', 'http://pds-rings.seti.org/derived/COISS_2xxx/COISS_2047/data/1595780006_1595992894/N1595944484_1_CALIB.LBL', 'http://pds-rings.seti.org/derived/COISS_2xxx/COISS_2047/data/1595780006_1595992894/N1595944484_1_CALIB.IMG', 'http://pds-rings.seti.org/derived/COISS_2xxx//COISS_2047/data/1595780006_1595992894/N1595944484_1_CALIB.IMG']}\n",
      "{'RAW_IMAGE': ['http://pds-rings.seti.org/volumes/COISS_2xxx/COISS_2047/data/1595302104_1595345092/N1595328621_1.LBL', 'http://pds-rings.seti.org/volumes/COISS_2xxx/COISS_2047/data/1595302104_1595345092/N1595328621_1.IMG', 'http://pds-rings.seti.org/volumes/COISS_2xxx//COISS_2047/data/1595302104_1595345092/N1595328621_1.IMG', 'http://pds-rings.seti.org/derived/COISS_2xxx/COISS_2047/LABEL/TLMTAB.FMT', 'http://pds-rings.seti.org/derived/COISS_2xxx/COISS_2047/LABEL/PREFIX3.FMT'], 'CALIBRATED': ['http://pds-rings.seti.org/volumes/COISS_2xxx/COISS_2047/LABEL/TLMTAB.FMT', 'http://pds-rings.seti.org/volumes/COISS_2xxx/COISS_2047/LABEL/PREFIX3.FMT', 'http://pds-rings.seti.org/derived/COISS_2xxx/COISS_2047/data/1595302104_1595345092/N1595328621_1_CALIB.LBL', 'http://pds-rings.seti.org/derived/COISS_2xxx/COISS_2047/data/1595302104_1595345092/N1595328621_1_CALIB.IMG', 'http://pds-rings.seti.org/derived/COISS_2xxx//COISS_2047/data/1595302104_1595345092/N1595328621_1_CALIB.IMG']}\n",
      "{'RAW_IMAGE': ['http://pds-rings.seti.org/volumes/COISS_2xxx/COISS_2034/data/1563633955_1563701709/N1563636983_1.LBL', 'http://pds-rings.seti.org/volumes/COISS_2xxx/COISS_2034/data/1563633955_1563701709/N1563636983_1.IMG', 'http://pds-rings.seti.org/volumes/COISS_2xxx//COISS_2034/data/1563633955_1563701709/N1563636983_1.IMG', 'http://pds-rings.seti.org/derived/COISS_2xxx/COISS_2034/LABEL/TLMTAB.FMT', 'http://pds-rings.seti.org/derived/COISS_2xxx/COISS_2034/LABEL/PREFIX3.FMT'], 'CALIBRATED': ['http://pds-rings.seti.org/volumes/COISS_2xxx/COISS_2034/LABEL/TLMTAB.FMT', 'http://pds-rings.seti.org/volumes/COISS_2xxx/COISS_2034/LABEL/PREFIX3.FMT', 'http://pds-rings.seti.org/derived/COISS_2xxx/COISS_2034/data/1563633955_1563701709/N1563636983_1_CALIB.LBL', 'http://pds-rings.seti.org/derived/COISS_2xxx/COISS_2034/data/1563633955_1563701709/N1563636983_1_CALIB.IMG', 'http://pds-rings.seti.org/derived/COISS_2xxx//COISS_2034/data/1563633955_1563701709/N1563636983_1_CALIB.IMG']}\n",
      "{'RAW_IMAGE': ['http://pds-rings.seti.org/volumes/COISS_2xxx/COISS_2047/data/1595302104_1595345092/N1595328981_1.LBL', 'http://pds-rings.seti.org/volumes/COISS_2xxx/COISS_2047/data/1595302104_1595345092/N1595328981_1.IMG', 'http://pds-rings.seti.org/volumes/COISS_2xxx//COISS_2047/data/1595302104_1595345092/N1595328981_1.IMG', 'http://pds-rings.seti.org/derived/COISS_2xxx/COISS_2047/LABEL/TLMTAB.FMT', 'http://pds-rings.seti.org/derived/COISS_2xxx/COISS_2047/LABEL/PREFIX3.FMT'], 'CALIBRATED': ['http://pds-rings.seti.org/volumes/COISS_2xxx/COISS_2047/LABEL/TLMTAB.FMT', 'http://pds-rings.seti.org/volumes/COISS_2xxx/COISS_2047/LABEL/PREFIX3.FMT', 'http://pds-rings.seti.org/derived/COISS_2xxx/COISS_2047/data/1595302104_1595345092/N1595328981_1_CALIB.LBL', 'http://pds-rings.seti.org/derived/COISS_2xxx/COISS_2047/data/1595302104_1595345092/N1595328981_1_CALIB.IMG', 'http://pds-rings.seti.org/derived/COISS_2xxx//COISS_2047/data/1595302104_1595345092/N1595328981_1_CALIB.IMG']}\n"
     ]
    }
   ],
   "source": [
    "for obsid, item in data.items():\n",
    "  "
   ]
  },
  {
   "cell_type": "code",
   "execution_count": 192,
   "metadata": {
    "collapsed": false
   },
   "outputs": [
    {
     "data": {
      "text/plain": [
       "'http://pds-rings.seti.org/volumes/COISS_2xxx/COISS_2017/data/1512175979_1512194653/N1512191062_1.LBL'"
      ]
     },
     "execution_count": 192,
     "metadata": {},
     "output_type": "execute_result"
    }
   ],
   "source": [
    "\n",
    "obsid.raw.label_url"
   ]
  },
  {
   "cell_type": "code",
   "execution_count": 189,
   "metadata": {
    "collapsed": false
   },
   "outputs": [
    {
     "data": {
      "text/plain": [
       "Raw:\n",
       "Label:\n",
       "http://pds-rings.seti.org/volumes/COISS_2xxx/COISS_2017/data/1512175979_1512194653/N1512191062_1.LBLImage:\n",
       "http://pds-rings.seti.org/volumes/COISS_2xxx/COISS_2017/data/1512175979_1512194653/N1512191062_1.IMG\n",
       "Calibrated:\n",
       "Label:\n",
       "http://pds-rings.seti.org/derived/COISS_2xxx/COISS_2017/data/1512175979_1512194653/N1512191062_1_CALIB.LBLImage:\n",
       "http://pds-rings.seti.org/derived/COISS_2xxx/COISS_2017/data/1512175979_1512194653/N1512191062_1_CALIB.IMG"
      ]
     },
     "execution_count": 189,
     "metadata": {},
     "output_type": "execute_result"
    }
   ],
   "source": [
    "obsid"
   ]
  },
  {
   "cell_type": "code",
   "execution_count": 177,
   "metadata": {
    "collapsed": false
   },
   "outputs": [
    {
     "name": "stdout",
     "output_type": "stream",
     "text": [
      "<class 'str'>\n"
     ]
    }
   ],
   "source": [
    "for item in obsid.raw.jsonlist:\n",
    "  if item.upper().endswith('.LBL'):\n",
    "    print(type(item))"
   ]
  },
  {
   "cell_type": "code",
   "execution_count": 147,
   "metadata": {
    "collapsed": false
   },
   "outputs": [
    {
     "data": {
      "text/plain": [
       "'http://pds-rings.seti.org/volumes/COISS_2xxx//COISS_2017/data/1512175979_1512194653/N1512191062_1.IMG'"
      ]
     },
     "execution_count": 147,
     "metadata": {},
     "output_type": "execute_result"
    }
   ],
   "source": [
    "obsid.raw.image_url"
   ]
  },
  {
   "cell_type": "code",
   "execution_count": 133,
   "metadata": {
    "collapsed": true
   },
   "outputs": [],
   "source": [
    "from urllib.parse import urlparse"
   ]
  },
  {
   "cell_type": "code",
   "execution_count": 138,
   "metadata": {
    "collapsed": true
   },
   "outputs": [],
   "source": [
    "from urllib.request import urlunparse"
   ]
  },
  {
   "cell_type": "code",
   "execution_count": 139,
   "metadata": {
    "collapsed": true
   },
   "outputs": [],
   "source": [
    "urlunparse?"
   ]
  },
  {
   "cell_type": "code",
   "execution_count": null,
   "metadata": {
    "collapsed": true
   },
   "outputs": [],
   "source": []
  }
 ],
 "metadata": {
  "kernelspec": {
   "display_name": "Python 3",
   "language": "python",
   "name": "python3"
  },
  "language_info": {
   "codemirror_mode": {
    "name": "ipython",
    "version": 3
   },
   "file_extension": ".py",
   "mimetype": "text/x-python",
   "name": "python",
   "nbconvert_exporter": "python",
   "pygments_lexer": "ipython3",
   "version": "3.4.3"
  }
 },
 "nbformat": 4,
 "nbformat_minor": 0
}
